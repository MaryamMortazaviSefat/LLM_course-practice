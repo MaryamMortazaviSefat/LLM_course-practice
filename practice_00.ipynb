{
  "nbformat": 4,
  "nbformat_minor": 0,
  "metadata": {
    "colab": {
      "provenance": [],
<<<<<<< HEAD
      "gpuType": "T4"
=======
      "gpuType": "T4",
      "include_colab_link": true
>>>>>>> 3ad88153a83e156acf1cc19a810547079df4f36e
    },
    "kernelspec": {
      "name": "python3",
      "display_name": "Python 3"
    },
    "language_info": {
      "name": "python"
    },
    "accelerator": "GPU",
    "widgets": {
      "application/vnd.jupyter.widget-state+json": {
<<<<<<< HEAD
        "e8797221b0c14252b228e74bc46ec30f": {
=======
        "82832ab13809476392b6f4864823ca3e": {
>>>>>>> 3ad88153a83e156acf1cc19a810547079df4f36e
          "model_module": "@jupyter-widgets/controls",
          "model_name": "HBoxModel",
          "model_module_version": "1.5.0",
          "state": {
            "_dom_classes": [],
            "_model_module": "@jupyter-widgets/controls",
            "_model_module_version": "1.5.0",
            "_model_name": "HBoxModel",
            "_view_count": null,
            "_view_module": "@jupyter-widgets/controls",
            "_view_module_version": "1.5.0",
            "_view_name": "HBoxView",
            "box_style": "",
            "children": [
<<<<<<< HEAD
              "IPY_MODEL_ba0ad5f800d44a73aa4ee3c3c4da9e29",
              "IPY_MODEL_9cf44bcfe74e48d38d8c243daa708979",
              "IPY_MODEL_64b015b3349d4605a4587386ef3e2d6a"
            ],
            "layout": "IPY_MODEL_8ed5e1a6a4fd4cca8e78d3320b8f0e66"
          }
        },
        "ba0ad5f800d44a73aa4ee3c3c4da9e29": {
=======
              "IPY_MODEL_26d6a0f11027495295da60d8904cdeaf",
              "IPY_MODEL_1121762080924f4393092eef13159e37",
              "IPY_MODEL_6543207231e7420abb9fd3b667876b35"
            ],
            "layout": "IPY_MODEL_16bc7c6e3a154ceca08336511e54dd57"
          }
        },
        "26d6a0f11027495295da60d8904cdeaf": {
>>>>>>> 3ad88153a83e156acf1cc19a810547079df4f36e
          "model_module": "@jupyter-widgets/controls",
          "model_name": "HTMLModel",
          "model_module_version": "1.5.0",
          "state": {
            "_dom_classes": [],
            "_model_module": "@jupyter-widgets/controls",
            "_model_module_version": "1.5.0",
            "_model_name": "HTMLModel",
            "_view_count": null,
            "_view_module": "@jupyter-widgets/controls",
            "_view_module_version": "1.5.0",
            "_view_name": "HTMLView",
            "description": "",
            "description_tooltip": null,
<<<<<<< HEAD
            "layout": "IPY_MODEL_4bc1a4bf4d614b7f9b54f53c77b1efa4",
            "placeholder": "​",
            "style": "IPY_MODEL_c1b000ccd8b342d39fd4f0be262fa440",
            "value": "README.md: "
          }
        },
        "9cf44bcfe74e48d38d8c243daa708979": {
=======
            "layout": "IPY_MODEL_2336d3c63f324e90aef666aaa5f59e53",
            "placeholder": "​",
            "style": "IPY_MODEL_5a868ce2258248adb1d50bc6cbb5ea7c",
            "value": "README.md: "
          }
        },
        "1121762080924f4393092eef13159e37": {
>>>>>>> 3ad88153a83e156acf1cc19a810547079df4f36e
          "model_module": "@jupyter-widgets/controls",
          "model_name": "FloatProgressModel",
          "model_module_version": "1.5.0",
          "state": {
            "_dom_classes": [],
            "_model_module": "@jupyter-widgets/controls",
            "_model_module_version": "1.5.0",
            "_model_name": "FloatProgressModel",
            "_view_count": null,
            "_view_module": "@jupyter-widgets/controls",
            "_view_module_version": "1.5.0",
            "_view_name": "ProgressView",
            "bar_style": "success",
            "description": "",
            "description_tooltip": null,
<<<<<<< HEAD
            "layout": "IPY_MODEL_86a9393e913b4decaa7a2e3bf9d82e9e",
            "max": 1,
            "min": 0,
            "orientation": "horizontal",
            "style": "IPY_MODEL_1cd87a2d65354d54b3fa6588842aec4c",
            "value": 1
          }
        },
        "64b015b3349d4605a4587386ef3e2d6a": {
=======
            "layout": "IPY_MODEL_27cd7a9c16d94ca29eb83550c5ada5e3",
            "max": 1,
            "min": 0,
            "orientation": "horizontal",
            "style": "IPY_MODEL_43678a726f1f493e8aba4899bb2bebc7",
            "value": 1
          }
        },
        "6543207231e7420abb9fd3b667876b35": {
>>>>>>> 3ad88153a83e156acf1cc19a810547079df4f36e
          "model_module": "@jupyter-widgets/controls",
          "model_name": "HTMLModel",
          "model_module_version": "1.5.0",
          "state": {
            "_dom_classes": [],
            "_model_module": "@jupyter-widgets/controls",
            "_model_module_version": "1.5.0",
            "_model_name": "HTMLModel",
            "_view_count": null,
            "_view_module": "@jupyter-widgets/controls",
            "_view_module_version": "1.5.0",
            "_view_name": "HTMLView",
            "description": "",
            "description_tooltip": null,
<<<<<<< HEAD
            "layout": "IPY_MODEL_b71a35f325264cd5aed81b023d0e693f",
            "placeholder": "​",
            "style": "IPY_MODEL_6feba21df7f5471aa708b28fe1789b0c",
            "value": " 4.65k/? [00:00&lt;00:00, 117kB/s]"
          }
        },
        "8ed5e1a6a4fd4cca8e78d3320b8f0e66": {
=======
            "layout": "IPY_MODEL_4bd42edce60a48738bde12066f82ffb0",
            "placeholder": "​",
            "style": "IPY_MODEL_cbfb611a98dc4f1abf1f7397e7ebabf7",
            "value": " 4.65k/? [00:00&lt;00:00, 358kB/s]"
          }
        },
        "16bc7c6e3a154ceca08336511e54dd57": {
>>>>>>> 3ad88153a83e156acf1cc19a810547079df4f36e
          "model_module": "@jupyter-widgets/base",
          "model_name": "LayoutModel",
          "model_module_version": "1.2.0",
          "state": {
            "_model_module": "@jupyter-widgets/base",
            "_model_module_version": "1.2.0",
            "_model_name": "LayoutModel",
            "_view_count": null,
            "_view_module": "@jupyter-widgets/base",
            "_view_module_version": "1.2.0",
            "_view_name": "LayoutView",
            "align_content": null,
            "align_items": null,
            "align_self": null,
            "border": null,
            "bottom": null,
            "display": null,
            "flex": null,
            "flex_flow": null,
            "grid_area": null,
            "grid_auto_columns": null,
            "grid_auto_flow": null,
            "grid_auto_rows": null,
            "grid_column": null,
            "grid_gap": null,
            "grid_row": null,
            "grid_template_areas": null,
            "grid_template_columns": null,
            "grid_template_rows": null,
            "height": null,
            "justify_content": null,
            "justify_items": null,
            "left": null,
            "margin": null,
            "max_height": null,
            "max_width": null,
            "min_height": null,
            "min_width": null,
            "object_fit": null,
            "object_position": null,
            "order": null,
            "overflow": null,
            "overflow_x": null,
            "overflow_y": null,
            "padding": null,
            "right": null,
            "top": null,
            "visibility": null,
            "width": null
          }
        },
<<<<<<< HEAD
        "4bc1a4bf4d614b7f9b54f53c77b1efa4": {
=======
        "2336d3c63f324e90aef666aaa5f59e53": {
>>>>>>> 3ad88153a83e156acf1cc19a810547079df4f36e
          "model_module": "@jupyter-widgets/base",
          "model_name": "LayoutModel",
          "model_module_version": "1.2.0",
          "state": {
            "_model_module": "@jupyter-widgets/base",
            "_model_module_version": "1.2.0",
            "_model_name": "LayoutModel",
            "_view_count": null,
            "_view_module": "@jupyter-widgets/base",
            "_view_module_version": "1.2.0",
            "_view_name": "LayoutView",
            "align_content": null,
            "align_items": null,
            "align_self": null,
            "border": null,
            "bottom": null,
            "display": null,
            "flex": null,
            "flex_flow": null,
            "grid_area": null,
            "grid_auto_columns": null,
            "grid_auto_flow": null,
            "grid_auto_rows": null,
            "grid_column": null,
            "grid_gap": null,
            "grid_row": null,
            "grid_template_areas": null,
            "grid_template_columns": null,
            "grid_template_rows": null,
            "height": null,
            "justify_content": null,
            "justify_items": null,
            "left": null,
            "margin": null,
            "max_height": null,
            "max_width": null,
            "min_height": null,
            "min_width": null,
            "object_fit": null,
            "object_position": null,
            "order": null,
            "overflow": null,
            "overflow_x": null,
            "overflow_y": null,
            "padding": null,
            "right": null,
            "top": null,
            "visibility": null,
            "width": null
          }
        },
<<<<<<< HEAD
        "c1b000ccd8b342d39fd4f0be262fa440": {
=======
        "5a868ce2258248adb1d50bc6cbb5ea7c": {
>>>>>>> 3ad88153a83e156acf1cc19a810547079df4f36e
          "model_module": "@jupyter-widgets/controls",
          "model_name": "DescriptionStyleModel",
          "model_module_version": "1.5.0",
          "state": {
            "_model_module": "@jupyter-widgets/controls",
            "_model_module_version": "1.5.0",
            "_model_name": "DescriptionStyleModel",
            "_view_count": null,
            "_view_module": "@jupyter-widgets/base",
            "_view_module_version": "1.2.0",
            "_view_name": "StyleView",
            "description_width": ""
          }
        },
<<<<<<< HEAD
        "86a9393e913b4decaa7a2e3bf9d82e9e": {
=======
        "27cd7a9c16d94ca29eb83550c5ada5e3": {
>>>>>>> 3ad88153a83e156acf1cc19a810547079df4f36e
          "model_module": "@jupyter-widgets/base",
          "model_name": "LayoutModel",
          "model_module_version": "1.2.0",
          "state": {
            "_model_module": "@jupyter-widgets/base",
            "_model_module_version": "1.2.0",
            "_model_name": "LayoutModel",
            "_view_count": null,
            "_view_module": "@jupyter-widgets/base",
            "_view_module_version": "1.2.0",
            "_view_name": "LayoutView",
            "align_content": null,
            "align_items": null,
            "align_self": null,
            "border": null,
            "bottom": null,
            "display": null,
            "flex": null,
            "flex_flow": null,
            "grid_area": null,
            "grid_auto_columns": null,
            "grid_auto_flow": null,
            "grid_auto_rows": null,
            "grid_column": null,
            "grid_gap": null,
            "grid_row": null,
            "grid_template_areas": null,
            "grid_template_columns": null,
            "grid_template_rows": null,
            "height": null,
            "justify_content": null,
            "justify_items": null,
            "left": null,
            "margin": null,
            "max_height": null,
            "max_width": null,
            "min_height": null,
            "min_width": null,
            "object_fit": null,
            "object_position": null,
            "order": null,
            "overflow": null,
            "overflow_x": null,
            "overflow_y": null,
            "padding": null,
            "right": null,
            "top": null,
            "visibility": null,
            "width": "20px"
          }
        },
<<<<<<< HEAD
        "1cd87a2d65354d54b3fa6588842aec4c": {
=======
        "43678a726f1f493e8aba4899bb2bebc7": {
>>>>>>> 3ad88153a83e156acf1cc19a810547079df4f36e
          "model_module": "@jupyter-widgets/controls",
          "model_name": "ProgressStyleModel",
          "model_module_version": "1.5.0",
          "state": {
            "_model_module": "@jupyter-widgets/controls",
            "_model_module_version": "1.5.0",
            "_model_name": "ProgressStyleModel",
            "_view_count": null,
            "_view_module": "@jupyter-widgets/base",
            "_view_module_version": "1.2.0",
            "_view_name": "StyleView",
            "bar_color": null,
            "description_width": ""
          }
        },
<<<<<<< HEAD
        "b71a35f325264cd5aed81b023d0e693f": {
=======
        "4bd42edce60a48738bde12066f82ffb0": {
>>>>>>> 3ad88153a83e156acf1cc19a810547079df4f36e
          "model_module": "@jupyter-widgets/base",
          "model_name": "LayoutModel",
          "model_module_version": "1.2.0",
          "state": {
            "_model_module": "@jupyter-widgets/base",
            "_model_module_version": "1.2.0",
            "_model_name": "LayoutModel",
            "_view_count": null,
            "_view_module": "@jupyter-widgets/base",
            "_view_module_version": "1.2.0",
            "_view_name": "LayoutView",
            "align_content": null,
            "align_items": null,
            "align_self": null,
            "border": null,
            "bottom": null,
            "display": null,
            "flex": null,
            "flex_flow": null,
            "grid_area": null,
            "grid_auto_columns": null,
            "grid_auto_flow": null,
            "grid_auto_rows": null,
            "grid_column": null,
            "grid_gap": null,
            "grid_row": null,
            "grid_template_areas": null,
            "grid_template_columns": null,
            "grid_template_rows": null,
            "height": null,
            "justify_content": null,
            "justify_items": null,
            "left": null,
            "margin": null,
            "max_height": null,
            "max_width": null,
            "min_height": null,
            "min_width": null,
            "object_fit": null,
            "object_position": null,
            "order": null,
            "overflow": null,
            "overflow_x": null,
            "overflow_y": null,
            "padding": null,
            "right": null,
            "top": null,
            "visibility": null,
            "width": null
          }
        },
<<<<<<< HEAD
        "6feba21df7f5471aa708b28fe1789b0c": {
=======
        "cbfb611a98dc4f1abf1f7397e7ebabf7": {
>>>>>>> 3ad88153a83e156acf1cc19a810547079df4f36e
          "model_module": "@jupyter-widgets/controls",
          "model_name": "DescriptionStyleModel",
          "model_module_version": "1.5.0",
          "state": {
            "_model_module": "@jupyter-widgets/controls",
            "_model_module_version": "1.5.0",
            "_model_name": "DescriptionStyleModel",
            "_view_count": null,
            "_view_module": "@jupyter-widgets/base",
            "_view_module_version": "1.2.0",
            "_view_name": "StyleView",
            "description_width": ""
          }
        },
<<<<<<< HEAD
        "e298d0f7d3eb436cb91d9d8918f999e3": {
=======
        "dd543e4b4f254f4787a9dd8524c49599": {
>>>>>>> 3ad88153a83e156acf1cc19a810547079df4f36e
          "model_module": "@jupyter-widgets/controls",
          "model_name": "HBoxModel",
          "model_module_version": "1.5.0",
          "state": {
            "_dom_classes": [],
            "_model_module": "@jupyter-widgets/controls",
            "_model_module_version": "1.5.0",
            "_model_name": "HBoxModel",
            "_view_count": null,
            "_view_module": "@jupyter-widgets/controls",
            "_view_module_version": "1.5.0",
            "_view_name": "HBoxView",
            "box_style": "",
            "children": [
<<<<<<< HEAD
              "IPY_MODEL_9c306779150d443e9de7cd1a3d45b597",
              "IPY_MODEL_1febfd5cf3b64bb7b42a9bdb7ed94df9",
              "IPY_MODEL_572613661eba45b8b4724b8ed5d16d94"
            ],
            "layout": "IPY_MODEL_e7cbbf8f0ee9404bacb3faa89357fda0"
          }
        },
        "9c306779150d443e9de7cd1a3d45b597": {
=======
              "IPY_MODEL_19fcdec90167405f863db9734919297d",
              "IPY_MODEL_60e0473363374529baed5ea961d125c1",
              "IPY_MODEL_fd9d9ffc61924fde8fc2f67661b6e3f5"
            ],
            "layout": "IPY_MODEL_edd88256e9a44b738bd95d516cb42f29"
          }
        },
        "19fcdec90167405f863db9734919297d": {
>>>>>>> 3ad88153a83e156acf1cc19a810547079df4f36e
          "model_module": "@jupyter-widgets/controls",
          "model_name": "HTMLModel",
          "model_module_version": "1.5.0",
          "state": {
            "_dom_classes": [],
            "_model_module": "@jupyter-widgets/controls",
            "_model_module_version": "1.5.0",
            "_model_name": "HTMLModel",
            "_view_count": null,
            "_view_module": "@jupyter-widgets/controls",
            "_view_module_version": "1.5.0",
            "_view_name": "HTMLView",
            "description": "",
            "description_tooltip": null,
<<<<<<< HEAD
            "layout": "IPY_MODEL_0427f4f3364143a0bea146fa84312fa8",
            "placeholder": "​",
            "style": "IPY_MODEL_de756fc91c544eef8b54da5b8d91c2b4",
            "value": "train.csv: 100%"
          }
        },
        "1febfd5cf3b64bb7b42a9bdb7ed94df9": {
=======
            "layout": "IPY_MODEL_2c5c9d70fa834fc29fa9b3705a2918bd",
            "placeholder": "​",
            "style": "IPY_MODEL_d7d21e0a77284b0a9dc4e10d00d9e5d2",
            "value": "train.csv: 100%"
          }
        },
        "60e0473363374529baed5ea961d125c1": {
>>>>>>> 3ad88153a83e156acf1cc19a810547079df4f36e
          "model_module": "@jupyter-widgets/controls",
          "model_name": "FloatProgressModel",
          "model_module_version": "1.5.0",
          "state": {
            "_dom_classes": [],
            "_model_module": "@jupyter-widgets/controls",
            "_model_module_version": "1.5.0",
            "_model_name": "FloatProgressModel",
            "_view_count": null,
            "_view_module": "@jupyter-widgets/controls",
            "_view_module_version": "1.5.0",
            "_view_name": "ProgressView",
            "bar_style": "success",
            "description": "",
            "description_tooltip": null,
<<<<<<< HEAD
            "layout": "IPY_MODEL_3dea019660fc4b649787a5e5ca532fb2",
            "max": 11321474,
            "min": 0,
            "orientation": "horizontal",
            "style": "IPY_MODEL_ba8d49b76297440b83fbefd63a05933d",
            "value": 11321474
          }
        },
        "572613661eba45b8b4724b8ed5d16d94": {
=======
            "layout": "IPY_MODEL_e7e87f161b7f4d078f58edad38440fa2",
            "max": 11321474,
            "min": 0,
            "orientation": "horizontal",
            "style": "IPY_MODEL_3a5d68022661491bb0e2f868fee77726",
            "value": 11321474
          }
        },
        "fd9d9ffc61924fde8fc2f67661b6e3f5": {
>>>>>>> 3ad88153a83e156acf1cc19a810547079df4f36e
          "model_module": "@jupyter-widgets/controls",
          "model_name": "HTMLModel",
          "model_module_version": "1.5.0",
          "state": {
            "_dom_classes": [],
            "_model_module": "@jupyter-widgets/controls",
            "_model_module_version": "1.5.0",
            "_model_name": "HTMLModel",
            "_view_count": null,
            "_view_module": "@jupyter-widgets/controls",
            "_view_module_version": "1.5.0",
            "_view_name": "HTMLView",
            "description": "",
            "description_tooltip": null,
<<<<<<< HEAD
            "layout": "IPY_MODEL_5fe17cb8748140bf828d1d5da1f2cfa9",
            "placeholder": "​",
            "style": "IPY_MODEL_8f38d8d8724742db9e55b19ba4c25727",
            "value": " 11.3M/11.3M [00:01&lt;00:00, 10.7MB/s]"
          }
        },
        "e7cbbf8f0ee9404bacb3faa89357fda0": {
=======
            "layout": "IPY_MODEL_fdb59c6c3d7e44118bf61685c93cd92c",
            "placeholder": "​",
            "style": "IPY_MODEL_4558035c00344504971bdcbe4753f857",
            "value": " 11.3M/11.3M [00:00&lt;00:00, 16.8MB/s]"
          }
        },
        "edd88256e9a44b738bd95d516cb42f29": {
>>>>>>> 3ad88153a83e156acf1cc19a810547079df4f36e
          "model_module": "@jupyter-widgets/base",
          "model_name": "LayoutModel",
          "model_module_version": "1.2.0",
          "state": {
            "_model_module": "@jupyter-widgets/base",
            "_model_module_version": "1.2.0",
            "_model_name": "LayoutModel",
            "_view_count": null,
            "_view_module": "@jupyter-widgets/base",
            "_view_module_version": "1.2.0",
            "_view_name": "LayoutView",
            "align_content": null,
            "align_items": null,
            "align_self": null,
            "border": null,
            "bottom": null,
            "display": null,
            "flex": null,
            "flex_flow": null,
            "grid_area": null,
            "grid_auto_columns": null,
            "grid_auto_flow": null,
            "grid_auto_rows": null,
            "grid_column": null,
            "grid_gap": null,
            "grid_row": null,
            "grid_template_areas": null,
            "grid_template_columns": null,
            "grid_template_rows": null,
            "height": null,
            "justify_content": null,
            "justify_items": null,
            "left": null,
            "margin": null,
            "max_height": null,
            "max_width": null,
            "min_height": null,
            "min_width": null,
            "object_fit": null,
            "object_position": null,
            "order": null,
            "overflow": null,
            "overflow_x": null,
            "overflow_y": null,
            "padding": null,
            "right": null,
            "top": null,
            "visibility": null,
            "width": null
          }
        },
<<<<<<< HEAD
        "0427f4f3364143a0bea146fa84312fa8": {
=======
        "2c5c9d70fa834fc29fa9b3705a2918bd": {
>>>>>>> 3ad88153a83e156acf1cc19a810547079df4f36e
          "model_module": "@jupyter-widgets/base",
          "model_name": "LayoutModel",
          "model_module_version": "1.2.0",
          "state": {
            "_model_module": "@jupyter-widgets/base",
            "_model_module_version": "1.2.0",
            "_model_name": "LayoutModel",
            "_view_count": null,
            "_view_module": "@jupyter-widgets/base",
            "_view_module_version": "1.2.0",
            "_view_name": "LayoutView",
            "align_content": null,
            "align_items": null,
            "align_self": null,
            "border": null,
            "bottom": null,
            "display": null,
            "flex": null,
            "flex_flow": null,
            "grid_area": null,
            "grid_auto_columns": null,
            "grid_auto_flow": null,
            "grid_auto_rows": null,
            "grid_column": null,
            "grid_gap": null,
            "grid_row": null,
            "grid_template_areas": null,
            "grid_template_columns": null,
            "grid_template_rows": null,
            "height": null,
            "justify_content": null,
            "justify_items": null,
            "left": null,
            "margin": null,
            "max_height": null,
            "max_width": null,
            "min_height": null,
            "min_width": null,
            "object_fit": null,
            "object_position": null,
            "order": null,
            "overflow": null,
            "overflow_x": null,
            "overflow_y": null,
            "padding": null,
            "right": null,
            "top": null,
            "visibility": null,
            "width": null
          }
        },
<<<<<<< HEAD
        "de756fc91c544eef8b54da5b8d91c2b4": {
=======
        "d7d21e0a77284b0a9dc4e10d00d9e5d2": {
>>>>>>> 3ad88153a83e156acf1cc19a810547079df4f36e
          "model_module": "@jupyter-widgets/controls",
          "model_name": "DescriptionStyleModel",
          "model_module_version": "1.5.0",
          "state": {
            "_model_module": "@jupyter-widgets/controls",
            "_model_module_version": "1.5.0",
            "_model_name": "DescriptionStyleModel",
            "_view_count": null,
            "_view_module": "@jupyter-widgets/base",
            "_view_module_version": "1.2.0",
            "_view_name": "StyleView",
            "description_width": ""
          }
        },
<<<<<<< HEAD
        "3dea019660fc4b649787a5e5ca532fb2": {
=======
        "e7e87f161b7f4d078f58edad38440fa2": {
>>>>>>> 3ad88153a83e156acf1cc19a810547079df4f36e
          "model_module": "@jupyter-widgets/base",
          "model_name": "LayoutModel",
          "model_module_version": "1.2.0",
          "state": {
            "_model_module": "@jupyter-widgets/base",
            "_model_module_version": "1.2.0",
            "_model_name": "LayoutModel",
            "_view_count": null,
            "_view_module": "@jupyter-widgets/base",
            "_view_module_version": "1.2.0",
            "_view_name": "LayoutView",
            "align_content": null,
            "align_items": null,
            "align_self": null,
            "border": null,
            "bottom": null,
            "display": null,
            "flex": null,
            "flex_flow": null,
            "grid_area": null,
            "grid_auto_columns": null,
            "grid_auto_flow": null,
            "grid_auto_rows": null,
            "grid_column": null,
            "grid_gap": null,
            "grid_row": null,
            "grid_template_areas": null,
            "grid_template_columns": null,
            "grid_template_rows": null,
            "height": null,
            "justify_content": null,
            "justify_items": null,
            "left": null,
            "margin": null,
            "max_height": null,
            "max_width": null,
            "min_height": null,
            "min_width": null,
            "object_fit": null,
            "object_position": null,
            "order": null,
            "overflow": null,
            "overflow_x": null,
            "overflow_y": null,
            "padding": null,
            "right": null,
            "top": null,
            "visibility": null,
            "width": null
          }
        },
<<<<<<< HEAD
        "ba8d49b76297440b83fbefd63a05933d": {
=======
        "3a5d68022661491bb0e2f868fee77726": {
>>>>>>> 3ad88153a83e156acf1cc19a810547079df4f36e
          "model_module": "@jupyter-widgets/controls",
          "model_name": "ProgressStyleModel",
          "model_module_version": "1.5.0",
          "state": {
            "_model_module": "@jupyter-widgets/controls",
            "_model_module_version": "1.5.0",
            "_model_name": "ProgressStyleModel",
            "_view_count": null,
            "_view_module": "@jupyter-widgets/base",
            "_view_module_version": "1.2.0",
            "_view_name": "StyleView",
            "bar_color": null,
            "description_width": ""
          }
        },
<<<<<<< HEAD
        "5fe17cb8748140bf828d1d5da1f2cfa9": {
=======
        "fdb59c6c3d7e44118bf61685c93cd92c": {
>>>>>>> 3ad88153a83e156acf1cc19a810547079df4f36e
          "model_module": "@jupyter-widgets/base",
          "model_name": "LayoutModel",
          "model_module_version": "1.2.0",
          "state": {
            "_model_module": "@jupyter-widgets/base",
            "_model_module_version": "1.2.0",
            "_model_name": "LayoutModel",
            "_view_count": null,
            "_view_module": "@jupyter-widgets/base",
            "_view_module_version": "1.2.0",
            "_view_name": "LayoutView",
            "align_content": null,
            "align_items": null,
            "align_self": null,
            "border": null,
            "bottom": null,
            "display": null,
            "flex": null,
            "flex_flow": null,
            "grid_area": null,
            "grid_auto_columns": null,
            "grid_auto_flow": null,
            "grid_auto_rows": null,
            "grid_column": null,
            "grid_gap": null,
            "grid_row": null,
            "grid_template_areas": null,
            "grid_template_columns": null,
            "grid_template_rows": null,
            "height": null,
            "justify_content": null,
            "justify_items": null,
            "left": null,
            "margin": null,
            "max_height": null,
            "max_width": null,
            "min_height": null,
            "min_width": null,
            "object_fit": null,
            "object_position": null,
            "order": null,
            "overflow": null,
            "overflow_x": null,
            "overflow_y": null,
            "padding": null,
            "right": null,
            "top": null,
            "visibility": null,
            "width": null
          }
        },
<<<<<<< HEAD
        "8f38d8d8724742db9e55b19ba4c25727": {
=======
        "4558035c00344504971bdcbe4753f857": {
>>>>>>> 3ad88153a83e156acf1cc19a810547079df4f36e
          "model_module": "@jupyter-widgets/controls",
          "model_name": "DescriptionStyleModel",
          "model_module_version": "1.5.0",
          "state": {
            "_model_module": "@jupyter-widgets/controls",
            "_model_module_version": "1.5.0",
            "_model_name": "DescriptionStyleModel",
            "_view_count": null,
            "_view_module": "@jupyter-widgets/base",
            "_view_module_version": "1.2.0",
            "_view_name": "StyleView",
            "description_width": ""
          }
        },
<<<<<<< HEAD
        "b73b10455d674fae8403863d132cb927": {
=======
        "16716f91cb524ff6b6a549afae879209": {
>>>>>>> 3ad88153a83e156acf1cc19a810547079df4f36e
          "model_module": "@jupyter-widgets/controls",
          "model_name": "HBoxModel",
          "model_module_version": "1.5.0",
          "state": {
            "_dom_classes": [],
            "_model_module": "@jupyter-widgets/controls",
            "_model_module_version": "1.5.0",
            "_model_name": "HBoxModel",
            "_view_count": null,
            "_view_module": "@jupyter-widgets/controls",
            "_view_module_version": "1.5.0",
            "_view_name": "HBoxView",
            "box_style": "",
            "children": [
<<<<<<< HEAD
              "IPY_MODEL_ba43bfdfcb594d4e85c61598c8d0ce00",
              "IPY_MODEL_544f6866f1c24df9a295f5d8b43dbbce",
              "IPY_MODEL_4233112b599340fe9233f1837f1b7ac0"
            ],
            "layout": "IPY_MODEL_69b0e7a51a914236b48e2afe174385a3"
          }
        },
        "ba43bfdfcb594d4e85c61598c8d0ce00": {
=======
              "IPY_MODEL_93d1eb10c0de4644a8165ad76156d1d9",
              "IPY_MODEL_f041aeaf970c4ae29b5d72d2db4255d5",
              "IPY_MODEL_24a0cad26c414d6391c6573809fc6ade"
            ],
            "layout": "IPY_MODEL_da9c90f6351448ea946d9e5701c47206"
          }
        },
        "93d1eb10c0de4644a8165ad76156d1d9": {
>>>>>>> 3ad88153a83e156acf1cc19a810547079df4f36e
          "model_module": "@jupyter-widgets/controls",
          "model_name": "HTMLModel",
          "model_module_version": "1.5.0",
          "state": {
            "_dom_classes": [],
            "_model_module": "@jupyter-widgets/controls",
            "_model_module_version": "1.5.0",
            "_model_name": "HTMLModel",
            "_view_count": null,
            "_view_module": "@jupyter-widgets/controls",
            "_view_module_version": "1.5.0",
            "_view_name": "HTMLView",
            "description": "",
            "description_tooltip": null,
<<<<<<< HEAD
            "layout": "IPY_MODEL_19b590758a504306ade3d63c4ff322ed",
            "placeholder": "​",
            "style": "IPY_MODEL_c804f3f9bda945f2bff25cde4891b246",
            "value": "validation.csv: "
          }
        },
        "544f6866f1c24df9a295f5d8b43dbbce": {
=======
            "layout": "IPY_MODEL_74d958bb7ac64e0a8dce7c1484cee4e0",
            "placeholder": "​",
            "style": "IPY_MODEL_0034fed270454df1bab9357bf5e5543b",
            "value": "validation.csv: "
          }
        },
        "f041aeaf970c4ae29b5d72d2db4255d5": {
>>>>>>> 3ad88153a83e156acf1cc19a810547079df4f36e
          "model_module": "@jupyter-widgets/controls",
          "model_name": "FloatProgressModel",
          "model_module_version": "1.5.0",
          "state": {
            "_dom_classes": [],
            "_model_module": "@jupyter-widgets/controls",
            "_model_module_version": "1.5.0",
            "_model_name": "FloatProgressModel",
            "_view_count": null,
            "_view_module": "@jupyter-widgets/controls",
            "_view_module_version": "1.5.0",
            "_view_name": "ProgressView",
            "bar_style": "success",
            "description": "",
            "description_tooltip": null,
<<<<<<< HEAD
            "layout": "IPY_MODEL_2356484633ca4c5186b5f5e9c8e1e540",
            "max": 1,
            "min": 0,
            "orientation": "horizontal",
            "style": "IPY_MODEL_cdcb1b302b3d41dea82ddd624f76d7ff",
            "value": 1
          }
        },
        "4233112b599340fe9233f1837f1b7ac0": {
=======
            "layout": "IPY_MODEL_52a97824534d4d149cd58e1eb3fb2057",
            "max": 1,
            "min": 0,
            "orientation": "horizontal",
            "style": "IPY_MODEL_f9230ade865049f290011fd0645b5d48",
            "value": 1
          }
        },
        "24a0cad26c414d6391c6573809fc6ade": {
>>>>>>> 3ad88153a83e156acf1cc19a810547079df4f36e
          "model_module": "@jupyter-widgets/controls",
          "model_name": "HTMLModel",
          "model_module_version": "1.5.0",
          "state": {
            "_dom_classes": [],
            "_model_module": "@jupyter-widgets/controls",
            "_model_module_version": "1.5.0",
            "_model_name": "HTMLModel",
            "_view_count": null,
            "_view_module": "@jupyter-widgets/controls",
            "_view_module_version": "1.5.0",
            "_view_name": "HTMLView",
            "description": "",
            "description_tooltip": null,
<<<<<<< HEAD
            "layout": "IPY_MODEL_781ad7356ac646b8af199cc5cfb39b33",
            "placeholder": "​",
            "style": "IPY_MODEL_2e934e98b9b04581b0a1f9646388b3fa",
            "value": " 442k/? [00:00&lt;00:00, 5.56MB/s]"
          }
        },
        "69b0e7a51a914236b48e2afe174385a3": {
=======
            "layout": "IPY_MODEL_e716b3acaa8f48c3b64b3b78ea348ada",
            "placeholder": "​",
            "style": "IPY_MODEL_9778cd131d8f4c1bacdc1be5a1d94766",
            "value": " 442k/? [00:00&lt;00:00, 11.7MB/s]"
          }
        },
        "da9c90f6351448ea946d9e5701c47206": {
>>>>>>> 3ad88153a83e156acf1cc19a810547079df4f36e
          "model_module": "@jupyter-widgets/base",
          "model_name": "LayoutModel",
          "model_module_version": "1.2.0",
          "state": {
            "_model_module": "@jupyter-widgets/base",
            "_model_module_version": "1.2.0",
            "_model_name": "LayoutModel",
            "_view_count": null,
            "_view_module": "@jupyter-widgets/base",
            "_view_module_version": "1.2.0",
            "_view_name": "LayoutView",
            "align_content": null,
            "align_items": null,
            "align_self": null,
            "border": null,
            "bottom": null,
            "display": null,
            "flex": null,
            "flex_flow": null,
            "grid_area": null,
            "grid_auto_columns": null,
            "grid_auto_flow": null,
            "grid_auto_rows": null,
            "grid_column": null,
            "grid_gap": null,
            "grid_row": null,
            "grid_template_areas": null,
            "grid_template_columns": null,
            "grid_template_rows": null,
            "height": null,
            "justify_content": null,
            "justify_items": null,
            "left": null,
            "margin": null,
            "max_height": null,
            "max_width": null,
            "min_height": null,
            "min_width": null,
            "object_fit": null,
            "object_position": null,
            "order": null,
            "overflow": null,
            "overflow_x": null,
            "overflow_y": null,
            "padding": null,
            "right": null,
            "top": null,
            "visibility": null,
            "width": null
          }
        },
<<<<<<< HEAD
        "19b590758a504306ade3d63c4ff322ed": {
=======
        "74d958bb7ac64e0a8dce7c1484cee4e0": {
>>>>>>> 3ad88153a83e156acf1cc19a810547079df4f36e
          "model_module": "@jupyter-widgets/base",
          "model_name": "LayoutModel",
          "model_module_version": "1.2.0",
          "state": {
            "_model_module": "@jupyter-widgets/base",
            "_model_module_version": "1.2.0",
            "_model_name": "LayoutModel",
            "_view_count": null,
            "_view_module": "@jupyter-widgets/base",
            "_view_module_version": "1.2.0",
            "_view_name": "LayoutView",
            "align_content": null,
            "align_items": null,
            "align_self": null,
            "border": null,
            "bottom": null,
            "display": null,
            "flex": null,
            "flex_flow": null,
            "grid_area": null,
            "grid_auto_columns": null,
            "grid_auto_flow": null,
            "grid_auto_rows": null,
            "grid_column": null,
            "grid_gap": null,
            "grid_row": null,
            "grid_template_areas": null,
            "grid_template_columns": null,
            "grid_template_rows": null,
            "height": null,
            "justify_content": null,
            "justify_items": null,
            "left": null,
            "margin": null,
            "max_height": null,
            "max_width": null,
            "min_height": null,
            "min_width": null,
            "object_fit": null,
            "object_position": null,
            "order": null,
            "overflow": null,
            "overflow_x": null,
            "overflow_y": null,
            "padding": null,
            "right": null,
            "top": null,
            "visibility": null,
            "width": null
          }
        },
<<<<<<< HEAD
        "c804f3f9bda945f2bff25cde4891b246": {
=======
        "0034fed270454df1bab9357bf5e5543b": {
>>>>>>> 3ad88153a83e156acf1cc19a810547079df4f36e
          "model_module": "@jupyter-widgets/controls",
          "model_name": "DescriptionStyleModel",
          "model_module_version": "1.5.0",
          "state": {
            "_model_module": "@jupyter-widgets/controls",
            "_model_module_version": "1.5.0",
            "_model_name": "DescriptionStyleModel",
            "_view_count": null,
            "_view_module": "@jupyter-widgets/base",
            "_view_module_version": "1.2.0",
            "_view_name": "StyleView",
            "description_width": ""
          }
        },
<<<<<<< HEAD
        "2356484633ca4c5186b5f5e9c8e1e540": {
=======
        "52a97824534d4d149cd58e1eb3fb2057": {
>>>>>>> 3ad88153a83e156acf1cc19a810547079df4f36e
          "model_module": "@jupyter-widgets/base",
          "model_name": "LayoutModel",
          "model_module_version": "1.2.0",
          "state": {
            "_model_module": "@jupyter-widgets/base",
            "_model_module_version": "1.2.0",
            "_model_name": "LayoutModel",
            "_view_count": null,
            "_view_module": "@jupyter-widgets/base",
            "_view_module_version": "1.2.0",
            "_view_name": "LayoutView",
            "align_content": null,
            "align_items": null,
            "align_self": null,
            "border": null,
            "bottom": null,
            "display": null,
            "flex": null,
            "flex_flow": null,
            "grid_area": null,
            "grid_auto_columns": null,
            "grid_auto_flow": null,
            "grid_auto_rows": null,
            "grid_column": null,
            "grid_gap": null,
            "grid_row": null,
            "grid_template_areas": null,
            "grid_template_columns": null,
            "grid_template_rows": null,
            "height": null,
            "justify_content": null,
            "justify_items": null,
            "left": null,
            "margin": null,
            "max_height": null,
            "max_width": null,
            "min_height": null,
            "min_width": null,
            "object_fit": null,
            "object_position": null,
            "order": null,
            "overflow": null,
            "overflow_x": null,
            "overflow_y": null,
            "padding": null,
            "right": null,
            "top": null,
            "visibility": null,
            "width": "20px"
          }
        },
<<<<<<< HEAD
        "cdcb1b302b3d41dea82ddd624f76d7ff": {
=======
        "f9230ade865049f290011fd0645b5d48": {
>>>>>>> 3ad88153a83e156acf1cc19a810547079df4f36e
          "model_module": "@jupyter-widgets/controls",
          "model_name": "ProgressStyleModel",
          "model_module_version": "1.5.0",
          "state": {
            "_model_module": "@jupyter-widgets/controls",
            "_model_module_version": "1.5.0",
            "_model_name": "ProgressStyleModel",
            "_view_count": null,
            "_view_module": "@jupyter-widgets/base",
            "_view_module_version": "1.2.0",
            "_view_name": "StyleView",
            "bar_color": null,
            "description_width": ""
          }
        },
<<<<<<< HEAD
        "781ad7356ac646b8af199cc5cfb39b33": {
=======
        "e716b3acaa8f48c3b64b3b78ea348ada": {
>>>>>>> 3ad88153a83e156acf1cc19a810547079df4f36e
          "model_module": "@jupyter-widgets/base",
          "model_name": "LayoutModel",
          "model_module_version": "1.2.0",
          "state": {
            "_model_module": "@jupyter-widgets/base",
            "_model_module_version": "1.2.0",
            "_model_name": "LayoutModel",
            "_view_count": null,
            "_view_module": "@jupyter-widgets/base",
            "_view_module_version": "1.2.0",
            "_view_name": "LayoutView",
            "align_content": null,
            "align_items": null,
            "align_self": null,
            "border": null,
            "bottom": null,
            "display": null,
            "flex": null,
            "flex_flow": null,
            "grid_area": null,
            "grid_auto_columns": null,
            "grid_auto_flow": null,
            "grid_auto_rows": null,
            "grid_column": null,
            "grid_gap": null,
            "grid_row": null,
            "grid_template_areas": null,
            "grid_template_columns": null,
            "grid_template_rows": null,
            "height": null,
            "justify_content": null,
            "justify_items": null,
            "left": null,
            "margin": null,
            "max_height": null,
            "max_width": null,
            "min_height": null,
            "min_width": null,
            "object_fit": null,
            "object_position": null,
            "order": null,
            "overflow": null,
            "overflow_x": null,
            "overflow_y": null,
            "padding": null,
            "right": null,
            "top": null,
            "visibility": null,
            "width": null
          }
        },
<<<<<<< HEAD
        "2e934e98b9b04581b0a1f9646388b3fa": {
=======
        "9778cd131d8f4c1bacdc1be5a1d94766": {
>>>>>>> 3ad88153a83e156acf1cc19a810547079df4f36e
          "model_module": "@jupyter-widgets/controls",
          "model_name": "DescriptionStyleModel",
          "model_module_version": "1.5.0",
          "state": {
            "_model_module": "@jupyter-widgets/controls",
            "_model_module_version": "1.5.0",
            "_model_name": "DescriptionStyleModel",
            "_view_count": null,
            "_view_module": "@jupyter-widgets/base",
            "_view_module_version": "1.2.0",
            "_view_name": "StyleView",
            "description_width": ""
          }
        },
<<<<<<< HEAD
        "a00b07f5443246288987d35f2b15bfb1": {
=======
        "86a77cf7fa1f46c8a3ba428a8c537314": {
>>>>>>> 3ad88153a83e156acf1cc19a810547079df4f36e
          "model_module": "@jupyter-widgets/controls",
          "model_name": "HBoxModel",
          "model_module_version": "1.5.0",
          "state": {
            "_dom_classes": [],
            "_model_module": "@jupyter-widgets/controls",
            "_model_module_version": "1.5.0",
            "_model_name": "HBoxModel",
            "_view_count": null,
            "_view_module": "@jupyter-widgets/controls",
            "_view_module_version": "1.5.0",
            "_view_name": "HBoxView",
            "box_style": "",
            "children": [
<<<<<<< HEAD
              "IPY_MODEL_2fcf503c81cd454185fc05e7f250bcc2",
              "IPY_MODEL_49eae3ad44d548b9a7495d59da55f812",
              "IPY_MODEL_a7a3f793619344ba88fbcb4982236d4e"
            ],
            "layout": "IPY_MODEL_c83d913aceed49e0a531e902a70e0cf5"
          }
        },
        "2fcf503c81cd454185fc05e7f250bcc2": {
=======
              "IPY_MODEL_5348068d4ff943888feedd8c42a1b9cf",
              "IPY_MODEL_40e6d2cddd4e4b6ca505d94cdce8cc5c",
              "IPY_MODEL_6581880f346645889c89ea88722aafbb"
            ],
            "layout": "IPY_MODEL_29dd58ff8265442c8e3d9088d160768e"
          }
        },
        "5348068d4ff943888feedd8c42a1b9cf": {
>>>>>>> 3ad88153a83e156acf1cc19a810547079df4f36e
          "model_module": "@jupyter-widgets/controls",
          "model_name": "HTMLModel",
          "model_module_version": "1.5.0",
          "state": {
            "_dom_classes": [],
            "_model_module": "@jupyter-widgets/controls",
            "_model_module_version": "1.5.0",
            "_model_name": "HTMLModel",
            "_view_count": null,
            "_view_module": "@jupyter-widgets/controls",
            "_view_module_version": "1.5.0",
            "_view_name": "HTMLView",
            "description": "",
            "description_tooltip": null,
<<<<<<< HEAD
            "layout": "IPY_MODEL_9d6b3e43627c4e9b8d8a1e14f9fb5b10",
            "placeholder": "​",
            "style": "IPY_MODEL_e2109512bc37453fa900f18227706c0a",
            "value": "test.csv: "
          }
        },
        "49eae3ad44d548b9a7495d59da55f812": {
=======
            "layout": "IPY_MODEL_0b8c5e8ac3794aa5ab94eabcf461ba7f",
            "placeholder": "​",
            "style": "IPY_MODEL_965781ce918941e292ea18633521f709",
            "value": "test.csv: "
          }
        },
        "40e6d2cddd4e4b6ca505d94cdce8cc5c": {
>>>>>>> 3ad88153a83e156acf1cc19a810547079df4f36e
          "model_module": "@jupyter-widgets/controls",
          "model_name": "FloatProgressModel",
          "model_module_version": "1.5.0",
          "state": {
            "_dom_classes": [],
            "_model_module": "@jupyter-widgets/controls",
            "_model_module_version": "1.5.0",
            "_model_name": "FloatProgressModel",
            "_view_count": null,
            "_view_module": "@jupyter-widgets/controls",
            "_view_module_version": "1.5.0",
            "_view_name": "ProgressView",
            "bar_style": "success",
            "description": "",
            "description_tooltip": null,
<<<<<<< HEAD
            "layout": "IPY_MODEL_7be7b6a1229a4af186ce0ffab7aa2de9",
            "max": 1,
            "min": 0,
            "orientation": "horizontal",
            "style": "IPY_MODEL_ca481db6e0394061a773e312dfba3f5f",
            "value": 1
          }
        },
        "a7a3f793619344ba88fbcb4982236d4e": {
=======
            "layout": "IPY_MODEL_aec11153609949aa9686a126530470fc",
            "max": 1,
            "min": 0,
            "orientation": "horizontal",
            "style": "IPY_MODEL_01925c09592044b29750af0f76d256dc",
            "value": 1
          }
        },
        "6581880f346645889c89ea88722aafbb": {
>>>>>>> 3ad88153a83e156acf1cc19a810547079df4f36e
          "model_module": "@jupyter-widgets/controls",
          "model_name": "HTMLModel",
          "model_module_version": "1.5.0",
          "state": {
            "_dom_classes": [],
            "_model_module": "@jupyter-widgets/controls",
            "_model_module_version": "1.5.0",
            "_model_name": "HTMLModel",
            "_view_count": null,
            "_view_module": "@jupyter-widgets/controls",
            "_view_module_version": "1.5.0",
            "_view_name": "HTMLView",
            "description": "",
            "description_tooltip": null,
<<<<<<< HEAD
            "layout": "IPY_MODEL_a6b6e580eb4e4024b3662120757eb43a",
            "placeholder": "​",
            "style": "IPY_MODEL_c1167c9f3129467aaf8a99c0717b945e",
            "value": " 1.35M/? [00:00&lt;00:00, 26.3MB/s]"
          }
        },
        "c83d913aceed49e0a531e902a70e0cf5": {
=======
            "layout": "IPY_MODEL_a492d1614d284cfebb4dad9a8f3c6f3a",
            "placeholder": "​",
            "style": "IPY_MODEL_3c7afc487ed4449c93524d6a0702440b",
            "value": " 1.35M/? [00:00&lt;00:00, 62.3MB/s]"
          }
        },
        "29dd58ff8265442c8e3d9088d160768e": {
>>>>>>> 3ad88153a83e156acf1cc19a810547079df4f36e
          "model_module": "@jupyter-widgets/base",
          "model_name": "LayoutModel",
          "model_module_version": "1.2.0",
          "state": {
            "_model_module": "@jupyter-widgets/base",
            "_model_module_version": "1.2.0",
            "_model_name": "LayoutModel",
            "_view_count": null,
            "_view_module": "@jupyter-widgets/base",
            "_view_module_version": "1.2.0",
            "_view_name": "LayoutView",
            "align_content": null,
            "align_items": null,
            "align_self": null,
            "border": null,
            "bottom": null,
            "display": null,
            "flex": null,
            "flex_flow": null,
            "grid_area": null,
            "grid_auto_columns": null,
            "grid_auto_flow": null,
            "grid_auto_rows": null,
            "grid_column": null,
            "grid_gap": null,
            "grid_row": null,
            "grid_template_areas": null,
            "grid_template_columns": null,
            "grid_template_rows": null,
            "height": null,
            "justify_content": null,
            "justify_items": null,
            "left": null,
            "margin": null,
            "max_height": null,
            "max_width": null,
            "min_height": null,
            "min_width": null,
            "object_fit": null,
            "object_position": null,
            "order": null,
            "overflow": null,
            "overflow_x": null,
            "overflow_y": null,
            "padding": null,
            "right": null,
            "top": null,
            "visibility": null,
            "width": null
          }
        },
<<<<<<< HEAD
        "9d6b3e43627c4e9b8d8a1e14f9fb5b10": {
=======
        "0b8c5e8ac3794aa5ab94eabcf461ba7f": {
>>>>>>> 3ad88153a83e156acf1cc19a810547079df4f36e
          "model_module": "@jupyter-widgets/base",
          "model_name": "LayoutModel",
          "model_module_version": "1.2.0",
          "state": {
            "_model_module": "@jupyter-widgets/base",
            "_model_module_version": "1.2.0",
            "_model_name": "LayoutModel",
            "_view_count": null,
            "_view_module": "@jupyter-widgets/base",
            "_view_module_version": "1.2.0",
            "_view_name": "LayoutView",
            "align_content": null,
            "align_items": null,
            "align_self": null,
            "border": null,
            "bottom": null,
            "display": null,
            "flex": null,
            "flex_flow": null,
            "grid_area": null,
            "grid_auto_columns": null,
            "grid_auto_flow": null,
            "grid_auto_rows": null,
            "grid_column": null,
            "grid_gap": null,
            "grid_row": null,
            "grid_template_areas": null,
            "grid_template_columns": null,
            "grid_template_rows": null,
            "height": null,
            "justify_content": null,
            "justify_items": null,
            "left": null,
            "margin": null,
            "max_height": null,
            "max_width": null,
            "min_height": null,
            "min_width": null,
            "object_fit": null,
            "object_position": null,
            "order": null,
            "overflow": null,
            "overflow_x": null,
            "overflow_y": null,
            "padding": null,
            "right": null,
            "top": null,
            "visibility": null,
            "width": null
          }
        },
<<<<<<< HEAD
        "e2109512bc37453fa900f18227706c0a": {
=======
        "965781ce918941e292ea18633521f709": {
>>>>>>> 3ad88153a83e156acf1cc19a810547079df4f36e
          "model_module": "@jupyter-widgets/controls",
          "model_name": "DescriptionStyleModel",
          "model_module_version": "1.5.0",
          "state": {
            "_model_module": "@jupyter-widgets/controls",
            "_model_module_version": "1.5.0",
            "_model_name": "DescriptionStyleModel",
            "_view_count": null,
            "_view_module": "@jupyter-widgets/base",
            "_view_module_version": "1.2.0",
            "_view_name": "StyleView",
            "description_width": ""
          }
        },
<<<<<<< HEAD
        "7be7b6a1229a4af186ce0ffab7aa2de9": {
=======
        "aec11153609949aa9686a126530470fc": {
>>>>>>> 3ad88153a83e156acf1cc19a810547079df4f36e
          "model_module": "@jupyter-widgets/base",
          "model_name": "LayoutModel",
          "model_module_version": "1.2.0",
          "state": {
            "_model_module": "@jupyter-widgets/base",
            "_model_module_version": "1.2.0",
            "_model_name": "LayoutModel",
            "_view_count": null,
            "_view_module": "@jupyter-widgets/base",
            "_view_module_version": "1.2.0",
            "_view_name": "LayoutView",
            "align_content": null,
            "align_items": null,
            "align_self": null,
            "border": null,
            "bottom": null,
            "display": null,
            "flex": null,
            "flex_flow": null,
            "grid_area": null,
            "grid_auto_columns": null,
            "grid_auto_flow": null,
            "grid_auto_rows": null,
            "grid_column": null,
            "grid_gap": null,
            "grid_row": null,
            "grid_template_areas": null,
            "grid_template_columns": null,
            "grid_template_rows": null,
            "height": null,
            "justify_content": null,
            "justify_items": null,
            "left": null,
            "margin": null,
            "max_height": null,
            "max_width": null,
            "min_height": null,
            "min_width": null,
            "object_fit": null,
            "object_position": null,
            "order": null,
            "overflow": null,
            "overflow_x": null,
            "overflow_y": null,
            "padding": null,
            "right": null,
            "top": null,
            "visibility": null,
            "width": "20px"
          }
        },
<<<<<<< HEAD
        "ca481db6e0394061a773e312dfba3f5f": {
=======
        "01925c09592044b29750af0f76d256dc": {
>>>>>>> 3ad88153a83e156acf1cc19a810547079df4f36e
          "model_module": "@jupyter-widgets/controls",
          "model_name": "ProgressStyleModel",
          "model_module_version": "1.5.0",
          "state": {
            "_model_module": "@jupyter-widgets/controls",
            "_model_module_version": "1.5.0",
            "_model_name": "ProgressStyleModel",
            "_view_count": null,
            "_view_module": "@jupyter-widgets/base",
            "_view_module_version": "1.2.0",
            "_view_name": "StyleView",
            "bar_color": null,
            "description_width": ""
          }
        },
<<<<<<< HEAD
        "a6b6e580eb4e4024b3662120757eb43a": {
=======
        "a492d1614d284cfebb4dad9a8f3c6f3a": {
>>>>>>> 3ad88153a83e156acf1cc19a810547079df4f36e
          "model_module": "@jupyter-widgets/base",
          "model_name": "LayoutModel",
          "model_module_version": "1.2.0",
          "state": {
            "_model_module": "@jupyter-widgets/base",
            "_model_module_version": "1.2.0",
            "_model_name": "LayoutModel",
            "_view_count": null,
            "_view_module": "@jupyter-widgets/base",
            "_view_module_version": "1.2.0",
            "_view_name": "LayoutView",
            "align_content": null,
            "align_items": null,
            "align_self": null,
            "border": null,
            "bottom": null,
            "display": null,
            "flex": null,
            "flex_flow": null,
            "grid_area": null,
            "grid_auto_columns": null,
            "grid_auto_flow": null,
            "grid_auto_rows": null,
            "grid_column": null,
            "grid_gap": null,
            "grid_row": null,
            "grid_template_areas": null,
            "grid_template_columns": null,
            "grid_template_rows": null,
            "height": null,
            "justify_content": null,
            "justify_items": null,
            "left": null,
            "margin": null,
            "max_height": null,
            "max_width": null,
            "min_height": null,
            "min_width": null,
            "object_fit": null,
            "object_position": null,
            "order": null,
            "overflow": null,
            "overflow_x": null,
            "overflow_y": null,
            "padding": null,
            "right": null,
            "top": null,
            "visibility": null,
            "width": null
          }
        },
<<<<<<< HEAD
        "c1167c9f3129467aaf8a99c0717b945e": {
=======
        "3c7afc487ed4449c93524d6a0702440b": {
>>>>>>> 3ad88153a83e156acf1cc19a810547079df4f36e
          "model_module": "@jupyter-widgets/controls",
          "model_name": "DescriptionStyleModel",
          "model_module_version": "1.5.0",
          "state": {
            "_model_module": "@jupyter-widgets/controls",
            "_model_module_version": "1.5.0",
            "_model_name": "DescriptionStyleModel",
            "_view_count": null,
            "_view_module": "@jupyter-widgets/base",
            "_view_module_version": "1.2.0",
            "_view_name": "StyleView",
            "description_width": ""
          }
        },
<<<<<<< HEAD
        "d6e632defd8243f48a6820cb2263179e": {
=======
        "1b061a6bc5234191a5c3b869c4404998": {
>>>>>>> 3ad88153a83e156acf1cc19a810547079df4f36e
          "model_module": "@jupyter-widgets/controls",
          "model_name": "HBoxModel",
          "model_module_version": "1.5.0",
          "state": {
            "_dom_classes": [],
            "_model_module": "@jupyter-widgets/controls",
            "_model_module_version": "1.5.0",
            "_model_name": "HBoxModel",
            "_view_count": null,
            "_view_module": "@jupyter-widgets/controls",
            "_view_module_version": "1.5.0",
            "_view_name": "HBoxView",
            "box_style": "",
            "children": [
<<<<<<< HEAD
              "IPY_MODEL_7f6a028a78794d9fbce74125e868ebe6",
              "IPY_MODEL_6400cfbab7074fe6b193b36a5b07fc2f",
              "IPY_MODEL_929ef4afc672406dad152ec33c6dd715"
            ],
            "layout": "IPY_MODEL_31e9d476623f4d45aba9176cabbbaee4"
          }
        },
        "7f6a028a78794d9fbce74125e868ebe6": {
=======
              "IPY_MODEL_c572526c24194731a734073b2e988d4c",
              "IPY_MODEL_0e755cd70f374f13b28312ca08f70b55",
              "IPY_MODEL_3b7ee206b9ca4e8db1c839e2c41f510e"
            ],
            "layout": "IPY_MODEL_4e8ef708158144f89c6a80422477e09d"
          }
        },
        "c572526c24194731a734073b2e988d4c": {
>>>>>>> 3ad88153a83e156acf1cc19a810547079df4f36e
          "model_module": "@jupyter-widgets/controls",
          "model_name": "HTMLModel",
          "model_module_version": "1.5.0",
          "state": {
            "_dom_classes": [],
            "_model_module": "@jupyter-widgets/controls",
            "_model_module_version": "1.5.0",
            "_model_name": "HTMLModel",
            "_view_count": null,
            "_view_module": "@jupyter-widgets/controls",
            "_view_module_version": "1.5.0",
            "_view_name": "HTMLView",
            "description": "",
            "description_tooltip": null,
<<<<<<< HEAD
            "layout": "IPY_MODEL_ed0d07820d0545979d2b06ee3764be78",
            "placeholder": "​",
            "style": "IPY_MODEL_4919048a6d4f4665aa01a87275ad9c14",
            "value": "Generating train split: 100%"
          }
        },
        "6400cfbab7074fe6b193b36a5b07fc2f": {
=======
            "layout": "IPY_MODEL_fea004006cb741f2a55d50239dde1bb3",
            "placeholder": "​",
            "style": "IPY_MODEL_e09ec9f2793a4c8ca7d38f41f02ba826",
            "value": "Generating train split: 100%"
          }
        },
        "0e755cd70f374f13b28312ca08f70b55": {
>>>>>>> 3ad88153a83e156acf1cc19a810547079df4f36e
          "model_module": "@jupyter-widgets/controls",
          "model_name": "FloatProgressModel",
          "model_module_version": "1.5.0",
          "state": {
            "_dom_classes": [],
            "_model_module": "@jupyter-widgets/controls",
            "_model_module_version": "1.5.0",
            "_model_name": "FloatProgressModel",
            "_view_count": null,
            "_view_module": "@jupyter-widgets/controls",
            "_view_module_version": "1.5.0",
            "_view_name": "ProgressView",
            "bar_style": "success",
            "description": "",
            "description_tooltip": null,
<<<<<<< HEAD
            "layout": "IPY_MODEL_82cdad0a28824961aa4d8154c3ad3ae2",
            "max": 12460,
            "min": 0,
            "orientation": "horizontal",
            "style": "IPY_MODEL_592780ff82334c86b83f8d35b90ba284",
            "value": 12460
          }
        },
        "929ef4afc672406dad152ec33c6dd715": {
=======
            "layout": "IPY_MODEL_338ed71cfafb4f2abaeba8e5f1e70413",
            "max": 12460,
            "min": 0,
            "orientation": "horizontal",
            "style": "IPY_MODEL_8026b4ceebd34cecbba572f2c970c202",
            "value": 12460
          }
        },
        "3b7ee206b9ca4e8db1c839e2c41f510e": {
>>>>>>> 3ad88153a83e156acf1cc19a810547079df4f36e
          "model_module": "@jupyter-widgets/controls",
          "model_name": "HTMLModel",
          "model_module_version": "1.5.0",
          "state": {
            "_dom_classes": [],
            "_model_module": "@jupyter-widgets/controls",
            "_model_module_version": "1.5.0",
            "_model_name": "HTMLModel",
            "_view_count": null,
            "_view_module": "@jupyter-widgets/controls",
            "_view_module_version": "1.5.0",
            "_view_name": "HTMLView",
            "description": "",
            "description_tooltip": null,
<<<<<<< HEAD
            "layout": "IPY_MODEL_dbb4805ca12249a6b7bcffed16171ab2",
            "placeholder": "​",
            "style": "IPY_MODEL_ff2cecfe305a4ba6b37c1d49ce1ecb21",
            "value": " 12460/12460 [00:00&lt;00:00, 38689.09 examples/s]"
          }
        },
        "31e9d476623f4d45aba9176cabbbaee4": {
=======
            "layout": "IPY_MODEL_f476f054a111478e8dde9e781fe6d5ab",
            "placeholder": "​",
            "style": "IPY_MODEL_bfe080b591614ba68d5a4332cdcd3b8b",
            "value": " 12460/12460 [00:00&lt;00:00, 58829.53 examples/s]"
          }
        },
        "4e8ef708158144f89c6a80422477e09d": {
>>>>>>> 3ad88153a83e156acf1cc19a810547079df4f36e
          "model_module": "@jupyter-widgets/base",
          "model_name": "LayoutModel",
          "model_module_version": "1.2.0",
          "state": {
            "_model_module": "@jupyter-widgets/base",
            "_model_module_version": "1.2.0",
            "_model_name": "LayoutModel",
            "_view_count": null,
            "_view_module": "@jupyter-widgets/base",
            "_view_module_version": "1.2.0",
            "_view_name": "LayoutView",
            "align_content": null,
            "align_items": null,
            "align_self": null,
            "border": null,
            "bottom": null,
            "display": null,
            "flex": null,
            "flex_flow": null,
            "grid_area": null,
            "grid_auto_columns": null,
            "grid_auto_flow": null,
            "grid_auto_rows": null,
            "grid_column": null,
            "grid_gap": null,
            "grid_row": null,
            "grid_template_areas": null,
            "grid_template_columns": null,
            "grid_template_rows": null,
            "height": null,
            "justify_content": null,
            "justify_items": null,
            "left": null,
            "margin": null,
            "max_height": null,
            "max_width": null,
            "min_height": null,
            "min_width": null,
            "object_fit": null,
            "object_position": null,
            "order": null,
            "overflow": null,
            "overflow_x": null,
            "overflow_y": null,
            "padding": null,
            "right": null,
            "top": null,
            "visibility": null,
            "width": null
          }
        },
<<<<<<< HEAD
        "ed0d07820d0545979d2b06ee3764be78": {
=======
        "fea004006cb741f2a55d50239dde1bb3": {
>>>>>>> 3ad88153a83e156acf1cc19a810547079df4f36e
          "model_module": "@jupyter-widgets/base",
          "model_name": "LayoutModel",
          "model_module_version": "1.2.0",
          "state": {
            "_model_module": "@jupyter-widgets/base",
            "_model_module_version": "1.2.0",
            "_model_name": "LayoutModel",
            "_view_count": null,
            "_view_module": "@jupyter-widgets/base",
            "_view_module_version": "1.2.0",
            "_view_name": "LayoutView",
            "align_content": null,
            "align_items": null,
            "align_self": null,
            "border": null,
            "bottom": null,
            "display": null,
            "flex": null,
            "flex_flow": null,
            "grid_area": null,
            "grid_auto_columns": null,
            "grid_auto_flow": null,
            "grid_auto_rows": null,
            "grid_column": null,
            "grid_gap": null,
            "grid_row": null,
            "grid_template_areas": null,
            "grid_template_columns": null,
            "grid_template_rows": null,
            "height": null,
            "justify_content": null,
            "justify_items": null,
            "left": null,
            "margin": null,
            "max_height": null,
            "max_width": null,
            "min_height": null,
            "min_width": null,
            "object_fit": null,
            "object_position": null,
            "order": null,
            "overflow": null,
            "overflow_x": null,
            "overflow_y": null,
            "padding": null,
            "right": null,
            "top": null,
            "visibility": null,
            "width": null
          }
        },
<<<<<<< HEAD
        "4919048a6d4f4665aa01a87275ad9c14": {
=======
        "e09ec9f2793a4c8ca7d38f41f02ba826": {
>>>>>>> 3ad88153a83e156acf1cc19a810547079df4f36e
          "model_module": "@jupyter-widgets/controls",
          "model_name": "DescriptionStyleModel",
          "model_module_version": "1.5.0",
          "state": {
            "_model_module": "@jupyter-widgets/controls",
            "_model_module_version": "1.5.0",
            "_model_name": "DescriptionStyleModel",
            "_view_count": null,
            "_view_module": "@jupyter-widgets/base",
            "_view_module_version": "1.2.0",
            "_view_name": "StyleView",
            "description_width": ""
          }
        },
<<<<<<< HEAD
        "82cdad0a28824961aa4d8154c3ad3ae2": {
=======
        "338ed71cfafb4f2abaeba8e5f1e70413": {
>>>>>>> 3ad88153a83e156acf1cc19a810547079df4f36e
          "model_module": "@jupyter-widgets/base",
          "model_name": "LayoutModel",
          "model_module_version": "1.2.0",
          "state": {
            "_model_module": "@jupyter-widgets/base",
            "_model_module_version": "1.2.0",
            "_model_name": "LayoutModel",
            "_view_count": null,
            "_view_module": "@jupyter-widgets/base",
            "_view_module_version": "1.2.0",
            "_view_name": "LayoutView",
            "align_content": null,
            "align_items": null,
            "align_self": null,
            "border": null,
            "bottom": null,
            "display": null,
            "flex": null,
            "flex_flow": null,
            "grid_area": null,
            "grid_auto_columns": null,
            "grid_auto_flow": null,
            "grid_auto_rows": null,
            "grid_column": null,
            "grid_gap": null,
            "grid_row": null,
            "grid_template_areas": null,
            "grid_template_columns": null,
            "grid_template_rows": null,
            "height": null,
            "justify_content": null,
            "justify_items": null,
            "left": null,
            "margin": null,
            "max_height": null,
            "max_width": null,
            "min_height": null,
            "min_width": null,
            "object_fit": null,
            "object_position": null,
            "order": null,
            "overflow": null,
            "overflow_x": null,
            "overflow_y": null,
            "padding": null,
            "right": null,
            "top": null,
            "visibility": null,
            "width": null
          }
        },
<<<<<<< HEAD
        "592780ff82334c86b83f8d35b90ba284": {
=======
        "8026b4ceebd34cecbba572f2c970c202": {
>>>>>>> 3ad88153a83e156acf1cc19a810547079df4f36e
          "model_module": "@jupyter-widgets/controls",
          "model_name": "ProgressStyleModel",
          "model_module_version": "1.5.0",
          "state": {
            "_model_module": "@jupyter-widgets/controls",
            "_model_module_version": "1.5.0",
            "_model_name": "ProgressStyleModel",
            "_view_count": null,
            "_view_module": "@jupyter-widgets/base",
            "_view_module_version": "1.2.0",
            "_view_name": "StyleView",
            "bar_color": null,
            "description_width": ""
          }
        },
<<<<<<< HEAD
        "dbb4805ca12249a6b7bcffed16171ab2": {
=======
        "f476f054a111478e8dde9e781fe6d5ab": {
>>>>>>> 3ad88153a83e156acf1cc19a810547079df4f36e
          "model_module": "@jupyter-widgets/base",
          "model_name": "LayoutModel",
          "model_module_version": "1.2.0",
          "state": {
            "_model_module": "@jupyter-widgets/base",
            "_model_module_version": "1.2.0",
            "_model_name": "LayoutModel",
            "_view_count": null,
            "_view_module": "@jupyter-widgets/base",
            "_view_module_version": "1.2.0",
            "_view_name": "LayoutView",
            "align_content": null,
            "align_items": null,
            "align_self": null,
            "border": null,
            "bottom": null,
            "display": null,
            "flex": null,
            "flex_flow": null,
            "grid_area": null,
            "grid_auto_columns": null,
            "grid_auto_flow": null,
            "grid_auto_rows": null,
            "grid_column": null,
            "grid_gap": null,
            "grid_row": null,
            "grid_template_areas": null,
            "grid_template_columns": null,
            "grid_template_rows": null,
            "height": null,
            "justify_content": null,
            "justify_items": null,
            "left": null,
            "margin": null,
            "max_height": null,
            "max_width": null,
            "min_height": null,
            "min_width": null,
            "object_fit": null,
            "object_position": null,
            "order": null,
            "overflow": null,
            "overflow_x": null,
            "overflow_y": null,
            "padding": null,
            "right": null,
            "top": null,
            "visibility": null,
            "width": null
          }
        },
<<<<<<< HEAD
        "ff2cecfe305a4ba6b37c1d49ce1ecb21": {
=======
        "bfe080b591614ba68d5a4332cdcd3b8b": {
>>>>>>> 3ad88153a83e156acf1cc19a810547079df4f36e
          "model_module": "@jupyter-widgets/controls",
          "model_name": "DescriptionStyleModel",
          "model_module_version": "1.5.0",
          "state": {
            "_model_module": "@jupyter-widgets/controls",
            "_model_module_version": "1.5.0",
            "_model_name": "DescriptionStyleModel",
            "_view_count": null,
            "_view_module": "@jupyter-widgets/base",
            "_view_module_version": "1.2.0",
            "_view_name": "StyleView",
            "description_width": ""
          }
        },
<<<<<<< HEAD
        "e177588a898f45568db3dcbb9aad0554": {
=======
        "ecef491067ba4bb0ad6e8c23f40ddf02": {
>>>>>>> 3ad88153a83e156acf1cc19a810547079df4f36e
          "model_module": "@jupyter-widgets/controls",
          "model_name": "HBoxModel",
          "model_module_version": "1.5.0",
          "state": {
            "_dom_classes": [],
            "_model_module": "@jupyter-widgets/controls",
            "_model_module_version": "1.5.0",
            "_model_name": "HBoxModel",
            "_view_count": null,
            "_view_module": "@jupyter-widgets/controls",
            "_view_module_version": "1.5.0",
            "_view_name": "HBoxView",
            "box_style": "",
            "children": [
<<<<<<< HEAD
              "IPY_MODEL_e7b4a4c65c11445b9aed762adf17a34a",
              "IPY_MODEL_83a9607af8474e0d83b04af5e166811d",
              "IPY_MODEL_1f5b042086a44a4491a953292ff0e55d"
            ],
            "layout": "IPY_MODEL_645e6abae7e04723b0552d687e35dc13"
          }
        },
        "e7b4a4c65c11445b9aed762adf17a34a": {
=======
              "IPY_MODEL_ae5d53f149e449d49176ce3a56c3ada3",
              "IPY_MODEL_2b95dabaae2c4ceba67937dd5d1757bb",
              "IPY_MODEL_3db79d97d7e34eeea966fd18c02667b1"
            ],
            "layout": "IPY_MODEL_7fdaf9b18fdb4c95b5c671d5dfbd87d3"
          }
        },
        "ae5d53f149e449d49176ce3a56c3ada3": {
>>>>>>> 3ad88153a83e156acf1cc19a810547079df4f36e
          "model_module": "@jupyter-widgets/controls",
          "model_name": "HTMLModel",
          "model_module_version": "1.5.0",
          "state": {
            "_dom_classes": [],
            "_model_module": "@jupyter-widgets/controls",
            "_model_module_version": "1.5.0",
            "_model_name": "HTMLModel",
            "_view_count": null,
            "_view_module": "@jupyter-widgets/controls",
            "_view_module_version": "1.5.0",
            "_view_name": "HTMLView",
            "description": "",
            "description_tooltip": null,
<<<<<<< HEAD
            "layout": "IPY_MODEL_50855d4c7a544701a1395e3113d68f8c",
            "placeholder": "​",
            "style": "IPY_MODEL_6506f50d83cc410ea39c22e07d57db00",
            "value": "Generating validation split: 100%"
          }
        },
        "83a9607af8474e0d83b04af5e166811d": {
=======
            "layout": "IPY_MODEL_7b3f80be95524ce3983d57197121f65e",
            "placeholder": "​",
            "style": "IPY_MODEL_b6f6b251aea54527bd2fc5a54876b196",
            "value": "Generating validation split: 100%"
          }
        },
        "2b95dabaae2c4ceba67937dd5d1757bb": {
>>>>>>> 3ad88153a83e156acf1cc19a810547079df4f36e
          "model_module": "@jupyter-widgets/controls",
          "model_name": "FloatProgressModel",
          "model_module_version": "1.5.0",
          "state": {
            "_dom_classes": [],
            "_model_module": "@jupyter-widgets/controls",
            "_model_module_version": "1.5.0",
            "_model_name": "FloatProgressModel",
            "_view_count": null,
            "_view_module": "@jupyter-widgets/controls",
            "_view_module_version": "1.5.0",
            "_view_name": "ProgressView",
            "bar_style": "success",
            "description": "",
            "description_tooltip": null,
<<<<<<< HEAD
            "layout": "IPY_MODEL_a3ac51070a9c41b3b553779df49e382b",
            "max": 500,
            "min": 0,
            "orientation": "horizontal",
            "style": "IPY_MODEL_80afcd98de5549c7be8c3260037600f2",
            "value": 500
          }
        },
        "1f5b042086a44a4491a953292ff0e55d": {
=======
            "layout": "IPY_MODEL_e264f012712945c5834d9ccaf46a44b1",
            "max": 500,
            "min": 0,
            "orientation": "horizontal",
            "style": "IPY_MODEL_8362079b71aa457f937521168b8fa4d9",
            "value": 500
          }
        },
        "3db79d97d7e34eeea966fd18c02667b1": {
>>>>>>> 3ad88153a83e156acf1cc19a810547079df4f36e
          "model_module": "@jupyter-widgets/controls",
          "model_name": "HTMLModel",
          "model_module_version": "1.5.0",
          "state": {
            "_dom_classes": [],
            "_model_module": "@jupyter-widgets/controls",
            "_model_module_version": "1.5.0",
            "_model_name": "HTMLModel",
            "_view_count": null,
            "_view_module": "@jupyter-widgets/controls",
            "_view_module_version": "1.5.0",
            "_view_name": "HTMLView",
            "description": "",
            "description_tooltip": null,
<<<<<<< HEAD
            "layout": "IPY_MODEL_f2fba39a8237473db040e1dbdbc1d4e3",
            "placeholder": "​",
            "style": "IPY_MODEL_b8384f45128c4ddfa06abe665d5ef634",
            "value": " 500/500 [00:00&lt;00:00, 18059.28 examples/s]"
          }
        },
        "645e6abae7e04723b0552d687e35dc13": {
=======
            "layout": "IPY_MODEL_88dd244c0ea14ff9a9d309974c42cbfe",
            "placeholder": "​",
            "style": "IPY_MODEL_eba94e7768dd4e558568e4bbee97079f",
            "value": " 500/500 [00:00&lt;00:00, 14284.90 examples/s]"
          }
        },
        "7fdaf9b18fdb4c95b5c671d5dfbd87d3": {
>>>>>>> 3ad88153a83e156acf1cc19a810547079df4f36e
          "model_module": "@jupyter-widgets/base",
          "model_name": "LayoutModel",
          "model_module_version": "1.2.0",
          "state": {
            "_model_module": "@jupyter-widgets/base",
            "_model_module_version": "1.2.0",
            "_model_name": "LayoutModel",
            "_view_count": null,
            "_view_module": "@jupyter-widgets/base",
            "_view_module_version": "1.2.0",
            "_view_name": "LayoutView",
            "align_content": null,
            "align_items": null,
            "align_self": null,
            "border": null,
            "bottom": null,
            "display": null,
            "flex": null,
            "flex_flow": null,
            "grid_area": null,
            "grid_auto_columns": null,
            "grid_auto_flow": null,
            "grid_auto_rows": null,
            "grid_column": null,
            "grid_gap": null,
            "grid_row": null,
            "grid_template_areas": null,
            "grid_template_columns": null,
            "grid_template_rows": null,
            "height": null,
            "justify_content": null,
            "justify_items": null,
            "left": null,
            "margin": null,
            "max_height": null,
            "max_width": null,
            "min_height": null,
            "min_width": null,
            "object_fit": null,
            "object_position": null,
            "order": null,
            "overflow": null,
            "overflow_x": null,
            "overflow_y": null,
            "padding": null,
            "right": null,
            "top": null,
            "visibility": null,
            "width": null
          }
        },
<<<<<<< HEAD
        "50855d4c7a544701a1395e3113d68f8c": {
=======
        "7b3f80be95524ce3983d57197121f65e": {
>>>>>>> 3ad88153a83e156acf1cc19a810547079df4f36e
          "model_module": "@jupyter-widgets/base",
          "model_name": "LayoutModel",
          "model_module_version": "1.2.0",
          "state": {
            "_model_module": "@jupyter-widgets/base",
            "_model_module_version": "1.2.0",
            "_model_name": "LayoutModel",
            "_view_count": null,
            "_view_module": "@jupyter-widgets/base",
            "_view_module_version": "1.2.0",
            "_view_name": "LayoutView",
            "align_content": null,
            "align_items": null,
            "align_self": null,
            "border": null,
            "bottom": null,
            "display": null,
            "flex": null,
            "flex_flow": null,
            "grid_area": null,
            "grid_auto_columns": null,
            "grid_auto_flow": null,
            "grid_auto_rows": null,
            "grid_column": null,
            "grid_gap": null,
            "grid_row": null,
            "grid_template_areas": null,
            "grid_template_columns": null,
            "grid_template_rows": null,
            "height": null,
            "justify_content": null,
            "justify_items": null,
            "left": null,
            "margin": null,
            "max_height": null,
            "max_width": null,
            "min_height": null,
            "min_width": null,
            "object_fit": null,
            "object_position": null,
            "order": null,
            "overflow": null,
            "overflow_x": null,
            "overflow_y": null,
            "padding": null,
            "right": null,
            "top": null,
            "visibility": null,
            "width": null
          }
        },
<<<<<<< HEAD
        "6506f50d83cc410ea39c22e07d57db00": {
=======
        "b6f6b251aea54527bd2fc5a54876b196": {
>>>>>>> 3ad88153a83e156acf1cc19a810547079df4f36e
          "model_module": "@jupyter-widgets/controls",
          "model_name": "DescriptionStyleModel",
          "model_module_version": "1.5.0",
          "state": {
            "_model_module": "@jupyter-widgets/controls",
            "_model_module_version": "1.5.0",
            "_model_name": "DescriptionStyleModel",
            "_view_count": null,
            "_view_module": "@jupyter-widgets/base",
            "_view_module_version": "1.2.0",
            "_view_name": "StyleView",
            "description_width": ""
          }
        },
<<<<<<< HEAD
        "a3ac51070a9c41b3b553779df49e382b": {
=======
        "e264f012712945c5834d9ccaf46a44b1": {
>>>>>>> 3ad88153a83e156acf1cc19a810547079df4f36e
          "model_module": "@jupyter-widgets/base",
          "model_name": "LayoutModel",
          "model_module_version": "1.2.0",
          "state": {
            "_model_module": "@jupyter-widgets/base",
            "_model_module_version": "1.2.0",
            "_model_name": "LayoutModel",
            "_view_count": null,
            "_view_module": "@jupyter-widgets/base",
            "_view_module_version": "1.2.0",
            "_view_name": "LayoutView",
            "align_content": null,
            "align_items": null,
            "align_self": null,
            "border": null,
            "bottom": null,
            "display": null,
            "flex": null,
            "flex_flow": null,
            "grid_area": null,
            "grid_auto_columns": null,
            "grid_auto_flow": null,
            "grid_auto_rows": null,
            "grid_column": null,
            "grid_gap": null,
            "grid_row": null,
            "grid_template_areas": null,
            "grid_template_columns": null,
            "grid_template_rows": null,
            "height": null,
            "justify_content": null,
            "justify_items": null,
            "left": null,
            "margin": null,
            "max_height": null,
            "max_width": null,
            "min_height": null,
            "min_width": null,
            "object_fit": null,
            "object_position": null,
            "order": null,
            "overflow": null,
            "overflow_x": null,
            "overflow_y": null,
            "padding": null,
            "right": null,
            "top": null,
            "visibility": null,
            "width": null
          }
        },
<<<<<<< HEAD
        "80afcd98de5549c7be8c3260037600f2": {
=======
        "8362079b71aa457f937521168b8fa4d9": {
>>>>>>> 3ad88153a83e156acf1cc19a810547079df4f36e
          "model_module": "@jupyter-widgets/controls",
          "model_name": "ProgressStyleModel",
          "model_module_version": "1.5.0",
          "state": {
            "_model_module": "@jupyter-widgets/controls",
            "_model_module_version": "1.5.0",
            "_model_name": "ProgressStyleModel",
            "_view_count": null,
            "_view_module": "@jupyter-widgets/base",
            "_view_module_version": "1.2.0",
            "_view_name": "StyleView",
            "bar_color": null,
            "description_width": ""
          }
        },
<<<<<<< HEAD
        "f2fba39a8237473db040e1dbdbc1d4e3": {
=======
        "88dd244c0ea14ff9a9d309974c42cbfe": {
>>>>>>> 3ad88153a83e156acf1cc19a810547079df4f36e
          "model_module": "@jupyter-widgets/base",
          "model_name": "LayoutModel",
          "model_module_version": "1.2.0",
          "state": {
            "_model_module": "@jupyter-widgets/base",
            "_model_module_version": "1.2.0",
            "_model_name": "LayoutModel",
            "_view_count": null,
            "_view_module": "@jupyter-widgets/base",
            "_view_module_version": "1.2.0",
            "_view_name": "LayoutView",
            "align_content": null,
            "align_items": null,
            "align_self": null,
            "border": null,
            "bottom": null,
            "display": null,
            "flex": null,
            "flex_flow": null,
            "grid_area": null,
            "grid_auto_columns": null,
            "grid_auto_flow": null,
            "grid_auto_rows": null,
            "grid_column": null,
            "grid_gap": null,
            "grid_row": null,
            "grid_template_areas": null,
            "grid_template_columns": null,
            "grid_template_rows": null,
            "height": null,
            "justify_content": null,
            "justify_items": null,
            "left": null,
            "margin": null,
            "max_height": null,
            "max_width": null,
            "min_height": null,
            "min_width": null,
            "object_fit": null,
            "object_position": null,
            "order": null,
            "overflow": null,
            "overflow_x": null,
            "overflow_y": null,
            "padding": null,
            "right": null,
            "top": null,
            "visibility": null,
            "width": null
          }
        },
<<<<<<< HEAD
        "b8384f45128c4ddfa06abe665d5ef634": {
=======
        "eba94e7768dd4e558568e4bbee97079f": {
>>>>>>> 3ad88153a83e156acf1cc19a810547079df4f36e
          "model_module": "@jupyter-widgets/controls",
          "model_name": "DescriptionStyleModel",
          "model_module_version": "1.5.0",
          "state": {
            "_model_module": "@jupyter-widgets/controls",
            "_model_module_version": "1.5.0",
            "_model_name": "DescriptionStyleModel",
            "_view_count": null,
            "_view_module": "@jupyter-widgets/base",
            "_view_module_version": "1.2.0",
            "_view_name": "StyleView",
            "description_width": ""
          }
        },
<<<<<<< HEAD
        "3034c9dbf7814c94854b4c0ddf527ea4": {
=======
        "0653cc474e934ddc912569a3be44aafe": {
>>>>>>> 3ad88153a83e156acf1cc19a810547079df4f36e
          "model_module": "@jupyter-widgets/controls",
          "model_name": "HBoxModel",
          "model_module_version": "1.5.0",
          "state": {
            "_dom_classes": [],
            "_model_module": "@jupyter-widgets/controls",
            "_model_module_version": "1.5.0",
            "_model_name": "HBoxModel",
            "_view_count": null,
            "_view_module": "@jupyter-widgets/controls",
            "_view_module_version": "1.5.0",
            "_view_name": "HBoxView",
            "box_style": "",
            "children": [
<<<<<<< HEAD
              "IPY_MODEL_d5aa66319ee64852b80af7a6fe5a5cda",
              "IPY_MODEL_a50a7b47da5f4feab3f0d809098a7206",
              "IPY_MODEL_7369a1490da240879ba2cb1d566e57e9"
            ],
            "layout": "IPY_MODEL_6d9e1e60326846b7bab82272f4876c7b"
          }
        },
        "d5aa66319ee64852b80af7a6fe5a5cda": {
=======
              "IPY_MODEL_9ae0feab18c345eab55314460c9b1092",
              "IPY_MODEL_5c4a48f2060945e6902f62b375a9637a",
              "IPY_MODEL_b107f559e09f4ca2b772efff624df859"
            ],
            "layout": "IPY_MODEL_b19752f49224410d8e946e1b19830593"
          }
        },
        "9ae0feab18c345eab55314460c9b1092": {
>>>>>>> 3ad88153a83e156acf1cc19a810547079df4f36e
          "model_module": "@jupyter-widgets/controls",
          "model_name": "HTMLModel",
          "model_module_version": "1.5.0",
          "state": {
            "_dom_classes": [],
            "_model_module": "@jupyter-widgets/controls",
            "_model_module_version": "1.5.0",
            "_model_name": "HTMLModel",
            "_view_count": null,
            "_view_module": "@jupyter-widgets/controls",
            "_view_module_version": "1.5.0",
            "_view_name": "HTMLView",
            "description": "",
            "description_tooltip": null,
<<<<<<< HEAD
            "layout": "IPY_MODEL_8f54c65fd1df40999c2820dee0f0047e",
            "placeholder": "​",
            "style": "IPY_MODEL_4e14b2dbacc948abb95dbd79c8a5d860",
            "value": "Generating test split: 100%"
          }
        },
        "a50a7b47da5f4feab3f0d809098a7206": {
=======
            "layout": "IPY_MODEL_60ae482a12e94361b32aa4fe104c4d19",
            "placeholder": "​",
            "style": "IPY_MODEL_ff42160d9264454da03739ffc91320f6",
            "value": "Generating test split: 100%"
          }
        },
        "5c4a48f2060945e6902f62b375a9637a": {
>>>>>>> 3ad88153a83e156acf1cc19a810547079df4f36e
          "model_module": "@jupyter-widgets/controls",
          "model_name": "FloatProgressModel",
          "model_module_version": "1.5.0",
          "state": {
            "_dom_classes": [],
            "_model_module": "@jupyter-widgets/controls",
            "_model_module_version": "1.5.0",
            "_model_name": "FloatProgressModel",
            "_view_count": null,
            "_view_module": "@jupyter-widgets/controls",
            "_view_module_version": "1.5.0",
            "_view_name": "ProgressView",
            "bar_style": "success",
            "description": "",
            "description_tooltip": null,
<<<<<<< HEAD
            "layout": "IPY_MODEL_7312c6edb8ad47ada79f38d76317c61d",
            "max": 1500,
            "min": 0,
            "orientation": "horizontal",
            "style": "IPY_MODEL_80eb0217189d49ebb3d491d23bafabea",
            "value": 1500
          }
        },
        "7369a1490da240879ba2cb1d566e57e9": {
=======
            "layout": "IPY_MODEL_2daba831223840d69646745a3b0968a2",
            "max": 1500,
            "min": 0,
            "orientation": "horizontal",
            "style": "IPY_MODEL_e69fb956bafc4fba9b22270f540b9fc6",
            "value": 1500
          }
        },
        "b107f559e09f4ca2b772efff624df859": {
>>>>>>> 3ad88153a83e156acf1cc19a810547079df4f36e
          "model_module": "@jupyter-widgets/controls",
          "model_name": "HTMLModel",
          "model_module_version": "1.5.0",
          "state": {
            "_dom_classes": [],
            "_model_module": "@jupyter-widgets/controls",
            "_model_module_version": "1.5.0",
            "_model_name": "HTMLModel",
            "_view_count": null,
            "_view_module": "@jupyter-widgets/controls",
            "_view_module_version": "1.5.0",
            "_view_name": "HTMLView",
            "description": "",
            "description_tooltip": null,
<<<<<<< HEAD
            "layout": "IPY_MODEL_7850529bf5564457aa95027b8d86fcbd",
            "placeholder": "​",
            "style": "IPY_MODEL_013f1541a8c747a99d4751f987de2170",
            "value": " 1500/1500 [00:00&lt;00:00, 21428.88 examples/s]"
          }
        },
        "6d9e1e60326846b7bab82272f4876c7b": {
=======
            "layout": "IPY_MODEL_4587275d4f004d1cb684435697e9e17b",
            "placeholder": "​",
            "style": "IPY_MODEL_94b0359e4d894a849d47fe2ce26ec142",
            "value": " 1500/1500 [00:00&lt;00:00, 34700.38 examples/s]"
          }
        },
        "b19752f49224410d8e946e1b19830593": {
>>>>>>> 3ad88153a83e156acf1cc19a810547079df4f36e
          "model_module": "@jupyter-widgets/base",
          "model_name": "LayoutModel",
          "model_module_version": "1.2.0",
          "state": {
            "_model_module": "@jupyter-widgets/base",
            "_model_module_version": "1.2.0",
            "_model_name": "LayoutModel",
            "_view_count": null,
            "_view_module": "@jupyter-widgets/base",
            "_view_module_version": "1.2.0",
            "_view_name": "LayoutView",
            "align_content": null,
            "align_items": null,
            "align_self": null,
            "border": null,
            "bottom": null,
            "display": null,
            "flex": null,
            "flex_flow": null,
            "grid_area": null,
            "grid_auto_columns": null,
            "grid_auto_flow": null,
            "grid_auto_rows": null,
            "grid_column": null,
            "grid_gap": null,
            "grid_row": null,
            "grid_template_areas": null,
            "grid_template_columns": null,
            "grid_template_rows": null,
            "height": null,
            "justify_content": null,
            "justify_items": null,
            "left": null,
            "margin": null,
            "max_height": null,
            "max_width": null,
            "min_height": null,
            "min_width": null,
            "object_fit": null,
            "object_position": null,
            "order": null,
            "overflow": null,
            "overflow_x": null,
            "overflow_y": null,
            "padding": null,
            "right": null,
            "top": null,
            "visibility": null,
            "width": null
          }
        },
<<<<<<< HEAD
        "8f54c65fd1df40999c2820dee0f0047e": {
=======
        "60ae482a12e94361b32aa4fe104c4d19": {
>>>>>>> 3ad88153a83e156acf1cc19a810547079df4f36e
          "model_module": "@jupyter-widgets/base",
          "model_name": "LayoutModel",
          "model_module_version": "1.2.0",
          "state": {
            "_model_module": "@jupyter-widgets/base",
            "_model_module_version": "1.2.0",
            "_model_name": "LayoutModel",
            "_view_count": null,
            "_view_module": "@jupyter-widgets/base",
            "_view_module_version": "1.2.0",
            "_view_name": "LayoutView",
            "align_content": null,
            "align_items": null,
            "align_self": null,
            "border": null,
            "bottom": null,
            "display": null,
            "flex": null,
            "flex_flow": null,
            "grid_area": null,
            "grid_auto_columns": null,
            "grid_auto_flow": null,
            "grid_auto_rows": null,
            "grid_column": null,
            "grid_gap": null,
            "grid_row": null,
            "grid_template_areas": null,
            "grid_template_columns": null,
            "grid_template_rows": null,
            "height": null,
            "justify_content": null,
            "justify_items": null,
            "left": null,
            "margin": null,
            "max_height": null,
            "max_width": null,
            "min_height": null,
            "min_width": null,
            "object_fit": null,
            "object_position": null,
            "order": null,
            "overflow": null,
            "overflow_x": null,
            "overflow_y": null,
            "padding": null,
            "right": null,
            "top": null,
            "visibility": null,
            "width": null
          }
        },
<<<<<<< HEAD
        "4e14b2dbacc948abb95dbd79c8a5d860": {
=======
        "ff42160d9264454da03739ffc91320f6": {
>>>>>>> 3ad88153a83e156acf1cc19a810547079df4f36e
          "model_module": "@jupyter-widgets/controls",
          "model_name": "DescriptionStyleModel",
          "model_module_version": "1.5.0",
          "state": {
            "_model_module": "@jupyter-widgets/controls",
            "_model_module_version": "1.5.0",
            "_model_name": "DescriptionStyleModel",
            "_view_count": null,
            "_view_module": "@jupyter-widgets/base",
            "_view_module_version": "1.2.0",
            "_view_name": "StyleView",
            "description_width": ""
          }
        },
<<<<<<< HEAD
        "7312c6edb8ad47ada79f38d76317c61d": {
=======
        "2daba831223840d69646745a3b0968a2": {
>>>>>>> 3ad88153a83e156acf1cc19a810547079df4f36e
          "model_module": "@jupyter-widgets/base",
          "model_name": "LayoutModel",
          "model_module_version": "1.2.0",
          "state": {
            "_model_module": "@jupyter-widgets/base",
            "_model_module_version": "1.2.0",
            "_model_name": "LayoutModel",
            "_view_count": null,
            "_view_module": "@jupyter-widgets/base",
            "_view_module_version": "1.2.0",
            "_view_name": "LayoutView",
            "align_content": null,
            "align_items": null,
            "align_self": null,
            "border": null,
            "bottom": null,
            "display": null,
            "flex": null,
            "flex_flow": null,
            "grid_area": null,
            "grid_auto_columns": null,
            "grid_auto_flow": null,
            "grid_auto_rows": null,
            "grid_column": null,
            "grid_gap": null,
            "grid_row": null,
            "grid_template_areas": null,
            "grid_template_columns": null,
            "grid_template_rows": null,
            "height": null,
            "justify_content": null,
            "justify_items": null,
            "left": null,
            "margin": null,
            "max_height": null,
            "max_width": null,
            "min_height": null,
            "min_width": null,
            "object_fit": null,
            "object_position": null,
            "order": null,
            "overflow": null,
            "overflow_x": null,
            "overflow_y": null,
            "padding": null,
            "right": null,
            "top": null,
            "visibility": null,
            "width": null
          }
        },
<<<<<<< HEAD
        "80eb0217189d49ebb3d491d23bafabea": {
=======
        "e69fb956bafc4fba9b22270f540b9fc6": {
>>>>>>> 3ad88153a83e156acf1cc19a810547079df4f36e
          "model_module": "@jupyter-widgets/controls",
          "model_name": "ProgressStyleModel",
          "model_module_version": "1.5.0",
          "state": {
            "_model_module": "@jupyter-widgets/controls",
            "_model_module_version": "1.5.0",
            "_model_name": "ProgressStyleModel",
            "_view_count": null,
            "_view_module": "@jupyter-widgets/base",
            "_view_module_version": "1.2.0",
            "_view_name": "StyleView",
            "bar_color": null,
            "description_width": ""
          }
        },
<<<<<<< HEAD
        "7850529bf5564457aa95027b8d86fcbd": {
=======
        "4587275d4f004d1cb684435697e9e17b": {
>>>>>>> 3ad88153a83e156acf1cc19a810547079df4f36e
          "model_module": "@jupyter-widgets/base",
          "model_name": "LayoutModel",
          "model_module_version": "1.2.0",
          "state": {
            "_model_module": "@jupyter-widgets/base",
            "_model_module_version": "1.2.0",
            "_model_name": "LayoutModel",
            "_view_count": null,
            "_view_module": "@jupyter-widgets/base",
            "_view_module_version": "1.2.0",
            "_view_name": "LayoutView",
            "align_content": null,
            "align_items": null,
            "align_self": null,
            "border": null,
            "bottom": null,
            "display": null,
            "flex": null,
            "flex_flow": null,
            "grid_area": null,
            "grid_auto_columns": null,
            "grid_auto_flow": null,
            "grid_auto_rows": null,
            "grid_column": null,
            "grid_gap": null,
            "grid_row": null,
            "grid_template_areas": null,
            "grid_template_columns": null,
            "grid_template_rows": null,
            "height": null,
            "justify_content": null,
            "justify_items": null,
            "left": null,
            "margin": null,
            "max_height": null,
            "max_width": null,
            "min_height": null,
            "min_width": null,
            "object_fit": null,
            "object_position": null,
            "order": null,
            "overflow": null,
            "overflow_x": null,
            "overflow_y": null,
            "padding": null,
            "right": null,
            "top": null,
            "visibility": null,
            "width": null
          }
        },
<<<<<<< HEAD
        "013f1541a8c747a99d4751f987de2170": {
=======
        "94b0359e4d894a849d47fe2ce26ec142": {
>>>>>>> 3ad88153a83e156acf1cc19a810547079df4f36e
          "model_module": "@jupyter-widgets/controls",
          "model_name": "DescriptionStyleModel",
          "model_module_version": "1.5.0",
          "state": {
            "_model_module": "@jupyter-widgets/controls",
            "_model_module_version": "1.5.0",
            "_model_name": "DescriptionStyleModel",
            "_view_count": null,
            "_view_module": "@jupyter-widgets/base",
            "_view_module_version": "1.2.0",
            "_view_name": "StyleView",
            "description_width": ""
          }
        },
<<<<<<< HEAD
        "dbeb960cf53a40049b9140b243d5be6b": {
=======
        "a19a7eae12724910b8e38eb287f3c963": {
>>>>>>> 3ad88153a83e156acf1cc19a810547079df4f36e
          "model_module": "@jupyter-widgets/controls",
          "model_name": "HBoxModel",
          "model_module_version": "1.5.0",
          "state": {
            "_dom_classes": [],
            "_model_module": "@jupyter-widgets/controls",
            "_model_module_version": "1.5.0",
            "_model_name": "HBoxModel",
            "_view_count": null,
            "_view_module": "@jupyter-widgets/controls",
            "_view_module_version": "1.5.0",
            "_view_name": "HBoxView",
            "box_style": "",
            "children": [
<<<<<<< HEAD
              "IPY_MODEL_066bb2f1e1ac4c7eb35b27ebcbfa9321",
              "IPY_MODEL_43623a1399744c6489c379d8b3f8b102",
              "IPY_MODEL_fb7239d4cfa64c45b4dae9f85fedce07"
            ],
            "layout": "IPY_MODEL_9f67cda90b7b4ec2b162c9023aef413f"
          }
        },
        "066bb2f1e1ac4c7eb35b27ebcbfa9321": {
=======
              "IPY_MODEL_baa65b17189f487db3b135511ff0bd0b",
              "IPY_MODEL_ed0cfe605f614f64a029a967e6fb667b",
              "IPY_MODEL_779196fb6f674f8097c36444dd10bfc7"
            ],
            "layout": "IPY_MODEL_665856c19bd24afdb1d7dab9d999b6cb"
          }
        },
        "baa65b17189f487db3b135511ff0bd0b": {
>>>>>>> 3ad88153a83e156acf1cc19a810547079df4f36e
          "model_module": "@jupyter-widgets/controls",
          "model_name": "HTMLModel",
          "model_module_version": "1.5.0",
          "state": {
            "_dom_classes": [],
            "_model_module": "@jupyter-widgets/controls",
            "_model_module_version": "1.5.0",
            "_model_name": "HTMLModel",
            "_view_count": null,
            "_view_module": "@jupyter-widgets/controls",
            "_view_module_version": "1.5.0",
            "_view_name": "HTMLView",
            "description": "",
            "description_tooltip": null,
<<<<<<< HEAD
            "layout": "IPY_MODEL_181182baf213492499115d4d3adef3cc",
            "placeholder": "​",
            "style": "IPY_MODEL_a3acd69a5c6847afbd6e00e6e9884e46",
            "value": "config.json: "
          }
        },
        "43623a1399744c6489c379d8b3f8b102": {
=======
            "layout": "IPY_MODEL_dd026bed349446caa3736c77440ff48f",
            "placeholder": "​",
            "style": "IPY_MODEL_61808355788b4411aeb481fb04f676ea",
            "value": "config.json: "
          }
        },
        "ed0cfe605f614f64a029a967e6fb667b": {
>>>>>>> 3ad88153a83e156acf1cc19a810547079df4f36e
          "model_module": "@jupyter-widgets/controls",
          "model_name": "FloatProgressModel",
          "model_module_version": "1.5.0",
          "state": {
            "_dom_classes": [],
            "_model_module": "@jupyter-widgets/controls",
            "_model_module_version": "1.5.0",
            "_model_name": "FloatProgressModel",
            "_view_count": null,
            "_view_module": "@jupyter-widgets/controls",
            "_view_module_version": "1.5.0",
            "_view_name": "ProgressView",
            "bar_style": "success",
            "description": "",
            "description_tooltip": null,
<<<<<<< HEAD
            "layout": "IPY_MODEL_80ea2a6d2f574b609b094f31ac803ec1",
            "max": 1,
            "min": 0,
            "orientation": "horizontal",
            "style": "IPY_MODEL_e07ddeb428074f6db72684dd60e33b15",
            "value": 1
          }
        },
        "fb7239d4cfa64c45b4dae9f85fedce07": {
=======
            "layout": "IPY_MODEL_c843320bad14410bb0d63b77e910de26",
            "max": 1,
            "min": 0,
            "orientation": "horizontal",
            "style": "IPY_MODEL_3ca03f15d7e94996aa0feeacf44c9aab",
            "value": 1
          }
        },
        "779196fb6f674f8097c36444dd10bfc7": {
>>>>>>> 3ad88153a83e156acf1cc19a810547079df4f36e
          "model_module": "@jupyter-widgets/controls",
          "model_name": "HTMLModel",
          "model_module_version": "1.5.0",
          "state": {
            "_dom_classes": [],
            "_model_module": "@jupyter-widgets/controls",
            "_model_module_version": "1.5.0",
            "_model_name": "HTMLModel",
            "_view_count": null,
            "_view_module": "@jupyter-widgets/controls",
            "_view_module_version": "1.5.0",
            "_view_name": "HTMLView",
            "description": "",
            "description_tooltip": null,
<<<<<<< HEAD
            "layout": "IPY_MODEL_1d337f0f807a45f18410bc2e214c2236",
            "placeholder": "​",
            "style": "IPY_MODEL_4085fce8224645b1b9aa4d7934978767",
            "value": " 1.40k/? [00:00&lt;00:00, 62.9kB/s]"
          }
        },
        "9f67cda90b7b4ec2b162c9023aef413f": {
=======
            "layout": "IPY_MODEL_b2e629050b7e4334b51e912b88525548",
            "placeholder": "​",
            "style": "IPY_MODEL_7f2f5d5076634992884be932eb442ae0",
            "value": " 1.40k/? [00:00&lt;00:00, 123kB/s]"
          }
        },
        "665856c19bd24afdb1d7dab9d999b6cb": {
>>>>>>> 3ad88153a83e156acf1cc19a810547079df4f36e
          "model_module": "@jupyter-widgets/base",
          "model_name": "LayoutModel",
          "model_module_version": "1.2.0",
          "state": {
            "_model_module": "@jupyter-widgets/base",
            "_model_module_version": "1.2.0",
            "_model_name": "LayoutModel",
            "_view_count": null,
            "_view_module": "@jupyter-widgets/base",
            "_view_module_version": "1.2.0",
            "_view_name": "LayoutView",
            "align_content": null,
            "align_items": null,
            "align_self": null,
            "border": null,
            "bottom": null,
            "display": null,
            "flex": null,
            "flex_flow": null,
            "grid_area": null,
            "grid_auto_columns": null,
            "grid_auto_flow": null,
            "grid_auto_rows": null,
            "grid_column": null,
            "grid_gap": null,
            "grid_row": null,
            "grid_template_areas": null,
            "grid_template_columns": null,
            "grid_template_rows": null,
            "height": null,
            "justify_content": null,
            "justify_items": null,
            "left": null,
            "margin": null,
            "max_height": null,
            "max_width": null,
            "min_height": null,
            "min_width": null,
            "object_fit": null,
            "object_position": null,
            "order": null,
            "overflow": null,
            "overflow_x": null,
            "overflow_y": null,
            "padding": null,
            "right": null,
            "top": null,
            "visibility": null,
            "width": null
          }
        },
<<<<<<< HEAD
        "181182baf213492499115d4d3adef3cc": {
=======
        "dd026bed349446caa3736c77440ff48f": {
>>>>>>> 3ad88153a83e156acf1cc19a810547079df4f36e
          "model_module": "@jupyter-widgets/base",
          "model_name": "LayoutModel",
          "model_module_version": "1.2.0",
          "state": {
            "_model_module": "@jupyter-widgets/base",
            "_model_module_version": "1.2.0",
            "_model_name": "LayoutModel",
            "_view_count": null,
            "_view_module": "@jupyter-widgets/base",
            "_view_module_version": "1.2.0",
            "_view_name": "LayoutView",
            "align_content": null,
            "align_items": null,
            "align_self": null,
            "border": null,
            "bottom": null,
            "display": null,
            "flex": null,
            "flex_flow": null,
            "grid_area": null,
            "grid_auto_columns": null,
            "grid_auto_flow": null,
            "grid_auto_rows": null,
            "grid_column": null,
            "grid_gap": null,
            "grid_row": null,
            "grid_template_areas": null,
            "grid_template_columns": null,
            "grid_template_rows": null,
            "height": null,
            "justify_content": null,
            "justify_items": null,
            "left": null,
            "margin": null,
            "max_height": null,
            "max_width": null,
            "min_height": null,
            "min_width": null,
            "object_fit": null,
            "object_position": null,
            "order": null,
            "overflow": null,
            "overflow_x": null,
            "overflow_y": null,
            "padding": null,
            "right": null,
            "top": null,
            "visibility": null,
            "width": null
          }
        },
<<<<<<< HEAD
        "a3acd69a5c6847afbd6e00e6e9884e46": {
=======
        "61808355788b4411aeb481fb04f676ea": {
>>>>>>> 3ad88153a83e156acf1cc19a810547079df4f36e
          "model_module": "@jupyter-widgets/controls",
          "model_name": "DescriptionStyleModel",
          "model_module_version": "1.5.0",
          "state": {
            "_model_module": "@jupyter-widgets/controls",
            "_model_module_version": "1.5.0",
            "_model_name": "DescriptionStyleModel",
            "_view_count": null,
            "_view_module": "@jupyter-widgets/base",
            "_view_module_version": "1.2.0",
            "_view_name": "StyleView",
            "description_width": ""
          }
        },
<<<<<<< HEAD
        "80ea2a6d2f574b609b094f31ac803ec1": {
=======
        "c843320bad14410bb0d63b77e910de26": {
>>>>>>> 3ad88153a83e156acf1cc19a810547079df4f36e
          "model_module": "@jupyter-widgets/base",
          "model_name": "LayoutModel",
          "model_module_version": "1.2.0",
          "state": {
            "_model_module": "@jupyter-widgets/base",
            "_model_module_version": "1.2.0",
            "_model_name": "LayoutModel",
            "_view_count": null,
            "_view_module": "@jupyter-widgets/base",
            "_view_module_version": "1.2.0",
            "_view_name": "LayoutView",
            "align_content": null,
            "align_items": null,
            "align_self": null,
            "border": null,
            "bottom": null,
            "display": null,
            "flex": null,
            "flex_flow": null,
            "grid_area": null,
            "grid_auto_columns": null,
            "grid_auto_flow": null,
            "grid_auto_rows": null,
            "grid_column": null,
            "grid_gap": null,
            "grid_row": null,
            "grid_template_areas": null,
            "grid_template_columns": null,
            "grid_template_rows": null,
            "height": null,
            "justify_content": null,
            "justify_items": null,
            "left": null,
            "margin": null,
            "max_height": null,
            "max_width": null,
            "min_height": null,
            "min_width": null,
            "object_fit": null,
            "object_position": null,
            "order": null,
            "overflow": null,
            "overflow_x": null,
            "overflow_y": null,
            "padding": null,
            "right": null,
            "top": null,
            "visibility": null,
            "width": "20px"
          }
        },
<<<<<<< HEAD
        "e07ddeb428074f6db72684dd60e33b15": {
=======
        "3ca03f15d7e94996aa0feeacf44c9aab": {
>>>>>>> 3ad88153a83e156acf1cc19a810547079df4f36e
          "model_module": "@jupyter-widgets/controls",
          "model_name": "ProgressStyleModel",
          "model_module_version": "1.5.0",
          "state": {
            "_model_module": "@jupyter-widgets/controls",
            "_model_module_version": "1.5.0",
            "_model_name": "ProgressStyleModel",
            "_view_count": null,
            "_view_module": "@jupyter-widgets/base",
            "_view_module_version": "1.2.0",
            "_view_name": "StyleView",
            "bar_color": null,
            "description_width": ""
          }
        },
<<<<<<< HEAD
        "1d337f0f807a45f18410bc2e214c2236": {
=======
        "b2e629050b7e4334b51e912b88525548": {
>>>>>>> 3ad88153a83e156acf1cc19a810547079df4f36e
          "model_module": "@jupyter-widgets/base",
          "model_name": "LayoutModel",
          "model_module_version": "1.2.0",
          "state": {
            "_model_module": "@jupyter-widgets/base",
            "_model_module_version": "1.2.0",
            "_model_name": "LayoutModel",
            "_view_count": null,
            "_view_module": "@jupyter-widgets/base",
            "_view_module_version": "1.2.0",
            "_view_name": "LayoutView",
            "align_content": null,
            "align_items": null,
            "align_self": null,
            "border": null,
            "bottom": null,
            "display": null,
            "flex": null,
            "flex_flow": null,
            "grid_area": null,
            "grid_auto_columns": null,
            "grid_auto_flow": null,
            "grid_auto_rows": null,
            "grid_column": null,
            "grid_gap": null,
            "grid_row": null,
            "grid_template_areas": null,
            "grid_template_columns": null,
            "grid_template_rows": null,
            "height": null,
            "justify_content": null,
            "justify_items": null,
            "left": null,
            "margin": null,
            "max_height": null,
            "max_width": null,
            "min_height": null,
            "min_width": null,
            "object_fit": null,
            "object_position": null,
            "order": null,
            "overflow": null,
            "overflow_x": null,
            "overflow_y": null,
            "padding": null,
            "right": null,
            "top": null,
            "visibility": null,
            "width": null
          }
        },
<<<<<<< HEAD
        "4085fce8224645b1b9aa4d7934978767": {
=======
        "7f2f5d5076634992884be932eb442ae0": {
>>>>>>> 3ad88153a83e156acf1cc19a810547079df4f36e
          "model_module": "@jupyter-widgets/controls",
          "model_name": "DescriptionStyleModel",
          "model_module_version": "1.5.0",
          "state": {
            "_model_module": "@jupyter-widgets/controls",
            "_model_module_version": "1.5.0",
            "_model_name": "DescriptionStyleModel",
            "_view_count": null,
            "_view_module": "@jupyter-widgets/base",
            "_view_module_version": "1.2.0",
            "_view_name": "StyleView",
            "description_width": ""
          }
        },
<<<<<<< HEAD
        "d2fd9a3ccb634171b92e73b583893eb2": {
=======
        "dd24fc714bb34127a51e041395037d7c": {
>>>>>>> 3ad88153a83e156acf1cc19a810547079df4f36e
          "model_module": "@jupyter-widgets/controls",
          "model_name": "HBoxModel",
          "model_module_version": "1.5.0",
          "state": {
            "_dom_classes": [],
            "_model_module": "@jupyter-widgets/controls",
            "_model_module_version": "1.5.0",
            "_model_name": "HBoxModel",
            "_view_count": null,
            "_view_module": "@jupyter-widgets/controls",
            "_view_module_version": "1.5.0",
            "_view_name": "HBoxView",
            "box_style": "",
            "children": [
<<<<<<< HEAD
              "IPY_MODEL_bfd1c4da056c4159b7f0ff0acb6ab34e",
              "IPY_MODEL_5e1aa5a0615e46828495705b23ab38cf",
              "IPY_MODEL_1d8a8e8ec1fd47bbab649b759d922ddf"
            ],
            "layout": "IPY_MODEL_b96fc537e08d40aba25ed5ef77001b52"
          }
        },
        "bfd1c4da056c4159b7f0ff0acb6ab34e": {
=======
              "IPY_MODEL_2222306b90f04b4a9a97b78bc5dfc3ed",
              "IPY_MODEL_ab9b0c42a082433b90ff34d53fb0568c",
              "IPY_MODEL_e76390db42e448989400c3ba098643a6"
            ],
            "layout": "IPY_MODEL_af8ac97e42f54737915408e80bb02dea"
          }
        },
        "2222306b90f04b4a9a97b78bc5dfc3ed": {
>>>>>>> 3ad88153a83e156acf1cc19a810547079df4f36e
          "model_module": "@jupyter-widgets/controls",
          "model_name": "HTMLModel",
          "model_module_version": "1.5.0",
          "state": {
            "_dom_classes": [],
            "_model_module": "@jupyter-widgets/controls",
            "_model_module_version": "1.5.0",
            "_model_name": "HTMLModel",
            "_view_count": null,
            "_view_module": "@jupyter-widgets/controls",
            "_view_module_version": "1.5.0",
            "_view_name": "HTMLView",
            "description": "",
            "description_tooltip": null,
<<<<<<< HEAD
            "layout": "IPY_MODEL_ed0ebbe68fee49e2989ce5507a815346",
            "placeholder": "​",
            "style": "IPY_MODEL_1051770684fd49ffa684b1408b908649",
            "value": "model.safetensors: 100%"
          }
        },
        "5e1aa5a0615e46828495705b23ab38cf": {
=======
            "layout": "IPY_MODEL_62aea10466c54417994df1b352ea5aa9",
            "placeholder": "​",
            "style": "IPY_MODEL_b6107b7485904700a8d03d9e7c75a703",
            "value": "model.safetensors: 100%"
          }
        },
        "ab9b0c42a082433b90ff34d53fb0568c": {
>>>>>>> 3ad88153a83e156acf1cc19a810547079df4f36e
          "model_module": "@jupyter-widgets/controls",
          "model_name": "FloatProgressModel",
          "model_module_version": "1.5.0",
          "state": {
            "_dom_classes": [],
            "_model_module": "@jupyter-widgets/controls",
            "_model_module_version": "1.5.0",
            "_model_name": "FloatProgressModel",
            "_view_count": null,
            "_view_module": "@jupyter-widgets/controls",
            "_view_module_version": "1.5.0",
            "_view_name": "ProgressView",
            "bar_style": "success",
            "description": "",
            "description_tooltip": null,
<<<<<<< HEAD
            "layout": "IPY_MODEL_f1039edb15c6419d95ae57bfd0706ea5",
            "max": 990345061,
            "min": 0,
            "orientation": "horizontal",
            "style": "IPY_MODEL_d003c2e7c20d46b5bee468920db334e2",
            "value": 990345061
          }
        },
        "1d8a8e8ec1fd47bbab649b759d922ddf": {
=======
            "layout": "IPY_MODEL_930ec39d53474c08b92b86f3581aaf17",
            "max": 990345061,
            "min": 0,
            "orientation": "horizontal",
            "style": "IPY_MODEL_18b4eff241214ef88f890aaba8dcb3a6",
            "value": 990345061
          }
        },
        "e76390db42e448989400c3ba098643a6": {
>>>>>>> 3ad88153a83e156acf1cc19a810547079df4f36e
          "model_module": "@jupyter-widgets/controls",
          "model_name": "HTMLModel",
          "model_module_version": "1.5.0",
          "state": {
            "_dom_classes": [],
            "_model_module": "@jupyter-widgets/controls",
            "_model_module_version": "1.5.0",
            "_model_name": "HTMLModel",
            "_view_count": null,
            "_view_module": "@jupyter-widgets/controls",
            "_view_module_version": "1.5.0",
            "_view_name": "HTMLView",
            "description": "",
            "description_tooltip": null,
<<<<<<< HEAD
            "layout": "IPY_MODEL_4e10ab98778643fca00d985c196c14fc",
            "placeholder": "​",
            "style": "IPY_MODEL_f0fda6e2745a4ad08dffd448c58d2624",
            "value": " 990M/990M [00:23&lt;00:00, 55.6MB/s]"
          }
        },
        "b96fc537e08d40aba25ed5ef77001b52": {
=======
            "layout": "IPY_MODEL_ebca3ed6851a40dea16eec430ea7eaea",
            "placeholder": "​",
            "style": "IPY_MODEL_6e7e24dce2d34c77a244942052ca0bf2",
            "value": " 990M/990M [00:26&lt;00:00, 48.5MB/s]"
          }
        },
        "af8ac97e42f54737915408e80bb02dea": {
>>>>>>> 3ad88153a83e156acf1cc19a810547079df4f36e
          "model_module": "@jupyter-widgets/base",
          "model_name": "LayoutModel",
          "model_module_version": "1.2.0",
          "state": {
            "_model_module": "@jupyter-widgets/base",
            "_model_module_version": "1.2.0",
            "_model_name": "LayoutModel",
            "_view_count": null,
            "_view_module": "@jupyter-widgets/base",
            "_view_module_version": "1.2.0",
            "_view_name": "LayoutView",
            "align_content": null,
            "align_items": null,
            "align_self": null,
            "border": null,
            "bottom": null,
            "display": null,
            "flex": null,
            "flex_flow": null,
            "grid_area": null,
            "grid_auto_columns": null,
            "grid_auto_flow": null,
            "grid_auto_rows": null,
            "grid_column": null,
            "grid_gap": null,
            "grid_row": null,
            "grid_template_areas": null,
            "grid_template_columns": null,
            "grid_template_rows": null,
            "height": null,
            "justify_content": null,
            "justify_items": null,
            "left": null,
            "margin": null,
            "max_height": null,
            "max_width": null,
            "min_height": null,
            "min_width": null,
            "object_fit": null,
            "object_position": null,
            "order": null,
            "overflow": null,
            "overflow_x": null,
            "overflow_y": null,
            "padding": null,
            "right": null,
            "top": null,
            "visibility": null,
            "width": null
          }
        },
<<<<<<< HEAD
        "ed0ebbe68fee49e2989ce5507a815346": {
=======
        "62aea10466c54417994df1b352ea5aa9": {
>>>>>>> 3ad88153a83e156acf1cc19a810547079df4f36e
          "model_module": "@jupyter-widgets/base",
          "model_name": "LayoutModel",
          "model_module_version": "1.2.0",
          "state": {
            "_model_module": "@jupyter-widgets/base",
            "_model_module_version": "1.2.0",
            "_model_name": "LayoutModel",
            "_view_count": null,
            "_view_module": "@jupyter-widgets/base",
            "_view_module_version": "1.2.0",
            "_view_name": "LayoutView",
            "align_content": null,
            "align_items": null,
            "align_self": null,
            "border": null,
            "bottom": null,
            "display": null,
            "flex": null,
            "flex_flow": null,
            "grid_area": null,
            "grid_auto_columns": null,
            "grid_auto_flow": null,
            "grid_auto_rows": null,
            "grid_column": null,
            "grid_gap": null,
            "grid_row": null,
            "grid_template_areas": null,
            "grid_template_columns": null,
            "grid_template_rows": null,
            "height": null,
            "justify_content": null,
            "justify_items": null,
            "left": null,
            "margin": null,
            "max_height": null,
            "max_width": null,
            "min_height": null,
            "min_width": null,
            "object_fit": null,
            "object_position": null,
            "order": null,
            "overflow": null,
            "overflow_x": null,
            "overflow_y": null,
            "padding": null,
            "right": null,
            "top": null,
            "visibility": null,
            "width": null
          }
        },
<<<<<<< HEAD
        "1051770684fd49ffa684b1408b908649": {
=======
        "b6107b7485904700a8d03d9e7c75a703": {
>>>>>>> 3ad88153a83e156acf1cc19a810547079df4f36e
          "model_module": "@jupyter-widgets/controls",
          "model_name": "DescriptionStyleModel",
          "model_module_version": "1.5.0",
          "state": {
            "_model_module": "@jupyter-widgets/controls",
            "_model_module_version": "1.5.0",
            "_model_name": "DescriptionStyleModel",
            "_view_count": null,
            "_view_module": "@jupyter-widgets/base",
            "_view_module_version": "1.2.0",
            "_view_name": "StyleView",
            "description_width": ""
          }
        },
<<<<<<< HEAD
        "f1039edb15c6419d95ae57bfd0706ea5": {
=======
        "930ec39d53474c08b92b86f3581aaf17": {
>>>>>>> 3ad88153a83e156acf1cc19a810547079df4f36e
          "model_module": "@jupyter-widgets/base",
          "model_name": "LayoutModel",
          "model_module_version": "1.2.0",
          "state": {
            "_model_module": "@jupyter-widgets/base",
            "_model_module_version": "1.2.0",
            "_model_name": "LayoutModel",
            "_view_count": null,
            "_view_module": "@jupyter-widgets/base",
            "_view_module_version": "1.2.0",
            "_view_name": "LayoutView",
            "align_content": null,
            "align_items": null,
            "align_self": null,
            "border": null,
            "bottom": null,
            "display": null,
            "flex": null,
            "flex_flow": null,
            "grid_area": null,
            "grid_auto_columns": null,
            "grid_auto_flow": null,
            "grid_auto_rows": null,
            "grid_column": null,
            "grid_gap": null,
            "grid_row": null,
            "grid_template_areas": null,
            "grid_template_columns": null,
            "grid_template_rows": null,
            "height": null,
            "justify_content": null,
            "justify_items": null,
            "left": null,
            "margin": null,
            "max_height": null,
            "max_width": null,
            "min_height": null,
            "min_width": null,
            "object_fit": null,
            "object_position": null,
            "order": null,
            "overflow": null,
            "overflow_x": null,
            "overflow_y": null,
            "padding": null,
            "right": null,
            "top": null,
            "visibility": null,
            "width": null
          }
        },
<<<<<<< HEAD
        "d003c2e7c20d46b5bee468920db334e2": {
=======
        "18b4eff241214ef88f890aaba8dcb3a6": {
>>>>>>> 3ad88153a83e156acf1cc19a810547079df4f36e
          "model_module": "@jupyter-widgets/controls",
          "model_name": "ProgressStyleModel",
          "model_module_version": "1.5.0",
          "state": {
            "_model_module": "@jupyter-widgets/controls",
            "_model_module_version": "1.5.0",
            "_model_name": "ProgressStyleModel",
            "_view_count": null,
            "_view_module": "@jupyter-widgets/base",
            "_view_module_version": "1.2.0",
            "_view_name": "StyleView",
            "bar_color": null,
            "description_width": ""
          }
        },
<<<<<<< HEAD
        "4e10ab98778643fca00d985c196c14fc": {
=======
        "ebca3ed6851a40dea16eec430ea7eaea": {
>>>>>>> 3ad88153a83e156acf1cc19a810547079df4f36e
          "model_module": "@jupyter-widgets/base",
          "model_name": "LayoutModel",
          "model_module_version": "1.2.0",
          "state": {
            "_model_module": "@jupyter-widgets/base",
            "_model_module_version": "1.2.0",
            "_model_name": "LayoutModel",
            "_view_count": null,
            "_view_module": "@jupyter-widgets/base",
            "_view_module_version": "1.2.0",
            "_view_name": "LayoutView",
            "align_content": null,
            "align_items": null,
            "align_self": null,
            "border": null,
            "bottom": null,
            "display": null,
            "flex": null,
            "flex_flow": null,
            "grid_area": null,
            "grid_auto_columns": null,
            "grid_auto_flow": null,
            "grid_auto_rows": null,
            "grid_column": null,
            "grid_gap": null,
            "grid_row": null,
            "grid_template_areas": null,
            "grid_template_columns": null,
            "grid_template_rows": null,
            "height": null,
            "justify_content": null,
            "justify_items": null,
            "left": null,
            "margin": null,
            "max_height": null,
            "max_width": null,
            "min_height": null,
            "min_width": null,
            "object_fit": null,
            "object_position": null,
            "order": null,
            "overflow": null,
            "overflow_x": null,
            "overflow_y": null,
            "padding": null,
            "right": null,
            "top": null,
            "visibility": null,
            "width": null
          }
        },
<<<<<<< HEAD
        "f0fda6e2745a4ad08dffd448c58d2624": {
=======
        "6e7e24dce2d34c77a244942052ca0bf2": {
>>>>>>> 3ad88153a83e156acf1cc19a810547079df4f36e
          "model_module": "@jupyter-widgets/controls",
          "model_name": "DescriptionStyleModel",
          "model_module_version": "1.5.0",
          "state": {
            "_model_module": "@jupyter-widgets/controls",
            "_model_module_version": "1.5.0",
            "_model_name": "DescriptionStyleModel",
            "_view_count": null,
            "_view_module": "@jupyter-widgets/base",
            "_view_module_version": "1.2.0",
            "_view_name": "StyleView",
            "description_width": ""
          }
        },
<<<<<<< HEAD
        "e3c3f2f523f245cfbef848c5a1cce0c3": {
=======
        "62a36ecc48d1446e91928d94a5fb6e2c": {
>>>>>>> 3ad88153a83e156acf1cc19a810547079df4f36e
          "model_module": "@jupyter-widgets/controls",
          "model_name": "HBoxModel",
          "model_module_version": "1.5.0",
          "state": {
            "_dom_classes": [],
            "_model_module": "@jupyter-widgets/controls",
            "_model_module_version": "1.5.0",
            "_model_name": "HBoxModel",
            "_view_count": null,
            "_view_module": "@jupyter-widgets/controls",
            "_view_module_version": "1.5.0",
            "_view_name": "HBoxView",
            "box_style": "",
            "children": [
<<<<<<< HEAD
              "IPY_MODEL_1e9a339d76c24ea1b1728c1ee191bfe8",
              "IPY_MODEL_4ce57618766e4fac9246211faca0ce73",
              "IPY_MODEL_1a4152e3e36a4ca8a794fbd2d6385721"
            ],
            "layout": "IPY_MODEL_e0b9d542ae2e4231b3fa0255894c99e7"
          }
        },
        "1e9a339d76c24ea1b1728c1ee191bfe8": {
=======
              "IPY_MODEL_4ba0ed7858564fe78a618878ce97417b",
              "IPY_MODEL_59ad32288a154a71b12f3cae61ae8f98",
              "IPY_MODEL_223fb2231bf34643a86e0d4a9c80d7ed"
            ],
            "layout": "IPY_MODEL_036fa416939d46b0b5f2e05b4def3316"
          }
        },
        "4ba0ed7858564fe78a618878ce97417b": {
>>>>>>> 3ad88153a83e156acf1cc19a810547079df4f36e
          "model_module": "@jupyter-widgets/controls",
          "model_name": "HTMLModel",
          "model_module_version": "1.5.0",
          "state": {
            "_dom_classes": [],
            "_model_module": "@jupyter-widgets/controls",
            "_model_module_version": "1.5.0",
            "_model_name": "HTMLModel",
            "_view_count": null,
            "_view_module": "@jupyter-widgets/controls",
            "_view_module_version": "1.5.0",
            "_view_name": "HTMLView",
            "description": "",
            "description_tooltip": null,
<<<<<<< HEAD
            "layout": "IPY_MODEL_b6a0fcb1212645e393f1fe4770c05922",
            "placeholder": "​",
            "style": "IPY_MODEL_b174fe5308b94cd29097ecfe69154e5e",
            "value": "generation_config.json: 100%"
          }
        },
        "4ce57618766e4fac9246211faca0ce73": {
=======
            "layout": "IPY_MODEL_6a2d3125e535474cb1e82905bbd51a34",
            "placeholder": "​",
            "style": "IPY_MODEL_c9c66c5aa20c4c3c8787fde27ae9a46b",
            "value": "generation_config.json: 100%"
          }
        },
        "59ad32288a154a71b12f3cae61ae8f98": {
>>>>>>> 3ad88153a83e156acf1cc19a810547079df4f36e
          "model_module": "@jupyter-widgets/controls",
          "model_name": "FloatProgressModel",
          "model_module_version": "1.5.0",
          "state": {
            "_dom_classes": [],
            "_model_module": "@jupyter-widgets/controls",
            "_model_module_version": "1.5.0",
            "_model_name": "FloatProgressModel",
            "_view_count": null,
            "_view_module": "@jupyter-widgets/controls",
            "_view_module_version": "1.5.0",
            "_view_name": "ProgressView",
            "bar_style": "success",
            "description": "",
            "description_tooltip": null,
<<<<<<< HEAD
            "layout": "IPY_MODEL_4a8c3cb2233640ddaac85d8760c3ab85",
            "max": 147,
            "min": 0,
            "orientation": "horizontal",
            "style": "IPY_MODEL_14a1315bbb254e5384669277163904f0",
            "value": 147
          }
        },
        "1a4152e3e36a4ca8a794fbd2d6385721": {
=======
            "layout": "IPY_MODEL_540da75a428d4bc29fc86296e8844697",
            "max": 147,
            "min": 0,
            "orientation": "horizontal",
            "style": "IPY_MODEL_3feff3a0d9c245a7af213d8da098c4cd",
            "value": 147
          }
        },
        "223fb2231bf34643a86e0d4a9c80d7ed": {
>>>>>>> 3ad88153a83e156acf1cc19a810547079df4f36e
          "model_module": "@jupyter-widgets/controls",
          "model_name": "HTMLModel",
          "model_module_version": "1.5.0",
          "state": {
            "_dom_classes": [],
            "_model_module": "@jupyter-widgets/controls",
            "_model_module_version": "1.5.0",
            "_model_name": "HTMLModel",
            "_view_count": null,
            "_view_module": "@jupyter-widgets/controls",
            "_view_module_version": "1.5.0",
            "_view_name": "HTMLView",
            "description": "",
            "description_tooltip": null,
<<<<<<< HEAD
            "layout": "IPY_MODEL_ab9b22a8223540eba4c295787534bd88",
            "placeholder": "​",
            "style": "IPY_MODEL_0550270e66fb4ff6bb26694cfb160c54",
            "value": " 147/147 [00:00&lt;00:00, 18.7kB/s]"
          }
        },
        "e0b9d542ae2e4231b3fa0255894c99e7": {
=======
            "layout": "IPY_MODEL_88d952ae48c64cb9a33cfaf0f563db85",
            "placeholder": "​",
            "style": "IPY_MODEL_50b3769b3dd84a61a208e066a797eb21",
            "value": " 147/147 [00:00&lt;00:00, 10.5kB/s]"
          }
        },
        "036fa416939d46b0b5f2e05b4def3316": {
>>>>>>> 3ad88153a83e156acf1cc19a810547079df4f36e
          "model_module": "@jupyter-widgets/base",
          "model_name": "LayoutModel",
          "model_module_version": "1.2.0",
          "state": {
            "_model_module": "@jupyter-widgets/base",
            "_model_module_version": "1.2.0",
            "_model_name": "LayoutModel",
            "_view_count": null,
            "_view_module": "@jupyter-widgets/base",
            "_view_module_version": "1.2.0",
            "_view_name": "LayoutView",
            "align_content": null,
            "align_items": null,
            "align_self": null,
            "border": null,
            "bottom": null,
            "display": null,
            "flex": null,
            "flex_flow": null,
            "grid_area": null,
            "grid_auto_columns": null,
            "grid_auto_flow": null,
            "grid_auto_rows": null,
            "grid_column": null,
            "grid_gap": null,
            "grid_row": null,
            "grid_template_areas": null,
            "grid_template_columns": null,
            "grid_template_rows": null,
            "height": null,
            "justify_content": null,
            "justify_items": null,
            "left": null,
            "margin": null,
            "max_height": null,
            "max_width": null,
            "min_height": null,
            "min_width": null,
            "object_fit": null,
            "object_position": null,
            "order": null,
            "overflow": null,
            "overflow_x": null,
            "overflow_y": null,
            "padding": null,
            "right": null,
            "top": null,
            "visibility": null,
            "width": null
          }
        },
<<<<<<< HEAD
        "b6a0fcb1212645e393f1fe4770c05922": {
=======
        "6a2d3125e535474cb1e82905bbd51a34": {
>>>>>>> 3ad88153a83e156acf1cc19a810547079df4f36e
          "model_module": "@jupyter-widgets/base",
          "model_name": "LayoutModel",
          "model_module_version": "1.2.0",
          "state": {
            "_model_module": "@jupyter-widgets/base",
            "_model_module_version": "1.2.0",
            "_model_name": "LayoutModel",
            "_view_count": null,
            "_view_module": "@jupyter-widgets/base",
            "_view_module_version": "1.2.0",
            "_view_name": "LayoutView",
            "align_content": null,
            "align_items": null,
            "align_self": null,
            "border": null,
            "bottom": null,
            "display": null,
            "flex": null,
            "flex_flow": null,
            "grid_area": null,
            "grid_auto_columns": null,
            "grid_auto_flow": null,
            "grid_auto_rows": null,
            "grid_column": null,
            "grid_gap": null,
            "grid_row": null,
            "grid_template_areas": null,
            "grid_template_columns": null,
            "grid_template_rows": null,
            "height": null,
            "justify_content": null,
            "justify_items": null,
            "left": null,
            "margin": null,
            "max_height": null,
            "max_width": null,
            "min_height": null,
            "min_width": null,
            "object_fit": null,
            "object_position": null,
            "order": null,
            "overflow": null,
            "overflow_x": null,
            "overflow_y": null,
            "padding": null,
            "right": null,
            "top": null,
            "visibility": null,
            "width": null
          }
        },
<<<<<<< HEAD
        "b174fe5308b94cd29097ecfe69154e5e": {
=======
        "c9c66c5aa20c4c3c8787fde27ae9a46b": {
>>>>>>> 3ad88153a83e156acf1cc19a810547079df4f36e
          "model_module": "@jupyter-widgets/controls",
          "model_name": "DescriptionStyleModel",
          "model_module_version": "1.5.0",
          "state": {
            "_model_module": "@jupyter-widgets/controls",
            "_model_module_version": "1.5.0",
            "_model_name": "DescriptionStyleModel",
            "_view_count": null,
            "_view_module": "@jupyter-widgets/base",
            "_view_module_version": "1.2.0",
            "_view_name": "StyleView",
            "description_width": ""
          }
        },
<<<<<<< HEAD
        "4a8c3cb2233640ddaac85d8760c3ab85": {
=======
        "540da75a428d4bc29fc86296e8844697": {
>>>>>>> 3ad88153a83e156acf1cc19a810547079df4f36e
          "model_module": "@jupyter-widgets/base",
          "model_name": "LayoutModel",
          "model_module_version": "1.2.0",
          "state": {
            "_model_module": "@jupyter-widgets/base",
            "_model_module_version": "1.2.0",
            "_model_name": "LayoutModel",
            "_view_count": null,
            "_view_module": "@jupyter-widgets/base",
            "_view_module_version": "1.2.0",
            "_view_name": "LayoutView",
            "align_content": null,
            "align_items": null,
            "align_self": null,
            "border": null,
            "bottom": null,
            "display": null,
            "flex": null,
            "flex_flow": null,
            "grid_area": null,
            "grid_auto_columns": null,
            "grid_auto_flow": null,
            "grid_auto_rows": null,
            "grid_column": null,
            "grid_gap": null,
            "grid_row": null,
            "grid_template_areas": null,
            "grid_template_columns": null,
            "grid_template_rows": null,
            "height": null,
            "justify_content": null,
            "justify_items": null,
            "left": null,
            "margin": null,
            "max_height": null,
            "max_width": null,
            "min_height": null,
            "min_width": null,
            "object_fit": null,
            "object_position": null,
            "order": null,
            "overflow": null,
            "overflow_x": null,
            "overflow_y": null,
            "padding": null,
            "right": null,
            "top": null,
            "visibility": null,
            "width": null
          }
        },
<<<<<<< HEAD
        "14a1315bbb254e5384669277163904f0": {
=======
        "3feff3a0d9c245a7af213d8da098c4cd": {
>>>>>>> 3ad88153a83e156acf1cc19a810547079df4f36e
          "model_module": "@jupyter-widgets/controls",
          "model_name": "ProgressStyleModel",
          "model_module_version": "1.5.0",
          "state": {
            "_model_module": "@jupyter-widgets/controls",
            "_model_module_version": "1.5.0",
            "_model_name": "ProgressStyleModel",
            "_view_count": null,
            "_view_module": "@jupyter-widgets/base",
            "_view_module_version": "1.2.0",
            "_view_name": "StyleView",
            "bar_color": null,
            "description_width": ""
          }
        },
<<<<<<< HEAD
        "ab9b22a8223540eba4c295787534bd88": {
=======
        "88d952ae48c64cb9a33cfaf0f563db85": {
>>>>>>> 3ad88153a83e156acf1cc19a810547079df4f36e
          "model_module": "@jupyter-widgets/base",
          "model_name": "LayoutModel",
          "model_module_version": "1.2.0",
          "state": {
            "_model_module": "@jupyter-widgets/base",
            "_model_module_version": "1.2.0",
            "_model_name": "LayoutModel",
            "_view_count": null,
            "_view_module": "@jupyter-widgets/base",
            "_view_module_version": "1.2.0",
            "_view_name": "LayoutView",
            "align_content": null,
            "align_items": null,
            "align_self": null,
            "border": null,
            "bottom": null,
            "display": null,
            "flex": null,
            "flex_flow": null,
            "grid_area": null,
            "grid_auto_columns": null,
            "grid_auto_flow": null,
            "grid_auto_rows": null,
            "grid_column": null,
            "grid_gap": null,
            "grid_row": null,
            "grid_template_areas": null,
            "grid_template_columns": null,
            "grid_template_rows": null,
            "height": null,
            "justify_content": null,
            "justify_items": null,
            "left": null,
            "margin": null,
            "max_height": null,
            "max_width": null,
            "min_height": null,
            "min_width": null,
            "object_fit": null,
            "object_position": null,
            "order": null,
            "overflow": null,
            "overflow_x": null,
            "overflow_y": null,
            "padding": null,
            "right": null,
            "top": null,
            "visibility": null,
            "width": null
          }
        },
<<<<<<< HEAD
        "0550270e66fb4ff6bb26694cfb160c54": {
          "model_module": "@jupyter-widgets/controls",
          "model_name": "DescriptionStyleModel",
          "model_module_version": "1.5.0",
          "state": {
            "_model_module": "@jupyter-widgets/controls",
            "_model_module_version": "1.5.0",
            "_model_name": "DescriptionStyleModel",
            "_view_count": null,
            "_view_module": "@jupyter-widgets/base",
            "_view_module_version": "1.2.0",
            "_view_name": "StyleView",
            "description_width": ""
          }
        },
        "cc81093f956b41fabdf874a5065a9457": {
          "model_module": "@jupyter-widgets/controls",
          "model_name": "HBoxModel",
          "model_module_version": "1.5.0",
          "state": {
            "_dom_classes": [],
            "_model_module": "@jupyter-widgets/controls",
            "_model_module_version": "1.5.0",
            "_model_name": "HBoxModel",
            "_view_count": null,
            "_view_module": "@jupyter-widgets/controls",
            "_view_module_version": "1.5.0",
            "_view_name": "HBoxView",
            "box_style": "",
            "children": [
              "IPY_MODEL_ac78e9641c124f86ba4c1787aa177b3d",
              "IPY_MODEL_5b638070536f46a1be2b6d048fc4b75b",
              "IPY_MODEL_222d9257790844dcb7ac414b9ad76e76"
            ],
            "layout": "IPY_MODEL_85a1b30a95f447749c49eaacf59e5220"
          }
        },
        "ac78e9641c124f86ba4c1787aa177b3d": {
          "model_module": "@jupyter-widgets/controls",
          "model_name": "HTMLModel",
          "model_module_version": "1.5.0",
          "state": {
            "_dom_classes": [],
            "_model_module": "@jupyter-widgets/controls",
            "_model_module_version": "1.5.0",
            "_model_name": "HTMLModel",
            "_view_count": null,
            "_view_module": "@jupyter-widgets/controls",
            "_view_module_version": "1.5.0",
            "_view_name": "HTMLView",
            "description": "",
            "description_tooltip": null,
            "layout": "IPY_MODEL_a1da3effb74c437e920f994e5b7f8d19",
            "placeholder": "​",
            "style": "IPY_MODEL_b99a1cf9209747ae8a5fa477465c07e4",
            "value": "tokenizer_config.json: "
          }
        },
        "5b638070536f46a1be2b6d048fc4b75b": {
          "model_module": "@jupyter-widgets/controls",
          "model_name": "FloatProgressModel",
          "model_module_version": "1.5.0",
          "state": {
            "_dom_classes": [],
            "_model_module": "@jupyter-widgets/controls",
            "_model_module_version": "1.5.0",
            "_model_name": "FloatProgressModel",
            "_view_count": null,
            "_view_module": "@jupyter-widgets/controls",
            "_view_module_version": "1.5.0",
            "_view_name": "ProgressView",
            "bar_style": "success",
            "description": "",
            "description_tooltip": null,
            "layout": "IPY_MODEL_185aa5e2b49c48d9b75e80f496ca3fa6",
            "max": 1,
            "min": 0,
            "orientation": "horizontal",
            "style": "IPY_MODEL_5b633a7780e945c389ce29310a66b188",
            "value": 1
          }
        },
        "222d9257790844dcb7ac414b9ad76e76": {
          "model_module": "@jupyter-widgets/controls",
          "model_name": "HTMLModel",
          "model_module_version": "1.5.0",
          "state": {
            "_dom_classes": [],
            "_model_module": "@jupyter-widgets/controls",
            "_model_module_version": "1.5.0",
            "_model_name": "HTMLModel",
            "_view_count": null,
            "_view_module": "@jupyter-widgets/controls",
            "_view_module_version": "1.5.0",
            "_view_name": "HTMLView",
            "description": "",
            "description_tooltip": null,
            "layout": "IPY_MODEL_a864a5ec66b04c95ae4fcf65832cba9f",
            "placeholder": "​",
            "style": "IPY_MODEL_f129c27a84c34ead9f3d49c99c5c581f",
            "value": " 2.54k/? [00:00&lt;00:00, 202kB/s]"
          }
        },
        "85a1b30a95f447749c49eaacf59e5220": {
          "model_module": "@jupyter-widgets/base",
          "model_name": "LayoutModel",
          "model_module_version": "1.2.0",
          "state": {
            "_model_module": "@jupyter-widgets/base",
            "_model_module_version": "1.2.0",
            "_model_name": "LayoutModel",
            "_view_count": null,
            "_view_module": "@jupyter-widgets/base",
            "_view_module_version": "1.2.0",
            "_view_name": "LayoutView",
            "align_content": null,
            "align_items": null,
            "align_self": null,
            "border": null,
            "bottom": null,
            "display": null,
            "flex": null,
            "flex_flow": null,
            "grid_area": null,
            "grid_auto_columns": null,
            "grid_auto_flow": null,
            "grid_auto_rows": null,
            "grid_column": null,
            "grid_gap": null,
            "grid_row": null,
            "grid_template_areas": null,
            "grid_template_columns": null,
            "grid_template_rows": null,
            "height": null,
            "justify_content": null,
            "justify_items": null,
            "left": null,
            "margin": null,
            "max_height": null,
            "max_width": null,
            "min_height": null,
            "min_width": null,
            "object_fit": null,
            "object_position": null,
            "order": null,
            "overflow": null,
            "overflow_x": null,
            "overflow_y": null,
            "padding": null,
            "right": null,
            "top": null,
            "visibility": null,
            "width": null
          }
        },
        "a1da3effb74c437e920f994e5b7f8d19": {
          "model_module": "@jupyter-widgets/base",
          "model_name": "LayoutModel",
          "model_module_version": "1.2.0",
          "state": {
            "_model_module": "@jupyter-widgets/base",
            "_model_module_version": "1.2.0",
            "_model_name": "LayoutModel",
            "_view_count": null,
            "_view_module": "@jupyter-widgets/base",
            "_view_module_version": "1.2.0",
            "_view_name": "LayoutView",
            "align_content": null,
            "align_items": null,
            "align_self": null,
            "border": null,
            "bottom": null,
            "display": null,
            "flex": null,
            "flex_flow": null,
            "grid_area": null,
            "grid_auto_columns": null,
            "grid_auto_flow": null,
            "grid_auto_rows": null,
            "grid_column": null,
            "grid_gap": null,
            "grid_row": null,
            "grid_template_areas": null,
            "grid_template_columns": null,
            "grid_template_rows": null,
            "height": null,
            "justify_content": null,
            "justify_items": null,
            "left": null,
            "margin": null,
            "max_height": null,
            "max_width": null,
            "min_height": null,
            "min_width": null,
            "object_fit": null,
            "object_position": null,
            "order": null,
            "overflow": null,
            "overflow_x": null,
            "overflow_y": null,
            "padding": null,
            "right": null,
            "top": null,
            "visibility": null,
            "width": null
          }
        },
        "b99a1cf9209747ae8a5fa477465c07e4": {
          "model_module": "@jupyter-widgets/controls",
          "model_name": "DescriptionStyleModel",
          "model_module_version": "1.5.0",
          "state": {
            "_model_module": "@jupyter-widgets/controls",
            "_model_module_version": "1.5.0",
            "_model_name": "DescriptionStyleModel",
            "_view_count": null,
            "_view_module": "@jupyter-widgets/base",
            "_view_module_version": "1.2.0",
            "_view_name": "StyleView",
            "description_width": ""
          }
        },
        "185aa5e2b49c48d9b75e80f496ca3fa6": {
          "model_module": "@jupyter-widgets/base",
          "model_name": "LayoutModel",
          "model_module_version": "1.2.0",
          "state": {
            "_model_module": "@jupyter-widgets/base",
            "_model_module_version": "1.2.0",
            "_model_name": "LayoutModel",
            "_view_count": null,
            "_view_module": "@jupyter-widgets/base",
            "_view_module_version": "1.2.0",
            "_view_name": "LayoutView",
            "align_content": null,
            "align_items": null,
            "align_self": null,
            "border": null,
            "bottom": null,
            "display": null,
            "flex": null,
            "flex_flow": null,
            "grid_area": null,
            "grid_auto_columns": null,
            "grid_auto_flow": null,
            "grid_auto_rows": null,
            "grid_column": null,
            "grid_gap": null,
            "grid_row": null,
            "grid_template_areas": null,
            "grid_template_columns": null,
            "grid_template_rows": null,
            "height": null,
            "justify_content": null,
            "justify_items": null,
            "left": null,
            "margin": null,
            "max_height": null,
            "max_width": null,
            "min_height": null,
            "min_width": null,
            "object_fit": null,
            "object_position": null,
            "order": null,
            "overflow": null,
            "overflow_x": null,
            "overflow_y": null,
            "padding": null,
            "right": null,
            "top": null,
            "visibility": null,
            "width": "20px"
          }
        },
        "5b633a7780e945c389ce29310a66b188": {
          "model_module": "@jupyter-widgets/controls",
          "model_name": "ProgressStyleModel",
          "model_module_version": "1.5.0",
          "state": {
            "_model_module": "@jupyter-widgets/controls",
            "_model_module_version": "1.5.0",
            "_model_name": "ProgressStyleModel",
            "_view_count": null,
            "_view_module": "@jupyter-widgets/base",
            "_view_module_version": "1.2.0",
            "_view_name": "StyleView",
            "bar_color": null,
            "description_width": ""
          }
        },
        "a864a5ec66b04c95ae4fcf65832cba9f": {
          "model_module": "@jupyter-widgets/base",
          "model_name": "LayoutModel",
          "model_module_version": "1.2.0",
          "state": {
            "_model_module": "@jupyter-widgets/base",
            "_model_module_version": "1.2.0",
            "_model_name": "LayoutModel",
            "_view_count": null,
            "_view_module": "@jupyter-widgets/base",
            "_view_module_version": "1.2.0",
            "_view_name": "LayoutView",
            "align_content": null,
            "align_items": null,
            "align_self": null,
            "border": null,
            "bottom": null,
            "display": null,
            "flex": null,
            "flex_flow": null,
            "grid_area": null,
            "grid_auto_columns": null,
            "grid_auto_flow": null,
            "grid_auto_rows": null,
            "grid_column": null,
            "grid_gap": null,
            "grid_row": null,
            "grid_template_areas": null,
            "grid_template_columns": null,
            "grid_template_rows": null,
            "height": null,
            "justify_content": null,
            "justify_items": null,
            "left": null,
            "margin": null,
            "max_height": null,
            "max_width": null,
            "min_height": null,
            "min_width": null,
            "object_fit": null,
            "object_position": null,
            "order": null,
            "overflow": null,
            "overflow_x": null,
            "overflow_y": null,
            "padding": null,
            "right": null,
            "top": null,
            "visibility": null,
            "width": null
          }
        },
        "f129c27a84c34ead9f3d49c99c5c581f": {
          "model_module": "@jupyter-widgets/controls",
          "model_name": "DescriptionStyleModel",
          "model_module_version": "1.5.0",
          "state": {
            "_model_module": "@jupyter-widgets/controls",
            "_model_module_version": "1.5.0",
            "_model_name": "DescriptionStyleModel",
            "_view_count": null,
            "_view_module": "@jupyter-widgets/base",
            "_view_module_version": "1.2.0",
            "_view_name": "StyleView",
            "description_width": ""
          }
        },
        "2258d0c0ca2246a285c562fea2bd4102": {
          "model_module": "@jupyter-widgets/controls",
          "model_name": "HBoxModel",
          "model_module_version": "1.5.0",
          "state": {
            "_dom_classes": [],
            "_model_module": "@jupyter-widgets/controls",
            "_model_module_version": "1.5.0",
            "_model_name": "HBoxModel",
            "_view_count": null,
            "_view_module": "@jupyter-widgets/controls",
            "_view_module_version": "1.5.0",
            "_view_name": "HBoxView",
            "box_style": "",
            "children": [
              "IPY_MODEL_54fe8974b7ea49db912615a9fa52650f",
              "IPY_MODEL_c0e6e7ac3cf24eedbaab3d223d58d3e9",
              "IPY_MODEL_0f35f5856ebe46c7a759027966f4ef18"
            ],
            "layout": "IPY_MODEL_e69be949f54f4bc9b244fc7619cf79f2"
          }
        },
        "54fe8974b7ea49db912615a9fa52650f": {
          "model_module": "@jupyter-widgets/controls",
          "model_name": "HTMLModel",
          "model_module_version": "1.5.0",
          "state": {
            "_dom_classes": [],
            "_model_module": "@jupyter-widgets/controls",
            "_model_module_version": "1.5.0",
            "_model_name": "HTMLModel",
            "_view_count": null,
            "_view_module": "@jupyter-widgets/controls",
            "_view_module_version": "1.5.0",
            "_view_name": "HTMLView",
            "description": "",
            "description_tooltip": null,
            "layout": "IPY_MODEL_416a7a18db784ea3b5782bf83cc48295",
            "placeholder": "​",
            "style": "IPY_MODEL_56f9329f19fe4ee794a8d90e84b63740",
            "value": "spiece.model: 100%"
          }
        },
        "c0e6e7ac3cf24eedbaab3d223d58d3e9": {
          "model_module": "@jupyter-widgets/controls",
          "model_name": "FloatProgressModel",
          "model_module_version": "1.5.0",
          "state": {
            "_dom_classes": [],
            "_model_module": "@jupyter-widgets/controls",
            "_model_module_version": "1.5.0",
            "_model_name": "FloatProgressModel",
            "_view_count": null,
            "_view_module": "@jupyter-widgets/controls",
            "_view_module_version": "1.5.0",
            "_view_name": "ProgressView",
            "bar_style": "success",
            "description": "",
            "description_tooltip": null,
            "layout": "IPY_MODEL_dc57ce651e3e47a2ace09a5401ebb6d8",
            "max": 791656,
            "min": 0,
            "orientation": "horizontal",
            "style": "IPY_MODEL_6882f514c83d4fd3ad3577c2e41a74bf",
            "value": 791656
          }
        },
        "0f35f5856ebe46c7a759027966f4ef18": {
          "model_module": "@jupyter-widgets/controls",
          "model_name": "HTMLModel",
          "model_module_version": "1.5.0",
          "state": {
            "_dom_classes": [],
            "_model_module": "@jupyter-widgets/controls",
            "_model_module_version": "1.5.0",
            "_model_name": "HTMLModel",
            "_view_count": null,
            "_view_module": "@jupyter-widgets/controls",
            "_view_module_version": "1.5.0",
            "_view_name": "HTMLView",
            "description": "",
            "description_tooltip": null,
            "layout": "IPY_MODEL_3a949d552f354cad9e60f873e94c868c",
            "placeholder": "​",
            "style": "IPY_MODEL_b4427a0a218a430d9dd689dbb25db7d4",
            "value": " 792k/792k [00:00&lt;00:00, 3.17MB/s]"
          }
        },
        "e69be949f54f4bc9b244fc7619cf79f2": {
          "model_module": "@jupyter-widgets/base",
          "model_name": "LayoutModel",
          "model_module_version": "1.2.0",
          "state": {
            "_model_module": "@jupyter-widgets/base",
            "_model_module_version": "1.2.0",
            "_model_name": "LayoutModel",
            "_view_count": null,
            "_view_module": "@jupyter-widgets/base",
            "_view_module_version": "1.2.0",
            "_view_name": "LayoutView",
            "align_content": null,
            "align_items": null,
            "align_self": null,
            "border": null,
            "bottom": null,
            "display": null,
            "flex": null,
            "flex_flow": null,
            "grid_area": null,
            "grid_auto_columns": null,
            "grid_auto_flow": null,
            "grid_auto_rows": null,
            "grid_column": null,
            "grid_gap": null,
            "grid_row": null,
            "grid_template_areas": null,
            "grid_template_columns": null,
            "grid_template_rows": null,
            "height": null,
            "justify_content": null,
            "justify_items": null,
            "left": null,
            "margin": null,
            "max_height": null,
            "max_width": null,
            "min_height": null,
            "min_width": null,
            "object_fit": null,
            "object_position": null,
            "order": null,
            "overflow": null,
            "overflow_x": null,
            "overflow_y": null,
            "padding": null,
            "right": null,
            "top": null,
            "visibility": null,
            "width": null
          }
        },
        "416a7a18db784ea3b5782bf83cc48295": {
          "model_module": "@jupyter-widgets/base",
          "model_name": "LayoutModel",
          "model_module_version": "1.2.0",
          "state": {
            "_model_module": "@jupyter-widgets/base",
            "_model_module_version": "1.2.0",
            "_model_name": "LayoutModel",
            "_view_count": null,
            "_view_module": "@jupyter-widgets/base",
            "_view_module_version": "1.2.0",
            "_view_name": "LayoutView",
            "align_content": null,
            "align_items": null,
            "align_self": null,
            "border": null,
            "bottom": null,
            "display": null,
            "flex": null,
            "flex_flow": null,
            "grid_area": null,
            "grid_auto_columns": null,
            "grid_auto_flow": null,
            "grid_auto_rows": null,
            "grid_column": null,
            "grid_gap": null,
            "grid_row": null,
            "grid_template_areas": null,
            "grid_template_columns": null,
            "grid_template_rows": null,
            "height": null,
            "justify_content": null,
            "justify_items": null,
            "left": null,
            "margin": null,
            "max_height": null,
            "max_width": null,
            "min_height": null,
            "min_width": null,
            "object_fit": null,
            "object_position": null,
            "order": null,
            "overflow": null,
            "overflow_x": null,
            "overflow_y": null,
            "padding": null,
            "right": null,
            "top": null,
            "visibility": null,
            "width": null
          }
        },
        "56f9329f19fe4ee794a8d90e84b63740": {
          "model_module": "@jupyter-widgets/controls",
          "model_name": "DescriptionStyleModel",
          "model_module_version": "1.5.0",
          "state": {
            "_model_module": "@jupyter-widgets/controls",
            "_model_module_version": "1.5.0",
            "_model_name": "DescriptionStyleModel",
            "_view_count": null,
            "_view_module": "@jupyter-widgets/base",
            "_view_module_version": "1.2.0",
            "_view_name": "StyleView",
            "description_width": ""
          }
        },
        "dc57ce651e3e47a2ace09a5401ebb6d8": {
          "model_module": "@jupyter-widgets/base",
          "model_name": "LayoutModel",
          "model_module_version": "1.2.0",
          "state": {
            "_model_module": "@jupyter-widgets/base",
            "_model_module_version": "1.2.0",
            "_model_name": "LayoutModel",
            "_view_count": null,
            "_view_module": "@jupyter-widgets/base",
            "_view_module_version": "1.2.0",
            "_view_name": "LayoutView",
            "align_content": null,
            "align_items": null,
            "align_self": null,
            "border": null,
            "bottom": null,
            "display": null,
            "flex": null,
            "flex_flow": null,
            "grid_area": null,
            "grid_auto_columns": null,
            "grid_auto_flow": null,
            "grid_auto_rows": null,
            "grid_column": null,
            "grid_gap": null,
            "grid_row": null,
            "grid_template_areas": null,
            "grid_template_columns": null,
            "grid_template_rows": null,
            "height": null,
            "justify_content": null,
            "justify_items": null,
            "left": null,
            "margin": null,
            "max_height": null,
            "max_width": null,
            "min_height": null,
            "min_width": null,
            "object_fit": null,
            "object_position": null,
            "order": null,
            "overflow": null,
            "overflow_x": null,
            "overflow_y": null,
            "padding": null,
            "right": null,
            "top": null,
            "visibility": null,
            "width": null
          }
        },
        "6882f514c83d4fd3ad3577c2e41a74bf": {
          "model_module": "@jupyter-widgets/controls",
          "model_name": "ProgressStyleModel",
          "model_module_version": "1.5.0",
          "state": {
            "_model_module": "@jupyter-widgets/controls",
            "_model_module_version": "1.5.0",
            "_model_name": "ProgressStyleModel",
            "_view_count": null,
            "_view_module": "@jupyter-widgets/base",
            "_view_module_version": "1.2.0",
            "_view_name": "StyleView",
            "bar_color": null,
            "description_width": ""
          }
        },
        "3a949d552f354cad9e60f873e94c868c": {
          "model_module": "@jupyter-widgets/base",
          "model_name": "LayoutModel",
          "model_module_version": "1.2.0",
          "state": {
            "_model_module": "@jupyter-widgets/base",
            "_model_module_version": "1.2.0",
            "_model_name": "LayoutModel",
            "_view_count": null,
            "_view_module": "@jupyter-widgets/base",
            "_view_module_version": "1.2.0",
            "_view_name": "LayoutView",
            "align_content": null,
            "align_items": null,
            "align_self": null,
            "border": null,
            "bottom": null,
            "display": null,
            "flex": null,
            "flex_flow": null,
            "grid_area": null,
            "grid_auto_columns": null,
            "grid_auto_flow": null,
            "grid_auto_rows": null,
            "grid_column": null,
            "grid_gap": null,
            "grid_row": null,
            "grid_template_areas": null,
            "grid_template_columns": null,
            "grid_template_rows": null,
            "height": null,
            "justify_content": null,
            "justify_items": null,
            "left": null,
            "margin": null,
            "max_height": null,
            "max_width": null,
            "min_height": null,
            "min_width": null,
            "object_fit": null,
            "object_position": null,
            "order": null,
            "overflow": null,
            "overflow_x": null,
            "overflow_y": null,
            "padding": null,
            "right": null,
            "top": null,
            "visibility": null,
            "width": null
          }
        },
        "b4427a0a218a430d9dd689dbb25db7d4": {
          "model_module": "@jupyter-widgets/controls",
          "model_name": "DescriptionStyleModel",
          "model_module_version": "1.5.0",
          "state": {
            "_model_module": "@jupyter-widgets/controls",
            "_model_module_version": "1.5.0",
            "_model_name": "DescriptionStyleModel",
            "_view_count": null,
            "_view_module": "@jupyter-widgets/base",
            "_view_module_version": "1.2.0",
            "_view_name": "StyleView",
            "description_width": ""
          }
        },
        "0b3e1c3d4f164e19a85657d0035064bc": {
          "model_module": "@jupyter-widgets/controls",
          "model_name": "HBoxModel",
          "model_module_version": "1.5.0",
          "state": {
            "_dom_classes": [],
            "_model_module": "@jupyter-widgets/controls",
            "_model_module_version": "1.5.0",
            "_model_name": "HBoxModel",
            "_view_count": null,
            "_view_module": "@jupyter-widgets/controls",
            "_view_module_version": "1.5.0",
            "_view_name": "HBoxView",
            "box_style": "",
            "children": [
              "IPY_MODEL_12d1eca0c5324610be8124d9731641dd",
              "IPY_MODEL_4c1fb1439c55422796e1ada91f2e5f50",
              "IPY_MODEL_85c8058eedf1437b8d964d6186b233f2"
            ],
            "layout": "IPY_MODEL_94b88a277efe4ed0bfa4e4bfda25ebbc"
          }
        },
        "12d1eca0c5324610be8124d9731641dd": {
          "model_module": "@jupyter-widgets/controls",
          "model_name": "HTMLModel",
          "model_module_version": "1.5.0",
          "state": {
            "_dom_classes": [],
            "_model_module": "@jupyter-widgets/controls",
            "_model_module_version": "1.5.0",
            "_model_name": "HTMLModel",
            "_view_count": null,
            "_view_module": "@jupyter-widgets/controls",
            "_view_module_version": "1.5.0",
            "_view_name": "HTMLView",
            "description": "",
            "description_tooltip": null,
            "layout": "IPY_MODEL_349fd6b22ee74bd683e2d360436d62d0",
            "placeholder": "​",
            "style": "IPY_MODEL_78f57541833c4aa29d7fb8b471790855",
            "value": "tokenizer.json: "
          }
        },
        "4c1fb1439c55422796e1ada91f2e5f50": {
          "model_module": "@jupyter-widgets/controls",
          "model_name": "FloatProgressModel",
          "model_module_version": "1.5.0",
          "state": {
            "_dom_classes": [],
            "_model_module": "@jupyter-widgets/controls",
            "_model_module_version": "1.5.0",
            "_model_name": "FloatProgressModel",
            "_view_count": null,
            "_view_module": "@jupyter-widgets/controls",
            "_view_module_version": "1.5.0",
            "_view_name": "ProgressView",
            "bar_style": "success",
            "description": "",
            "description_tooltip": null,
            "layout": "IPY_MODEL_1b8019c88c564dbdaa954c23518142d8",
            "max": 1,
            "min": 0,
            "orientation": "horizontal",
            "style": "IPY_MODEL_70d365e1db30435284c06220e709e370",
            "value": 1
          }
        },
        "85c8058eedf1437b8d964d6186b233f2": {
          "model_module": "@jupyter-widgets/controls",
          "model_name": "HTMLModel",
          "model_module_version": "1.5.0",
          "state": {
            "_dom_classes": [],
            "_model_module": "@jupyter-widgets/controls",
            "_model_module_version": "1.5.0",
            "_model_name": "HTMLModel",
            "_view_count": null,
            "_view_module": "@jupyter-widgets/controls",
            "_view_module_version": "1.5.0",
            "_view_name": "HTMLView",
            "description": "",
            "description_tooltip": null,
            "layout": "IPY_MODEL_c50b5ac31f4948c28491fc6aac00ce81",
            "placeholder": "​",
            "style": "IPY_MODEL_ca2a7e8da6f84d3fa7f5df344124f088",
            "value": " 2.42M/? [00:00&lt;00:00, 75.2MB/s]"
          }
        },
        "94b88a277efe4ed0bfa4e4bfda25ebbc": {
          "model_module": "@jupyter-widgets/base",
          "model_name": "LayoutModel",
          "model_module_version": "1.2.0",
          "state": {
            "_model_module": "@jupyter-widgets/base",
            "_model_module_version": "1.2.0",
            "_model_name": "LayoutModel",
            "_view_count": null,
            "_view_module": "@jupyter-widgets/base",
            "_view_module_version": "1.2.0",
            "_view_name": "LayoutView",
            "align_content": null,
            "align_items": null,
            "align_self": null,
            "border": null,
            "bottom": null,
            "display": null,
            "flex": null,
            "flex_flow": null,
            "grid_area": null,
            "grid_auto_columns": null,
            "grid_auto_flow": null,
            "grid_auto_rows": null,
            "grid_column": null,
            "grid_gap": null,
            "grid_row": null,
            "grid_template_areas": null,
            "grid_template_columns": null,
            "grid_template_rows": null,
            "height": null,
            "justify_content": null,
            "justify_items": null,
            "left": null,
            "margin": null,
            "max_height": null,
            "max_width": null,
            "min_height": null,
            "min_width": null,
            "object_fit": null,
            "object_position": null,
            "order": null,
            "overflow": null,
            "overflow_x": null,
            "overflow_y": null,
            "padding": null,
            "right": null,
            "top": null,
            "visibility": null,
            "width": null
          }
        },
        "349fd6b22ee74bd683e2d360436d62d0": {
          "model_module": "@jupyter-widgets/base",
          "model_name": "LayoutModel",
          "model_module_version": "1.2.0",
          "state": {
            "_model_module": "@jupyter-widgets/base",
            "_model_module_version": "1.2.0",
            "_model_name": "LayoutModel",
            "_view_count": null,
            "_view_module": "@jupyter-widgets/base",
            "_view_module_version": "1.2.0",
            "_view_name": "LayoutView",
            "align_content": null,
            "align_items": null,
            "align_self": null,
            "border": null,
            "bottom": null,
            "display": null,
            "flex": null,
            "flex_flow": null,
            "grid_area": null,
            "grid_auto_columns": null,
            "grid_auto_flow": null,
            "grid_auto_rows": null,
            "grid_column": null,
            "grid_gap": null,
            "grid_row": null,
            "grid_template_areas": null,
            "grid_template_columns": null,
            "grid_template_rows": null,
            "height": null,
            "justify_content": null,
            "justify_items": null,
            "left": null,
            "margin": null,
            "max_height": null,
            "max_width": null,
            "min_height": null,
            "min_width": null,
            "object_fit": null,
            "object_position": null,
            "order": null,
            "overflow": null,
            "overflow_x": null,
            "overflow_y": null,
            "padding": null,
            "right": null,
            "top": null,
            "visibility": null,
            "width": null
          }
        },
        "78f57541833c4aa29d7fb8b471790855": {
          "model_module": "@jupyter-widgets/controls",
          "model_name": "DescriptionStyleModel",
          "model_module_version": "1.5.0",
          "state": {
            "_model_module": "@jupyter-widgets/controls",
            "_model_module_version": "1.5.0",
            "_model_name": "DescriptionStyleModel",
            "_view_count": null,
            "_view_module": "@jupyter-widgets/base",
            "_view_module_version": "1.2.0",
            "_view_name": "StyleView",
            "description_width": ""
          }
        },
        "1b8019c88c564dbdaa954c23518142d8": {
          "model_module": "@jupyter-widgets/base",
          "model_name": "LayoutModel",
          "model_module_version": "1.2.0",
          "state": {
            "_model_module": "@jupyter-widgets/base",
            "_model_module_version": "1.2.0",
            "_model_name": "LayoutModel",
            "_view_count": null,
            "_view_module": "@jupyter-widgets/base",
            "_view_module_version": "1.2.0",
            "_view_name": "LayoutView",
            "align_content": null,
            "align_items": null,
            "align_self": null,
            "border": null,
            "bottom": null,
            "display": null,
            "flex": null,
            "flex_flow": null,
            "grid_area": null,
            "grid_auto_columns": null,
            "grid_auto_flow": null,
            "grid_auto_rows": null,
            "grid_column": null,
            "grid_gap": null,
            "grid_row": null,
            "grid_template_areas": null,
            "grid_template_columns": null,
            "grid_template_rows": null,
            "height": null,
            "justify_content": null,
            "justify_items": null,
            "left": null,
            "margin": null,
            "max_height": null,
            "max_width": null,
            "min_height": null,
            "min_width": null,
            "object_fit": null,
            "object_position": null,
            "order": null,
            "overflow": null,
            "overflow_x": null,
            "overflow_y": null,
            "padding": null,
            "right": null,
            "top": null,
            "visibility": null,
            "width": "20px"
          }
        },
        "70d365e1db30435284c06220e709e370": {
          "model_module": "@jupyter-widgets/controls",
          "model_name": "ProgressStyleModel",
          "model_module_version": "1.5.0",
          "state": {
            "_model_module": "@jupyter-widgets/controls",
            "_model_module_version": "1.5.0",
            "_model_name": "ProgressStyleModel",
            "_view_count": null,
            "_view_module": "@jupyter-widgets/base",
            "_view_module_version": "1.2.0",
            "_view_name": "StyleView",
            "bar_color": null,
            "description_width": ""
          }
        },
        "c50b5ac31f4948c28491fc6aac00ce81": {
          "model_module": "@jupyter-widgets/base",
          "model_name": "LayoutModel",
          "model_module_version": "1.2.0",
          "state": {
            "_model_module": "@jupyter-widgets/base",
            "_model_module_version": "1.2.0",
            "_model_name": "LayoutModel",
            "_view_count": null,
            "_view_module": "@jupyter-widgets/base",
            "_view_module_version": "1.2.0",
            "_view_name": "LayoutView",
            "align_content": null,
            "align_items": null,
            "align_self": null,
            "border": null,
            "bottom": null,
            "display": null,
            "flex": null,
            "flex_flow": null,
            "grid_area": null,
            "grid_auto_columns": null,
            "grid_auto_flow": null,
            "grid_auto_rows": null,
            "grid_column": null,
            "grid_gap": null,
            "grid_row": null,
            "grid_template_areas": null,
            "grid_template_columns": null,
            "grid_template_rows": null,
            "height": null,
            "justify_content": null,
            "justify_items": null,
            "left": null,
            "margin": null,
            "max_height": null,
            "max_width": null,
            "min_height": null,
            "min_width": null,
            "object_fit": null,
            "object_position": null,
            "order": null,
            "overflow": null,
            "overflow_x": null,
            "overflow_y": null,
            "padding": null,
            "right": null,
            "top": null,
            "visibility": null,
            "width": null
          }
        },
        "ca2a7e8da6f84d3fa7f5df344124f088": {
          "model_module": "@jupyter-widgets/controls",
          "model_name": "DescriptionStyleModel",
          "model_module_version": "1.5.0",
          "state": {
            "_model_module": "@jupyter-widgets/controls",
            "_model_module_version": "1.5.0",
            "_model_name": "DescriptionStyleModel",
            "_view_count": null,
            "_view_module": "@jupyter-widgets/base",
            "_view_module_version": "1.2.0",
            "_view_name": "StyleView",
            "description_width": ""
          }
        },
        "8639f3c659b640d2b03fda416f2c5895": {
          "model_module": "@jupyter-widgets/controls",
          "model_name": "HBoxModel",
          "model_module_version": "1.5.0",
          "state": {
            "_dom_classes": [],
            "_model_module": "@jupyter-widgets/controls",
            "_model_module_version": "1.5.0",
            "_model_name": "HBoxModel",
            "_view_count": null,
            "_view_module": "@jupyter-widgets/controls",
            "_view_module_version": "1.5.0",
            "_view_name": "HBoxView",
            "box_style": "",
            "children": [
              "IPY_MODEL_d30829e44ae9454898b7d7a077583d69",
              "IPY_MODEL_8e9d4c16249048dcaec85d22ea2052b1",
              "IPY_MODEL_c3b87a38224341649f935a7cc1f9fd9d"
            ],
            "layout": "IPY_MODEL_6ab0ae2dc55b464b965e0366c826617c"
          }
        },
        "d30829e44ae9454898b7d7a077583d69": {
          "model_module": "@jupyter-widgets/controls",
          "model_name": "HTMLModel",
          "model_module_version": "1.5.0",
          "state": {
            "_dom_classes": [],
            "_model_module": "@jupyter-widgets/controls",
            "_model_module_version": "1.5.0",
            "_model_name": "HTMLModel",
            "_view_count": null,
            "_view_module": "@jupyter-widgets/controls",
            "_view_module_version": "1.5.0",
            "_view_name": "HTMLView",
            "description": "",
            "description_tooltip": null,
            "layout": "IPY_MODEL_d4f6602b50024de29292c96e570ad549",
            "placeholder": "​",
            "style": "IPY_MODEL_fa9fb4d2404a4645bb2ffb87ad6dc502",
            "value": "special_tokens_map.json: "
          }
        },
        "8e9d4c16249048dcaec85d22ea2052b1": {
          "model_module": "@jupyter-widgets/controls",
          "model_name": "FloatProgressModel",
          "model_module_version": "1.5.0",
          "state": {
            "_dom_classes": [],
            "_model_module": "@jupyter-widgets/controls",
            "_model_module_version": "1.5.0",
            "_model_name": "FloatProgressModel",
            "_view_count": null,
            "_view_module": "@jupyter-widgets/controls",
            "_view_module_version": "1.5.0",
            "_view_name": "ProgressView",
            "bar_style": "success",
            "description": "",
            "description_tooltip": null,
            "layout": "IPY_MODEL_491ebb3e35bc4193b27b0bb0fb13b249",
            "max": 1,
            "min": 0,
            "orientation": "horizontal",
            "style": "IPY_MODEL_42aa926c28794bf5ad4bcd3f389e7edf",
            "value": 1
          }
        },
        "c3b87a38224341649f935a7cc1f9fd9d": {
          "model_module": "@jupyter-widgets/controls",
          "model_name": "HTMLModel",
          "model_module_version": "1.5.0",
          "state": {
            "_dom_classes": [],
            "_model_module": "@jupyter-widgets/controls",
            "_model_module_version": "1.5.0",
            "_model_name": "HTMLModel",
            "_view_count": null,
            "_view_module": "@jupyter-widgets/controls",
            "_view_module_version": "1.5.0",
            "_view_name": "HTMLView",
            "description": "",
            "description_tooltip": null,
            "layout": "IPY_MODEL_19e21d85df49493f83010d406c868c38",
            "placeholder": "​",
            "style": "IPY_MODEL_d210a4eba2c74a5884c90571c9ef84a5",
            "value": " 2.20k/? [00:00&lt;00:00, 195kB/s]"
          }
        },
        "6ab0ae2dc55b464b965e0366c826617c": {
          "model_module": "@jupyter-widgets/base",
          "model_name": "LayoutModel",
          "model_module_version": "1.2.0",
          "state": {
            "_model_module": "@jupyter-widgets/base",
            "_model_module_version": "1.2.0",
            "_model_name": "LayoutModel",
            "_view_count": null,
            "_view_module": "@jupyter-widgets/base",
            "_view_module_version": "1.2.0",
            "_view_name": "LayoutView",
            "align_content": null,
            "align_items": null,
            "align_self": null,
            "border": null,
            "bottom": null,
            "display": null,
            "flex": null,
            "flex_flow": null,
            "grid_area": null,
            "grid_auto_columns": null,
            "grid_auto_flow": null,
            "grid_auto_rows": null,
            "grid_column": null,
            "grid_gap": null,
            "grid_row": null,
            "grid_template_areas": null,
            "grid_template_columns": null,
            "grid_template_rows": null,
            "height": null,
            "justify_content": null,
            "justify_items": null,
            "left": null,
            "margin": null,
            "max_height": null,
            "max_width": null,
            "min_height": null,
            "min_width": null,
            "object_fit": null,
            "object_position": null,
            "order": null,
            "overflow": null,
            "overflow_x": null,
            "overflow_y": null,
            "padding": null,
            "right": null,
            "top": null,
            "visibility": null,
            "width": null
          }
        },
        "d4f6602b50024de29292c96e570ad549": {
          "model_module": "@jupyter-widgets/base",
          "model_name": "LayoutModel",
          "model_module_version": "1.2.0",
          "state": {
            "_model_module": "@jupyter-widgets/base",
            "_model_module_version": "1.2.0",
            "_model_name": "LayoutModel",
            "_view_count": null,
            "_view_module": "@jupyter-widgets/base",
            "_view_module_version": "1.2.0",
            "_view_name": "LayoutView",
            "align_content": null,
            "align_items": null,
            "align_self": null,
            "border": null,
            "bottom": null,
            "display": null,
            "flex": null,
            "flex_flow": null,
            "grid_area": null,
            "grid_auto_columns": null,
            "grid_auto_flow": null,
            "grid_auto_rows": null,
            "grid_column": null,
            "grid_gap": null,
            "grid_row": null,
            "grid_template_areas": null,
            "grid_template_columns": null,
            "grid_template_rows": null,
            "height": null,
            "justify_content": null,
            "justify_items": null,
            "left": null,
            "margin": null,
            "max_height": null,
            "max_width": null,
            "min_height": null,
            "min_width": null,
            "object_fit": null,
            "object_position": null,
            "order": null,
            "overflow": null,
            "overflow_x": null,
            "overflow_y": null,
            "padding": null,
            "right": null,
            "top": null,
            "visibility": null,
            "width": null
          }
        },
        "fa9fb4d2404a4645bb2ffb87ad6dc502": {
          "model_module": "@jupyter-widgets/controls",
          "model_name": "DescriptionStyleModel",
          "model_module_version": "1.5.0",
          "state": {
            "_model_module": "@jupyter-widgets/controls",
            "_model_module_version": "1.5.0",
            "_model_name": "DescriptionStyleModel",
            "_view_count": null,
            "_view_module": "@jupyter-widgets/base",
            "_view_module_version": "1.2.0",
            "_view_name": "StyleView",
            "description_width": ""
          }
        },
        "491ebb3e35bc4193b27b0bb0fb13b249": {
          "model_module": "@jupyter-widgets/base",
          "model_name": "LayoutModel",
          "model_module_version": "1.2.0",
          "state": {
            "_model_module": "@jupyter-widgets/base",
            "_model_module_version": "1.2.0",
            "_model_name": "LayoutModel",
            "_view_count": null,
            "_view_module": "@jupyter-widgets/base",
            "_view_module_version": "1.2.0",
            "_view_name": "LayoutView",
            "align_content": null,
            "align_items": null,
            "align_self": null,
            "border": null,
            "bottom": null,
            "display": null,
            "flex": null,
            "flex_flow": null,
            "grid_area": null,
            "grid_auto_columns": null,
            "grid_auto_flow": null,
            "grid_auto_rows": null,
            "grid_column": null,
            "grid_gap": null,
            "grid_row": null,
            "grid_template_areas": null,
            "grid_template_columns": null,
            "grid_template_rows": null,
            "height": null,
            "justify_content": null,
            "justify_items": null,
            "left": null,
            "margin": null,
            "max_height": null,
            "max_width": null,
            "min_height": null,
            "min_width": null,
            "object_fit": null,
            "object_position": null,
            "order": null,
            "overflow": null,
            "overflow_x": null,
            "overflow_y": null,
            "padding": null,
            "right": null,
            "top": null,
            "visibility": null,
            "width": "20px"
          }
        },
        "42aa926c28794bf5ad4bcd3f389e7edf": {
          "model_module": "@jupyter-widgets/controls",
          "model_name": "ProgressStyleModel",
          "model_module_version": "1.5.0",
          "state": {
            "_model_module": "@jupyter-widgets/controls",
            "_model_module_version": "1.5.0",
            "_model_name": "ProgressStyleModel",
            "_view_count": null,
            "_view_module": "@jupyter-widgets/base",
            "_view_module_version": "1.2.0",
            "_view_name": "StyleView",
            "bar_color": null,
            "description_width": ""
          }
        },
        "19e21d85df49493f83010d406c868c38": {
          "model_module": "@jupyter-widgets/base",
          "model_name": "LayoutModel",
          "model_module_version": "1.2.0",
          "state": {
            "_model_module": "@jupyter-widgets/base",
            "_model_module_version": "1.2.0",
            "_model_name": "LayoutModel",
            "_view_count": null,
            "_view_module": "@jupyter-widgets/base",
            "_view_module_version": "1.2.0",
            "_view_name": "LayoutView",
            "align_content": null,
            "align_items": null,
            "align_self": null,
            "border": null,
            "bottom": null,
            "display": null,
            "flex": null,
            "flex_flow": null,
            "grid_area": null,
            "grid_auto_columns": null,
            "grid_auto_flow": null,
            "grid_auto_rows": null,
            "grid_column": null,
            "grid_gap": null,
            "grid_row": null,
            "grid_template_areas": null,
            "grid_template_columns": null,
            "grid_template_rows": null,
            "height": null,
            "justify_content": null,
            "justify_items": null,
            "left": null,
            "margin": null,
            "max_height": null,
            "max_width": null,
            "min_height": null,
            "min_width": null,
            "object_fit": null,
            "object_position": null,
            "order": null,
            "overflow": null,
            "overflow_x": null,
            "overflow_y": null,
            "padding": null,
            "right": null,
            "top": null,
            "visibility": null,
            "width": null
          }
        },
        "d210a4eba2c74a5884c90571c9ef84a5": {
          "model_module": "@jupyter-widgets/controls",
          "model_name": "DescriptionStyleModel",
          "model_module_version": "1.5.0",
          "state": {
            "_model_module": "@jupyter-widgets/controls",
            "_model_module_version": "1.5.0",
            "_model_name": "DescriptionStyleModel",
            "_view_count": null,
            "_view_module": "@jupyter-widgets/base",
            "_view_module_version": "1.2.0",
            "_view_name": "StyleView",
            "description_width": ""
          }
        },
        "835c442a5abd4f71ae164e3f3081c72b": {
          "model_module": "@jupyter-widgets/controls",
          "model_name": "HBoxModel",
          "model_module_version": "1.5.0",
          "state": {
            "_dom_classes": [],
            "_model_module": "@jupyter-widgets/controls",
            "_model_module_version": "1.5.0",
            "_model_name": "HBoxModel",
            "_view_count": null,
            "_view_module": "@jupyter-widgets/controls",
            "_view_module_version": "1.5.0",
            "_view_name": "HBoxView",
            "box_style": "",
            "children": [
              "IPY_MODEL_4035bd5321e647a998f9c77118738de2",
              "IPY_MODEL_b393a6cfd8874f0297af8db4e6763f26",
              "IPY_MODEL_1427a8335f2d42a2976c7b7d0aa4a89a"
            ],
            "layout": "IPY_MODEL_d2d6349cd2154d98a7e881d6c636bec1"
          }
        },
        "4035bd5321e647a998f9c77118738de2": {
          "model_module": "@jupyter-widgets/controls",
          "model_name": "HTMLModel",
          "model_module_version": "1.5.0",
          "state": {
            "_dom_classes": [],
            "_model_module": "@jupyter-widgets/controls",
            "_model_module_version": "1.5.0",
            "_model_name": "HTMLModel",
            "_view_count": null,
            "_view_module": "@jupyter-widgets/controls",
            "_view_module_version": "1.5.0",
            "_view_name": "HTMLView",
            "description": "",
            "description_tooltip": null,
            "layout": "IPY_MODEL_a6c4e24a23ef40099732bb9f841cfcf2",
            "placeholder": "​",
            "style": "IPY_MODEL_bf6e0615378c4386b6caa7399ea099b2",
            "value": "config.json: "
          }
        },
        "b393a6cfd8874f0297af8db4e6763f26": {
          "model_module": "@jupyter-widgets/controls",
          "model_name": "FloatProgressModel",
          "model_module_version": "1.5.0",
          "state": {
            "_dom_classes": [],
            "_model_module": "@jupyter-widgets/controls",
            "_model_module_version": "1.5.0",
            "_model_name": "FloatProgressModel",
            "_view_count": null,
            "_view_module": "@jupyter-widgets/controls",
            "_view_module_version": "1.5.0",
            "_view_name": "ProgressView",
            "bar_style": "success",
            "description": "",
            "description_tooltip": null,
            "layout": "IPY_MODEL_bc0b40c8250c438a850e29696bb44879",
            "max": 1,
            "min": 0,
            "orientation": "horizontal",
            "style": "IPY_MODEL_f4a1449a969d4f0bba00084596d2504d",
            "value": 1
          }
        },
        "1427a8335f2d42a2976c7b7d0aa4a89a": {
          "model_module": "@jupyter-widgets/controls",
          "model_name": "HTMLModel",
          "model_module_version": "1.5.0",
          "state": {
            "_dom_classes": [],
            "_model_module": "@jupyter-widgets/controls",
            "_model_module_version": "1.5.0",
            "_model_name": "HTMLModel",
            "_view_count": null,
            "_view_module": "@jupyter-widgets/controls",
            "_view_module_version": "1.5.0",
            "_view_name": "HTMLView",
            "description": "",
            "description_tooltip": null,
            "layout": "IPY_MODEL_be716821b48743ea91d0455136f114ac",
            "placeholder": "​",
            "style": "IPY_MODEL_9e8ac78efb654df7b540f83d511f07f7",
            "value": " 1.43k/? [00:00&lt;00:00, 151kB/s]"
          }
        },
        "d2d6349cd2154d98a7e881d6c636bec1": {
          "model_module": "@jupyter-widgets/base",
          "model_name": "LayoutModel",
          "model_module_version": "1.2.0",
          "state": {
            "_model_module": "@jupyter-widgets/base",
            "_model_module_version": "1.2.0",
            "_model_name": "LayoutModel",
            "_view_count": null,
            "_view_module": "@jupyter-widgets/base",
            "_view_module_version": "1.2.0",
            "_view_name": "LayoutView",
            "align_content": null,
            "align_items": null,
            "align_self": null,
            "border": null,
            "bottom": null,
            "display": null,
            "flex": null,
            "flex_flow": null,
            "grid_area": null,
            "grid_auto_columns": null,
            "grid_auto_flow": null,
            "grid_auto_rows": null,
            "grid_column": null,
            "grid_gap": null,
            "grid_row": null,
            "grid_template_areas": null,
            "grid_template_columns": null,
            "grid_template_rows": null,
            "height": null,
            "justify_content": null,
            "justify_items": null,
            "left": null,
            "margin": null,
            "max_height": null,
            "max_width": null,
            "min_height": null,
            "min_width": null,
            "object_fit": null,
            "object_position": null,
            "order": null,
            "overflow": null,
            "overflow_x": null,
            "overflow_y": null,
            "padding": null,
            "right": null,
            "top": null,
            "visibility": null,
            "width": null
          }
        },
        "a6c4e24a23ef40099732bb9f841cfcf2": {
          "model_module": "@jupyter-widgets/base",
          "model_name": "LayoutModel",
          "model_module_version": "1.2.0",
          "state": {
            "_model_module": "@jupyter-widgets/base",
            "_model_module_version": "1.2.0",
            "_model_name": "LayoutModel",
            "_view_count": null,
            "_view_module": "@jupyter-widgets/base",
            "_view_module_version": "1.2.0",
            "_view_name": "LayoutView",
            "align_content": null,
            "align_items": null,
            "align_self": null,
            "border": null,
            "bottom": null,
            "display": null,
            "flex": null,
            "flex_flow": null,
            "grid_area": null,
            "grid_auto_columns": null,
            "grid_auto_flow": null,
            "grid_auto_rows": null,
            "grid_column": null,
            "grid_gap": null,
            "grid_row": null,
            "grid_template_areas": null,
            "grid_template_columns": null,
            "grid_template_rows": null,
            "height": null,
            "justify_content": null,
            "justify_items": null,
            "left": null,
            "margin": null,
            "max_height": null,
            "max_width": null,
            "min_height": null,
            "min_width": null,
            "object_fit": null,
            "object_position": null,
            "order": null,
            "overflow": null,
            "overflow_x": null,
            "overflow_y": null,
            "padding": null,
            "right": null,
            "top": null,
            "visibility": null,
            "width": null
          }
        },
        "bf6e0615378c4386b6caa7399ea099b2": {
          "model_module": "@jupyter-widgets/controls",
          "model_name": "DescriptionStyleModel",
          "model_module_version": "1.5.0",
          "state": {
            "_model_module": "@jupyter-widgets/controls",
            "_model_module_version": "1.5.0",
            "_model_name": "DescriptionStyleModel",
            "_view_count": null,
            "_view_module": "@jupyter-widgets/base",
            "_view_module_version": "1.2.0",
            "_view_name": "StyleView",
            "description_width": ""
          }
        },
        "bc0b40c8250c438a850e29696bb44879": {
          "model_module": "@jupyter-widgets/base",
          "model_name": "LayoutModel",
          "model_module_version": "1.2.0",
          "state": {
            "_model_module": "@jupyter-widgets/base",
            "_model_module_version": "1.2.0",
            "_model_name": "LayoutModel",
            "_view_count": null,
            "_view_module": "@jupyter-widgets/base",
            "_view_module_version": "1.2.0",
            "_view_name": "LayoutView",
            "align_content": null,
            "align_items": null,
            "align_self": null,
            "border": null,
            "bottom": null,
            "display": null,
            "flex": null,
            "flex_flow": null,
            "grid_area": null,
            "grid_auto_columns": null,
            "grid_auto_flow": null,
            "grid_auto_rows": null,
            "grid_column": null,
            "grid_gap": null,
            "grid_row": null,
            "grid_template_areas": null,
            "grid_template_columns": null,
            "grid_template_rows": null,
            "height": null,
            "justify_content": null,
            "justify_items": null,
            "left": null,
            "margin": null,
            "max_height": null,
            "max_width": null,
            "min_height": null,
            "min_width": null,
            "object_fit": null,
            "object_position": null,
            "order": null,
            "overflow": null,
            "overflow_x": null,
            "overflow_y": null,
            "padding": null,
            "right": null,
            "top": null,
            "visibility": null,
            "width": "20px"
          }
        },
        "f4a1449a969d4f0bba00084596d2504d": {
          "model_module": "@jupyter-widgets/controls",
          "model_name": "ProgressStyleModel",
          "model_module_version": "1.5.0",
          "state": {
            "_model_module": "@jupyter-widgets/controls",
            "_model_module_version": "1.5.0",
            "_model_name": "ProgressStyleModel",
            "_view_count": null,
            "_view_module": "@jupyter-widgets/base",
            "_view_module_version": "1.2.0",
            "_view_name": "StyleView",
            "bar_color": null,
            "description_width": ""
          }
        },
        "be716821b48743ea91d0455136f114ac": {
          "model_module": "@jupyter-widgets/base",
          "model_name": "LayoutModel",
          "model_module_version": "1.2.0",
          "state": {
            "_model_module": "@jupyter-widgets/base",
            "_model_module_version": "1.2.0",
            "_model_name": "LayoutModel",
            "_view_count": null,
            "_view_module": "@jupyter-widgets/base",
            "_view_module_version": "1.2.0",
            "_view_name": "LayoutView",
            "align_content": null,
            "align_items": null,
            "align_self": null,
            "border": null,
            "bottom": null,
            "display": null,
            "flex": null,
            "flex_flow": null,
            "grid_area": null,
            "grid_auto_columns": null,
            "grid_auto_flow": null,
            "grid_auto_rows": null,
            "grid_column": null,
            "grid_gap": null,
            "grid_row": null,
            "grid_template_areas": null,
            "grid_template_columns": null,
            "grid_template_rows": null,
            "height": null,
            "justify_content": null,
            "justify_items": null,
            "left": null,
            "margin": null,
            "max_height": null,
            "max_width": null,
            "min_height": null,
            "min_width": null,
            "object_fit": null,
            "object_position": null,
            "order": null,
            "overflow": null,
            "overflow_x": null,
            "overflow_y": null,
            "padding": null,
            "right": null,
            "top": null,
            "visibility": null,
            "width": null
          }
        },
        "9e8ac78efb654df7b540f83d511f07f7": {
          "model_module": "@jupyter-widgets/controls",
          "model_name": "DescriptionStyleModel",
          "model_module_version": "1.5.0",
          "state": {
            "_model_module": "@jupyter-widgets/controls",
            "_model_module_version": "1.5.0",
            "_model_name": "DescriptionStyleModel",
            "_view_count": null,
            "_view_module": "@jupyter-widgets/base",
            "_view_module_version": "1.2.0",
            "_view_name": "StyleView",
            "description_width": ""
          }
        },
        "97ad64d858da4252a1f61da116f3967e": {
          "model_module": "@jupyter-widgets/controls",
          "model_name": "HBoxModel",
          "model_module_version": "1.5.0",
          "state": {
            "_dom_classes": [],
            "_model_module": "@jupyter-widgets/controls",
            "_model_module_version": "1.5.0",
            "_model_name": "HBoxModel",
            "_view_count": null,
            "_view_module": "@jupyter-widgets/controls",
            "_view_module_version": "1.5.0",
            "_view_name": "HBoxView",
            "box_style": "",
            "children": [
              "IPY_MODEL_25d2a4670cfb46e2bd4ff21f4be1c136",
              "IPY_MODEL_d3030e6a352842e2ac461bf6503aeaf9",
              "IPY_MODEL_bd14200261f048c3b27a91e05000df84"
            ],
            "layout": "IPY_MODEL_5d48040c1dcb4b47b2d673490739da13"
          }
        },
        "25d2a4670cfb46e2bd4ff21f4be1c136": {
          "model_module": "@jupyter-widgets/controls",
          "model_name": "HTMLModel",
          "model_module_version": "1.5.0",
          "state": {
            "_dom_classes": [],
            "_model_module": "@jupyter-widgets/controls",
            "_model_module_version": "1.5.0",
            "_model_name": "HTMLModel",
            "_view_count": null,
            "_view_module": "@jupyter-widgets/controls",
            "_view_module_version": "1.5.0",
            "_view_name": "HTMLView",
            "description": "",
            "description_tooltip": null,
            "layout": "IPY_MODEL_e8f7190c877b41b890ca49abb7ee9497",
            "placeholder": "​",
            "style": "IPY_MODEL_392308843e284a53a108f4ecfd1889ed",
            "value": "model.safetensors: 100%"
          }
        },
        "d3030e6a352842e2ac461bf6503aeaf9": {
          "model_module": "@jupyter-widgets/controls",
          "model_name": "FloatProgressModel",
          "model_module_version": "1.5.0",
          "state": {
            "_dom_classes": [],
            "_model_module": "@jupyter-widgets/controls",
            "_model_module_version": "1.5.0",
            "_model_name": "FloatProgressModel",
            "_view_count": null,
            "_view_module": "@jupyter-widgets/controls",
            "_view_module_version": "1.5.0",
            "_view_name": "ProgressView",
            "bar_style": "success",
            "description": "",
            "description_tooltip": null,
            "layout": "IPY_MODEL_79290b24ad5342d5bd8715c2dbff7d94",
            "max": 2444578688,
            "min": 0,
            "orientation": "horizontal",
            "style": "IPY_MODEL_df29057d020146a38be18f3321057fb5",
            "value": 2444578688
          }
        },
        "bd14200261f048c3b27a91e05000df84": {
          "model_module": "@jupyter-widgets/controls",
          "model_name": "HTMLModel",
          "model_module_version": "1.5.0",
          "state": {
            "_dom_classes": [],
            "_model_module": "@jupyter-widgets/controls",
            "_model_module_version": "1.5.0",
            "_model_name": "HTMLModel",
            "_view_count": null,
            "_view_module": "@jupyter-widgets/controls",
            "_view_module_version": "1.5.0",
            "_view_name": "HTMLView",
            "description": "",
            "description_tooltip": null,
            "layout": "IPY_MODEL_081a262274934e7484ef4d22c4b61d37",
            "placeholder": "​",
            "style": "IPY_MODEL_c5e5f3ed5ce14154bdb5744600f5672c",
            "value": " 2.44G/2.44G [00:54&lt;00:00, 15.3MB/s]"
          }
        },
        "5d48040c1dcb4b47b2d673490739da13": {
          "model_module": "@jupyter-widgets/base",
          "model_name": "LayoutModel",
          "model_module_version": "1.2.0",
          "state": {
            "_model_module": "@jupyter-widgets/base",
            "_model_module_version": "1.2.0",
            "_model_name": "LayoutModel",
            "_view_count": null,
            "_view_module": "@jupyter-widgets/base",
            "_view_module_version": "1.2.0",
            "_view_name": "LayoutView",
            "align_content": null,
            "align_items": null,
            "align_self": null,
            "border": null,
            "bottom": null,
            "display": null,
            "flex": null,
            "flex_flow": null,
            "grid_area": null,
            "grid_auto_columns": null,
            "grid_auto_flow": null,
            "grid_auto_rows": null,
            "grid_column": null,
            "grid_gap": null,
            "grid_row": null,
            "grid_template_areas": null,
            "grid_template_columns": null,
            "grid_template_rows": null,
            "height": null,
            "justify_content": null,
            "justify_items": null,
            "left": null,
            "margin": null,
            "max_height": null,
            "max_width": null,
            "min_height": null,
            "min_width": null,
            "object_fit": null,
            "object_position": null,
            "order": null,
            "overflow": null,
            "overflow_x": null,
            "overflow_y": null,
            "padding": null,
            "right": null,
            "top": null,
            "visibility": null,
            "width": null
          }
        },
        "e8f7190c877b41b890ca49abb7ee9497": {
          "model_module": "@jupyter-widgets/base",
          "model_name": "LayoutModel",
          "model_module_version": "1.2.0",
          "state": {
            "_model_module": "@jupyter-widgets/base",
            "_model_module_version": "1.2.0",
            "_model_name": "LayoutModel",
            "_view_count": null,
            "_view_module": "@jupyter-widgets/base",
            "_view_module_version": "1.2.0",
            "_view_name": "LayoutView",
            "align_content": null,
            "align_items": null,
            "align_self": null,
            "border": null,
            "bottom": null,
            "display": null,
            "flex": null,
            "flex_flow": null,
            "grid_area": null,
            "grid_auto_columns": null,
            "grid_auto_flow": null,
            "grid_auto_rows": null,
            "grid_column": null,
            "grid_gap": null,
            "grid_row": null,
            "grid_template_areas": null,
            "grid_template_columns": null,
            "grid_template_rows": null,
            "height": null,
            "justify_content": null,
            "justify_items": null,
            "left": null,
            "margin": null,
            "max_height": null,
            "max_width": null,
            "min_height": null,
            "min_width": null,
            "object_fit": null,
            "object_position": null,
            "order": null,
            "overflow": null,
            "overflow_x": null,
            "overflow_y": null,
            "padding": null,
            "right": null,
            "top": null,
            "visibility": null,
            "width": null
          }
        },
        "392308843e284a53a108f4ecfd1889ed": {
          "model_module": "@jupyter-widgets/controls",
          "model_name": "DescriptionStyleModel",
          "model_module_version": "1.5.0",
          "state": {
            "_model_module": "@jupyter-widgets/controls",
            "_model_module_version": "1.5.0",
            "_model_name": "DescriptionStyleModel",
            "_view_count": null,
            "_view_module": "@jupyter-widgets/base",
            "_view_module_version": "1.2.0",
            "_view_name": "StyleView",
            "description_width": ""
          }
        },
        "79290b24ad5342d5bd8715c2dbff7d94": {
          "model_module": "@jupyter-widgets/base",
          "model_name": "LayoutModel",
          "model_module_version": "1.2.0",
          "state": {
            "_model_module": "@jupyter-widgets/base",
            "_model_module_version": "1.2.0",
            "_model_name": "LayoutModel",
            "_view_count": null,
            "_view_module": "@jupyter-widgets/base",
            "_view_module_version": "1.2.0",
            "_view_name": "LayoutView",
            "align_content": null,
            "align_items": null,
            "align_self": null,
            "border": null,
            "bottom": null,
            "display": null,
            "flex": null,
            "flex_flow": null,
            "grid_area": null,
            "grid_auto_columns": null,
            "grid_auto_flow": null,
            "grid_auto_rows": null,
            "grid_column": null,
            "grid_gap": null,
            "grid_row": null,
            "grid_template_areas": null,
            "grid_template_columns": null,
            "grid_template_rows": null,
            "height": null,
            "justify_content": null,
            "justify_items": null,
            "left": null,
            "margin": null,
            "max_height": null,
            "max_width": null,
            "min_height": null,
            "min_width": null,
            "object_fit": null,
            "object_position": null,
            "order": null,
            "overflow": null,
            "overflow_x": null,
            "overflow_y": null,
            "padding": null,
            "right": null,
            "top": null,
            "visibility": null,
            "width": null
          }
        },
        "df29057d020146a38be18f3321057fb5": {
          "model_module": "@jupyter-widgets/controls",
          "model_name": "ProgressStyleModel",
          "model_module_version": "1.5.0",
          "state": {
            "_model_module": "@jupyter-widgets/controls",
            "_model_module_version": "1.5.0",
            "_model_name": "ProgressStyleModel",
            "_view_count": null,
            "_view_module": "@jupyter-widgets/base",
            "_view_module_version": "1.2.0",
            "_view_name": "StyleView",
            "bar_color": null,
            "description_width": ""
          }
        },
        "081a262274934e7484ef4d22c4b61d37": {
          "model_module": "@jupyter-widgets/base",
          "model_name": "LayoutModel",
          "model_module_version": "1.2.0",
          "state": {
            "_model_module": "@jupyter-widgets/base",
            "_model_module_version": "1.2.0",
            "_model_name": "LayoutModel",
            "_view_count": null,
            "_view_module": "@jupyter-widgets/base",
            "_view_module_version": "1.2.0",
            "_view_name": "LayoutView",
            "align_content": null,
            "align_items": null,
            "align_self": null,
            "border": null,
            "bottom": null,
            "display": null,
            "flex": null,
            "flex_flow": null,
            "grid_area": null,
            "grid_auto_columns": null,
            "grid_auto_flow": null,
            "grid_auto_rows": null,
            "grid_column": null,
            "grid_gap": null,
            "grid_row": null,
            "grid_template_areas": null,
            "grid_template_columns": null,
            "grid_template_rows": null,
            "height": null,
            "justify_content": null,
            "justify_items": null,
            "left": null,
            "margin": null,
            "max_height": null,
            "max_width": null,
            "min_height": null,
            "min_width": null,
            "object_fit": null,
            "object_position": null,
            "order": null,
            "overflow": null,
            "overflow_x": null,
            "overflow_y": null,
            "padding": null,
            "right": null,
            "top": null,
            "visibility": null,
            "width": null
          }
        },
        "c5e5f3ed5ce14154bdb5744600f5672c": {
          "model_module": "@jupyter-widgets/controls",
          "model_name": "DescriptionStyleModel",
          "model_module_version": "1.5.0",
          "state": {
            "_model_module": "@jupyter-widgets/controls",
            "_model_module_version": "1.5.0",
            "_model_name": "DescriptionStyleModel",
            "_view_count": null,
            "_view_module": "@jupyter-widgets/base",
            "_view_module_version": "1.2.0",
            "_view_name": "StyleView",
            "description_width": ""
          }
        },
        "10e02731fc8e4c1f919c34edee11f989": {
          "model_module": "@jupyter-widgets/controls",
          "model_name": "HBoxModel",
          "model_module_version": "1.5.0",
          "state": {
            "_dom_classes": [],
            "_model_module": "@jupyter-widgets/controls",
            "_model_module_version": "1.5.0",
            "_model_name": "HBoxModel",
            "_view_count": null,
            "_view_module": "@jupyter-widgets/controls",
            "_view_module_version": "1.5.0",
            "_view_name": "HBoxView",
            "box_style": "",
            "children": [
              "IPY_MODEL_d7c14a8fe1c44b57881b1a41504580b8",
              "IPY_MODEL_2bb39479dfc54be49d6434440aefc1a8",
              "IPY_MODEL_5f4dc0a534e14324a8055dd97e4fe5f9"
            ],
            "layout": "IPY_MODEL_02312c0527eb4549968ec9f863d7e0b5"
          }
        },
        "d7c14a8fe1c44b57881b1a41504580b8": {
          "model_module": "@jupyter-widgets/controls",
          "model_name": "HTMLModel",
          "model_module_version": "1.5.0",
          "state": {
            "_dom_classes": [],
            "_model_module": "@jupyter-widgets/controls",
            "_model_module_version": "1.5.0",
            "_model_name": "HTMLModel",
            "_view_count": null,
            "_view_module": "@jupyter-widgets/controls",
            "_view_module_version": "1.5.0",
            "_view_name": "HTMLView",
            "description": "",
            "description_tooltip": null,
            "layout": "IPY_MODEL_d6aba782400f4bf7b57ba856a0da393c",
            "placeholder": "​",
            "style": "IPY_MODEL_5902fa45898b471a909206da4fd1edbf",
            "value": "generation_config.json: 100%"
          }
        },
        "2bb39479dfc54be49d6434440aefc1a8": {
          "model_module": "@jupyter-widgets/controls",
          "model_name": "FloatProgressModel",
          "model_module_version": "1.5.0",
          "state": {
            "_dom_classes": [],
            "_model_module": "@jupyter-widgets/controls",
            "_model_module_version": "1.5.0",
            "_model_name": "FloatProgressModel",
            "_view_count": null,
            "_view_module": "@jupyter-widgets/controls",
            "_view_module_version": "1.5.0",
            "_view_name": "ProgressView",
            "bar_style": "success",
            "description": "",
            "description_tooltip": null,
            "layout": "IPY_MODEL_b7b38daf2d57476fbe613e14e4b626a7",
            "max": 261,
            "min": 0,
            "orientation": "horizontal",
            "style": "IPY_MODEL_25aaac7c6d8842a293a2bef847764f62",
            "value": 261
          }
        },
        "5f4dc0a534e14324a8055dd97e4fe5f9": {
          "model_module": "@jupyter-widgets/controls",
          "model_name": "HTMLModel",
          "model_module_version": "1.5.0",
          "state": {
            "_dom_classes": [],
            "_model_module": "@jupyter-widgets/controls",
            "_model_module_version": "1.5.0",
            "_model_name": "HTMLModel",
            "_view_count": null,
            "_view_module": "@jupyter-widgets/controls",
            "_view_module_version": "1.5.0",
            "_view_name": "HTMLView",
            "description": "",
            "description_tooltip": null,
            "layout": "IPY_MODEL_c6ba2d16df8c4244bb7132f828105192",
            "placeholder": "​",
            "style": "IPY_MODEL_8bd962c82ec2476283086663e277c71c",
            "value": " 261/261 [00:00&lt;00:00, 32.1kB/s]"
          }
        },
        "02312c0527eb4549968ec9f863d7e0b5": {
          "model_module": "@jupyter-widgets/base",
          "model_name": "LayoutModel",
          "model_module_version": "1.2.0",
          "state": {
            "_model_module": "@jupyter-widgets/base",
            "_model_module_version": "1.2.0",
            "_model_name": "LayoutModel",
            "_view_count": null,
            "_view_module": "@jupyter-widgets/base",
            "_view_module_version": "1.2.0",
            "_view_name": "LayoutView",
            "align_content": null,
            "align_items": null,
            "align_self": null,
            "border": null,
            "bottom": null,
            "display": null,
            "flex": null,
            "flex_flow": null,
            "grid_area": null,
            "grid_auto_columns": null,
            "grid_auto_flow": null,
            "grid_auto_rows": null,
            "grid_column": null,
            "grid_gap": null,
            "grid_row": null,
            "grid_template_areas": null,
            "grid_template_columns": null,
            "grid_template_rows": null,
            "height": null,
            "justify_content": null,
            "justify_items": null,
            "left": null,
            "margin": null,
            "max_height": null,
            "max_width": null,
            "min_height": null,
            "min_width": null,
            "object_fit": null,
            "object_position": null,
            "order": null,
            "overflow": null,
            "overflow_x": null,
            "overflow_y": null,
            "padding": null,
            "right": null,
            "top": null,
            "visibility": null,
            "width": null
          }
        },
        "d6aba782400f4bf7b57ba856a0da393c": {
          "model_module": "@jupyter-widgets/base",
          "model_name": "LayoutModel",
          "model_module_version": "1.2.0",
          "state": {
            "_model_module": "@jupyter-widgets/base",
            "_model_module_version": "1.2.0",
            "_model_name": "LayoutModel",
            "_view_count": null,
            "_view_module": "@jupyter-widgets/base",
            "_view_module_version": "1.2.0",
            "_view_name": "LayoutView",
            "align_content": null,
            "align_items": null,
            "align_self": null,
            "border": null,
            "bottom": null,
            "display": null,
            "flex": null,
            "flex_flow": null,
            "grid_area": null,
            "grid_auto_columns": null,
            "grid_auto_flow": null,
            "grid_auto_rows": null,
            "grid_column": null,
            "grid_gap": null,
            "grid_row": null,
            "grid_template_areas": null,
            "grid_template_columns": null,
            "grid_template_rows": null,
            "height": null,
            "justify_content": null,
            "justify_items": null,
            "left": null,
            "margin": null,
            "max_height": null,
            "max_width": null,
            "min_height": null,
            "min_width": null,
            "object_fit": null,
            "object_position": null,
            "order": null,
            "overflow": null,
            "overflow_x": null,
            "overflow_y": null,
            "padding": null,
            "right": null,
            "top": null,
            "visibility": null,
            "width": null
          }
        },
        "5902fa45898b471a909206da4fd1edbf": {
          "model_module": "@jupyter-widgets/controls",
          "model_name": "DescriptionStyleModel",
          "model_module_version": "1.5.0",
          "state": {
            "_model_module": "@jupyter-widgets/controls",
            "_model_module_version": "1.5.0",
            "_model_name": "DescriptionStyleModel",
            "_view_count": null,
            "_view_module": "@jupyter-widgets/base",
            "_view_module_version": "1.2.0",
            "_view_name": "StyleView",
            "description_width": ""
          }
        },
        "b7b38daf2d57476fbe613e14e4b626a7": {
          "model_module": "@jupyter-widgets/base",
          "model_name": "LayoutModel",
          "model_module_version": "1.2.0",
          "state": {
            "_model_module": "@jupyter-widgets/base",
            "_model_module_version": "1.2.0",
            "_model_name": "LayoutModel",
            "_view_count": null,
            "_view_module": "@jupyter-widgets/base",
            "_view_module_version": "1.2.0",
            "_view_name": "LayoutView",
            "align_content": null,
            "align_items": null,
            "align_self": null,
            "border": null,
            "bottom": null,
            "display": null,
            "flex": null,
            "flex_flow": null,
            "grid_area": null,
            "grid_auto_columns": null,
            "grid_auto_flow": null,
            "grid_auto_rows": null,
            "grid_column": null,
            "grid_gap": null,
            "grid_row": null,
            "grid_template_areas": null,
            "grid_template_columns": null,
            "grid_template_rows": null,
            "height": null,
            "justify_content": null,
            "justify_items": null,
            "left": null,
            "margin": null,
            "max_height": null,
            "max_width": null,
            "min_height": null,
            "min_width": null,
            "object_fit": null,
            "object_position": null,
            "order": null,
            "overflow": null,
            "overflow_x": null,
            "overflow_y": null,
            "padding": null,
            "right": null,
            "top": null,
            "visibility": null,
            "width": null
          }
        },
        "25aaac7c6d8842a293a2bef847764f62": {
          "model_module": "@jupyter-widgets/controls",
          "model_name": "ProgressStyleModel",
          "model_module_version": "1.5.0",
          "state": {
            "_model_module": "@jupyter-widgets/controls",
            "_model_module_version": "1.5.0",
            "_model_name": "ProgressStyleModel",
            "_view_count": null,
            "_view_module": "@jupyter-widgets/base",
            "_view_module_version": "1.2.0",
            "_view_name": "StyleView",
            "bar_color": null,
            "description_width": ""
          }
        },
        "c6ba2d16df8c4244bb7132f828105192": {
          "model_module": "@jupyter-widgets/base",
          "model_name": "LayoutModel",
          "model_module_version": "1.2.0",
          "state": {
            "_model_module": "@jupyter-widgets/base",
            "_model_module_version": "1.2.0",
            "_model_name": "LayoutModel",
            "_view_count": null,
            "_view_module": "@jupyter-widgets/base",
            "_view_module_version": "1.2.0",
            "_view_name": "LayoutView",
            "align_content": null,
            "align_items": null,
            "align_self": null,
            "border": null,
            "bottom": null,
            "display": null,
            "flex": null,
            "flex_flow": null,
            "grid_area": null,
            "grid_auto_columns": null,
            "grid_auto_flow": null,
            "grid_auto_rows": null,
            "grid_column": null,
            "grid_gap": null,
            "grid_row": null,
            "grid_template_areas": null,
            "grid_template_columns": null,
            "grid_template_rows": null,
            "height": null,
            "justify_content": null,
            "justify_items": null,
            "left": null,
            "margin": null,
            "max_height": null,
            "max_width": null,
            "min_height": null,
            "min_width": null,
            "object_fit": null,
            "object_position": null,
            "order": null,
            "overflow": null,
            "overflow_x": null,
            "overflow_y": null,
            "padding": null,
            "right": null,
            "top": null,
            "visibility": null,
            "width": null
          }
        },
        "8bd962c82ec2476283086663e277c71c": {
          "model_module": "@jupyter-widgets/controls",
          "model_name": "DescriptionStyleModel",
          "model_module_version": "1.5.0",
          "state": {
            "_model_module": "@jupyter-widgets/controls",
            "_model_module_version": "1.5.0",
            "_model_name": "DescriptionStyleModel",
            "_view_count": null,
            "_view_module": "@jupyter-widgets/base",
            "_view_module_version": "1.2.0",
            "_view_name": "StyleView",
            "description_width": ""
          }
        },
        "b7d760977f4d4f0f9024e2d27eb11644": {
          "model_module": "@jupyter-widgets/controls",
          "model_name": "HBoxModel",
          "model_module_version": "1.5.0",
          "state": {
            "_dom_classes": [],
            "_model_module": "@jupyter-widgets/controls",
            "_model_module_version": "1.5.0",
            "_model_name": "HBoxModel",
            "_view_count": null,
            "_view_module": "@jupyter-widgets/controls",
            "_view_module_version": "1.5.0",
            "_view_name": "HBoxView",
            "box_style": "",
            "children": [
              "IPY_MODEL_98ef69ea698940cab4c113da1b3ac78f",
              "IPY_MODEL_9f7fd5270aeb4960beafea0dcf3950e4",
              "IPY_MODEL_351fef23ec6048e7992e3cc9927b7bec"
            ],
            "layout": "IPY_MODEL_7375f30d088e48e2807c2ff439617385"
          }
        },
        "98ef69ea698940cab4c113da1b3ac78f": {
          "model_module": "@jupyter-widgets/controls",
          "model_name": "HTMLModel",
          "model_module_version": "1.5.0",
          "state": {
            "_dom_classes": [],
            "_model_module": "@jupyter-widgets/controls",
            "_model_module_version": "1.5.0",
            "_model_name": "HTMLModel",
            "_view_count": null,
            "_view_module": "@jupyter-widgets/controls",
            "_view_module_version": "1.5.0",
            "_view_name": "HTMLView",
            "description": "",
            "description_tooltip": null,
            "layout": "IPY_MODEL_23cdcb686ece4759b42a07da019088ec",
            "placeholder": "​",
            "style": "IPY_MODEL_bea127b4c4fb4841b60f5708550e21de",
            "value": "tokenizer_config.json: 100%"
          }
        },
        "9f7fd5270aeb4960beafea0dcf3950e4": {
          "model_module": "@jupyter-widgets/controls",
          "model_name": "FloatProgressModel",
          "model_module_version": "1.5.0",
          "state": {
            "_dom_classes": [],
            "_model_module": "@jupyter-widgets/controls",
            "_model_module_version": "1.5.0",
            "_model_name": "FloatProgressModel",
            "_view_count": null,
            "_view_module": "@jupyter-widgets/controls",
            "_view_module_version": "1.5.0",
            "_view_name": "ProgressView",
            "bar_style": "success",
            "description": "",
            "description_tooltip": null,
            "layout": "IPY_MODEL_6822085b7aac446cbf8c7dc5b085d2a9",
            "max": 529,
            "min": 0,
            "orientation": "horizontal",
            "style": "IPY_MODEL_92bd78388b654df6bdf7573266d1ece5",
            "value": 529
          }
        },
        "351fef23ec6048e7992e3cc9927b7bec": {
          "model_module": "@jupyter-widgets/controls",
          "model_name": "HTMLModel",
          "model_module_version": "1.5.0",
          "state": {
            "_dom_classes": [],
            "_model_module": "@jupyter-widgets/controls",
            "_model_module_version": "1.5.0",
            "_model_name": "HTMLModel",
            "_view_count": null,
            "_view_module": "@jupyter-widgets/controls",
            "_view_module_version": "1.5.0",
            "_view_name": "HTMLView",
            "description": "",
            "description_tooltip": null,
            "layout": "IPY_MODEL_6afb0408d92c4868a67a8f0150fde8c1",
            "placeholder": "​",
            "style": "IPY_MODEL_5b059488650142b69320574578069136",
            "value": " 529/529 [00:00&lt;00:00, 66.1kB/s]"
          }
        },
        "7375f30d088e48e2807c2ff439617385": {
          "model_module": "@jupyter-widgets/base",
          "model_name": "LayoutModel",
          "model_module_version": "1.2.0",
          "state": {
            "_model_module": "@jupyter-widgets/base",
            "_model_module_version": "1.2.0",
            "_model_name": "LayoutModel",
            "_view_count": null,
            "_view_module": "@jupyter-widgets/base",
            "_view_module_version": "1.2.0",
            "_view_name": "LayoutView",
            "align_content": null,
            "align_items": null,
            "align_self": null,
            "border": null,
            "bottom": null,
            "display": null,
            "flex": null,
            "flex_flow": null,
            "grid_area": null,
            "grid_auto_columns": null,
            "grid_auto_flow": null,
            "grid_auto_rows": null,
            "grid_column": null,
            "grid_gap": null,
            "grid_row": null,
            "grid_template_areas": null,
            "grid_template_columns": null,
            "grid_template_rows": null,
            "height": null,
            "justify_content": null,
            "justify_items": null,
            "left": null,
            "margin": null,
            "max_height": null,
            "max_width": null,
            "min_height": null,
            "min_width": null,
            "object_fit": null,
            "object_position": null,
            "order": null,
            "overflow": null,
            "overflow_x": null,
            "overflow_y": null,
            "padding": null,
            "right": null,
            "top": null,
            "visibility": null,
            "width": null
          }
        },
        "23cdcb686ece4759b42a07da019088ec": {
          "model_module": "@jupyter-widgets/base",
          "model_name": "LayoutModel",
          "model_module_version": "1.2.0",
          "state": {
            "_model_module": "@jupyter-widgets/base",
            "_model_module_version": "1.2.0",
            "_model_name": "LayoutModel",
            "_view_count": null,
            "_view_module": "@jupyter-widgets/base",
            "_view_module_version": "1.2.0",
            "_view_name": "LayoutView",
            "align_content": null,
            "align_items": null,
            "align_self": null,
            "border": null,
            "bottom": null,
            "display": null,
            "flex": null,
            "flex_flow": null,
            "grid_area": null,
            "grid_auto_columns": null,
            "grid_auto_flow": null,
            "grid_auto_rows": null,
            "grid_column": null,
            "grid_gap": null,
            "grid_row": null,
            "grid_template_areas": null,
            "grid_template_columns": null,
            "grid_template_rows": null,
            "height": null,
            "justify_content": null,
            "justify_items": null,
            "left": null,
            "margin": null,
            "max_height": null,
            "max_width": null,
            "min_height": null,
            "min_width": null,
            "object_fit": null,
            "object_position": null,
            "order": null,
            "overflow": null,
            "overflow_x": null,
            "overflow_y": null,
            "padding": null,
            "right": null,
            "top": null,
            "visibility": null,
            "width": null
          }
        },
        "bea127b4c4fb4841b60f5708550e21de": {
          "model_module": "@jupyter-widgets/controls",
          "model_name": "DescriptionStyleModel",
          "model_module_version": "1.5.0",
          "state": {
            "_model_module": "@jupyter-widgets/controls",
            "_model_module_version": "1.5.0",
            "_model_name": "DescriptionStyleModel",
            "_view_count": null,
            "_view_module": "@jupyter-widgets/base",
            "_view_module_version": "1.2.0",
            "_view_name": "StyleView",
            "description_width": ""
          }
        },
        "6822085b7aac446cbf8c7dc5b085d2a9": {
          "model_module": "@jupyter-widgets/base",
          "model_name": "LayoutModel",
          "model_module_version": "1.2.0",
          "state": {
            "_model_module": "@jupyter-widgets/base",
            "_model_module_version": "1.2.0",
            "_model_name": "LayoutModel",
            "_view_count": null,
            "_view_module": "@jupyter-widgets/base",
            "_view_module_version": "1.2.0",
            "_view_name": "LayoutView",
            "align_content": null,
            "align_items": null,
            "align_self": null,
            "border": null,
            "bottom": null,
            "display": null,
            "flex": null,
            "flex_flow": null,
            "grid_area": null,
            "grid_auto_columns": null,
            "grid_auto_flow": null,
            "grid_auto_rows": null,
            "grid_column": null,
            "grid_gap": null,
            "grid_row": null,
            "grid_template_areas": null,
            "grid_template_columns": null,
            "grid_template_rows": null,
            "height": null,
            "justify_content": null,
            "justify_items": null,
            "left": null,
            "margin": null,
            "max_height": null,
            "max_width": null,
            "min_height": null,
            "min_width": null,
            "object_fit": null,
            "object_position": null,
            "order": null,
            "overflow": null,
            "overflow_x": null,
            "overflow_y": null,
            "padding": null,
            "right": null,
            "top": null,
            "visibility": null,
            "width": null
          }
        },
        "92bd78388b654df6bdf7573266d1ece5": {
          "model_module": "@jupyter-widgets/controls",
          "model_name": "ProgressStyleModel",
          "model_module_version": "1.5.0",
          "state": {
            "_model_module": "@jupyter-widgets/controls",
            "_model_module_version": "1.5.0",
            "_model_name": "ProgressStyleModel",
            "_view_count": null,
            "_view_module": "@jupyter-widgets/base",
            "_view_module_version": "1.2.0",
            "_view_name": "StyleView",
            "bar_color": null,
            "description_width": ""
          }
        },
        "6afb0408d92c4868a67a8f0150fde8c1": {
          "model_module": "@jupyter-widgets/base",
          "model_name": "LayoutModel",
          "model_module_version": "1.2.0",
          "state": {
            "_model_module": "@jupyter-widgets/base",
            "_model_module_version": "1.2.0",
            "_model_name": "LayoutModel",
            "_view_count": null,
            "_view_module": "@jupyter-widgets/base",
            "_view_module_version": "1.2.0",
            "_view_name": "LayoutView",
            "align_content": null,
            "align_items": null,
            "align_self": null,
            "border": null,
            "bottom": null,
            "display": null,
            "flex": null,
            "flex_flow": null,
            "grid_area": null,
            "grid_auto_columns": null,
            "grid_auto_flow": null,
            "grid_auto_rows": null,
            "grid_column": null,
            "grid_gap": null,
            "grid_row": null,
            "grid_template_areas": null,
            "grid_template_columns": null,
            "grid_template_rows": null,
            "height": null,
            "justify_content": null,
            "justify_items": null,
            "left": null,
            "margin": null,
            "max_height": null,
            "max_width": null,
            "min_height": null,
            "min_width": null,
            "object_fit": null,
            "object_position": null,
            "order": null,
            "overflow": null,
            "overflow_x": null,
            "overflow_y": null,
            "padding": null,
            "right": null,
            "top": null,
            "visibility": null,
            "width": null
          }
        },
        "5b059488650142b69320574578069136": {
          "model_module": "@jupyter-widgets/controls",
          "model_name": "DescriptionStyleModel",
          "model_module_version": "1.5.0",
          "state": {
            "_model_module": "@jupyter-widgets/controls",
            "_model_module_version": "1.5.0",
            "_model_name": "DescriptionStyleModel",
            "_view_count": null,
            "_view_module": "@jupyter-widgets/base",
            "_view_module_version": "1.2.0",
            "_view_name": "StyleView",
            "description_width": ""
          }
        },
        "a20344aa9b614776bcf0c320e2b1ec13": {
          "model_module": "@jupyter-widgets/controls",
          "model_name": "HBoxModel",
          "model_module_version": "1.5.0",
          "state": {
            "_dom_classes": [],
            "_model_module": "@jupyter-widgets/controls",
            "_model_module_version": "1.5.0",
            "_model_name": "HBoxModel",
            "_view_count": null,
            "_view_module": "@jupyter-widgets/controls",
            "_view_module_version": "1.5.0",
            "_view_name": "HBoxView",
            "box_style": "",
            "children": [
              "IPY_MODEL_8f2e1e8ad04b400a998f4354b2408495",
              "IPY_MODEL_a0bafd233a85427388bcbd8904ba1c95",
              "IPY_MODEL_59983e99cbfe48199fed9edb991802c2"
            ],
            "layout": "IPY_MODEL_7e49eef1e2c54afb816405381985bc28"
          }
        },
        "8f2e1e8ad04b400a998f4354b2408495": {
          "model_module": "@jupyter-widgets/controls",
          "model_name": "HTMLModel",
          "model_module_version": "1.5.0",
          "state": {
            "_dom_classes": [],
            "_model_module": "@jupyter-widgets/controls",
            "_model_module_version": "1.5.0",
            "_model_name": "HTMLModel",
            "_view_count": null,
            "_view_module": "@jupyter-widgets/controls",
            "_view_module_version": "1.5.0",
            "_view_name": "HTMLView",
            "description": "",
            "description_tooltip": null,
            "layout": "IPY_MODEL_7c8638be746a43b69d00a22deb497c41",
            "placeholder": "​",
            "style": "IPY_MODEL_c6af1d018594400ebf8d4c9fcd898ac0",
            "value": "sentencepiece.bpe.model: 100%"
          }
        },
        "a0bafd233a85427388bcbd8904ba1c95": {
          "model_module": "@jupyter-widgets/controls",
          "model_name": "FloatProgressModel",
          "model_module_version": "1.5.0",
          "state": {
            "_dom_classes": [],
            "_model_module": "@jupyter-widgets/controls",
            "_model_module_version": "1.5.0",
            "_model_name": "FloatProgressModel",
            "_view_count": null,
            "_view_module": "@jupyter-widgets/controls",
            "_view_module_version": "1.5.0",
            "_view_name": "ProgressView",
            "bar_style": "success",
            "description": "",
            "description_tooltip": null,
            "layout": "IPY_MODEL_39d8798b28f94de7b806208a79d97118",
            "max": 5069051,
            "min": 0,
            "orientation": "horizontal",
            "style": "IPY_MODEL_fbb5bef444e745578976ad9cfc57432b",
            "value": 5069051
          }
        },
        "59983e99cbfe48199fed9edb991802c2": {
          "model_module": "@jupyter-widgets/controls",
          "model_name": "HTMLModel",
          "model_module_version": "1.5.0",
          "state": {
            "_dom_classes": [],
            "_model_module": "@jupyter-widgets/controls",
            "_model_module_version": "1.5.0",
            "_model_name": "HTMLModel",
            "_view_count": null,
            "_view_module": "@jupyter-widgets/controls",
            "_view_module_version": "1.5.0",
            "_view_name": "HTMLView",
            "description": "",
            "description_tooltip": null,
            "layout": "IPY_MODEL_6f60999470a447b79c2df28dc886473d",
            "placeholder": "​",
            "style": "IPY_MODEL_9b24a3f13d5f4d1e9230f4d50434a299",
            "value": " 5.07M/5.07M [00:00&lt;00:00, 11.3MB/s]"
          }
        },
        "7e49eef1e2c54afb816405381985bc28": {
          "model_module": "@jupyter-widgets/base",
          "model_name": "LayoutModel",
          "model_module_version": "1.2.0",
          "state": {
            "_model_module": "@jupyter-widgets/base",
            "_model_module_version": "1.2.0",
            "_model_name": "LayoutModel",
            "_view_count": null,
            "_view_module": "@jupyter-widgets/base",
            "_view_module_version": "1.2.0",
            "_view_name": "LayoutView",
            "align_content": null,
            "align_items": null,
            "align_self": null,
            "border": null,
            "bottom": null,
            "display": null,
            "flex": null,
            "flex_flow": null,
            "grid_area": null,
            "grid_auto_columns": null,
            "grid_auto_flow": null,
            "grid_auto_rows": null,
            "grid_column": null,
            "grid_gap": null,
            "grid_row": null,
            "grid_template_areas": null,
            "grid_template_columns": null,
            "grid_template_rows": null,
            "height": null,
            "justify_content": null,
            "justify_items": null,
            "left": null,
            "margin": null,
            "max_height": null,
            "max_width": null,
            "min_height": null,
            "min_width": null,
            "object_fit": null,
            "object_position": null,
            "order": null,
            "overflow": null,
            "overflow_x": null,
            "overflow_y": null,
            "padding": null,
            "right": null,
            "top": null,
            "visibility": null,
            "width": null
          }
        },
        "7c8638be746a43b69d00a22deb497c41": {
          "model_module": "@jupyter-widgets/base",
          "model_name": "LayoutModel",
          "model_module_version": "1.2.0",
          "state": {
            "_model_module": "@jupyter-widgets/base",
            "_model_module_version": "1.2.0",
            "_model_name": "LayoutModel",
            "_view_count": null,
            "_view_module": "@jupyter-widgets/base",
            "_view_module_version": "1.2.0",
            "_view_name": "LayoutView",
            "align_content": null,
            "align_items": null,
            "align_self": null,
            "border": null,
            "bottom": null,
            "display": null,
            "flex": null,
            "flex_flow": null,
            "grid_area": null,
            "grid_auto_columns": null,
            "grid_auto_flow": null,
            "grid_auto_rows": null,
            "grid_column": null,
            "grid_gap": null,
            "grid_row": null,
            "grid_template_areas": null,
            "grid_template_columns": null,
            "grid_template_rows": null,
            "height": null,
            "justify_content": null,
            "justify_items": null,
            "left": null,
            "margin": null,
            "max_height": null,
            "max_width": null,
            "min_height": null,
            "min_width": null,
            "object_fit": null,
            "object_position": null,
            "order": null,
            "overflow": null,
            "overflow_x": null,
            "overflow_y": null,
            "padding": null,
            "right": null,
            "top": null,
            "visibility": null,
            "width": null
          }
        },
        "c6af1d018594400ebf8d4c9fcd898ac0": {
          "model_module": "@jupyter-widgets/controls",
          "model_name": "DescriptionStyleModel",
          "model_module_version": "1.5.0",
          "state": {
            "_model_module": "@jupyter-widgets/controls",
            "_model_module_version": "1.5.0",
            "_model_name": "DescriptionStyleModel",
            "_view_count": null,
            "_view_module": "@jupyter-widgets/base",
            "_view_module_version": "1.2.0",
            "_view_name": "StyleView",
            "description_width": ""
          }
        },
        "39d8798b28f94de7b806208a79d97118": {
          "model_module": "@jupyter-widgets/base",
          "model_name": "LayoutModel",
          "model_module_version": "1.2.0",
          "state": {
            "_model_module": "@jupyter-widgets/base",
            "_model_module_version": "1.2.0",
            "_model_name": "LayoutModel",
            "_view_count": null,
            "_view_module": "@jupyter-widgets/base",
            "_view_module_version": "1.2.0",
            "_view_name": "LayoutView",
            "align_content": null,
            "align_items": null,
            "align_self": null,
            "border": null,
            "bottom": null,
            "display": null,
            "flex": null,
            "flex_flow": null,
            "grid_area": null,
            "grid_auto_columns": null,
            "grid_auto_flow": null,
            "grid_auto_rows": null,
            "grid_column": null,
            "grid_gap": null,
            "grid_row": null,
            "grid_template_areas": null,
            "grid_template_columns": null,
            "grid_template_rows": null,
            "height": null,
            "justify_content": null,
            "justify_items": null,
            "left": null,
            "margin": null,
            "max_height": null,
            "max_width": null,
            "min_height": null,
            "min_width": null,
            "object_fit": null,
            "object_position": null,
            "order": null,
            "overflow": null,
            "overflow_x": null,
            "overflow_y": null,
            "padding": null,
            "right": null,
            "top": null,
            "visibility": null,
            "width": null
          }
        },
        "fbb5bef444e745578976ad9cfc57432b": {
          "model_module": "@jupyter-widgets/controls",
          "model_name": "ProgressStyleModel",
          "model_module_version": "1.5.0",
          "state": {
            "_model_module": "@jupyter-widgets/controls",
            "_model_module_version": "1.5.0",
            "_model_name": "ProgressStyleModel",
            "_view_count": null,
            "_view_module": "@jupyter-widgets/base",
            "_view_module_version": "1.2.0",
            "_view_name": "StyleView",
            "bar_color": null,
            "description_width": ""
          }
        },
        "6f60999470a447b79c2df28dc886473d": {
          "model_module": "@jupyter-widgets/base",
          "model_name": "LayoutModel",
          "model_module_version": "1.2.0",
          "state": {
            "_model_module": "@jupyter-widgets/base",
            "_model_module_version": "1.2.0",
            "_model_name": "LayoutModel",
            "_view_count": null,
            "_view_module": "@jupyter-widgets/base",
            "_view_module_version": "1.2.0",
            "_view_name": "LayoutView",
            "align_content": null,
            "align_items": null,
            "align_self": null,
            "border": null,
            "bottom": null,
            "display": null,
            "flex": null,
            "flex_flow": null,
            "grid_area": null,
            "grid_auto_columns": null,
            "grid_auto_flow": null,
            "grid_auto_rows": null,
            "grid_column": null,
            "grid_gap": null,
            "grid_row": null,
            "grid_template_areas": null,
            "grid_template_columns": null,
            "grid_template_rows": null,
            "height": null,
            "justify_content": null,
            "justify_items": null,
            "left": null,
            "margin": null,
            "max_height": null,
            "max_width": null,
            "min_height": null,
            "min_width": null,
            "object_fit": null,
            "object_position": null,
            "order": null,
            "overflow": null,
            "overflow_x": null,
            "overflow_y": null,
            "padding": null,
            "right": null,
            "top": null,
            "visibility": null,
            "width": null
          }
        },
        "9b24a3f13d5f4d1e9230f4d50434a299": {
          "model_module": "@jupyter-widgets/controls",
          "model_name": "DescriptionStyleModel",
          "model_module_version": "1.5.0",
          "state": {
            "_model_module": "@jupyter-widgets/controls",
            "_model_module_version": "1.5.0",
            "_model_name": "DescriptionStyleModel",
            "_view_count": null,
            "_view_module": "@jupyter-widgets/base",
            "_view_module_version": "1.2.0",
            "_view_name": "StyleView",
            "description_width": ""
          }
        },
        "06943e92a5844d1ba367ee10ceb15abd": {
          "model_module": "@jupyter-widgets/controls",
          "model_name": "HBoxModel",
          "model_module_version": "1.5.0",
          "state": {
            "_dom_classes": [],
            "_model_module": "@jupyter-widgets/controls",
            "_model_module_version": "1.5.0",
            "_model_name": "HBoxModel",
            "_view_count": null,
            "_view_module": "@jupyter-widgets/controls",
            "_view_module_version": "1.5.0",
            "_view_name": "HBoxView",
            "box_style": "",
            "children": [
              "IPY_MODEL_cf298b0d480340e6b78093cd3b1d3136",
              "IPY_MODEL_4671cc6c3e164baba0651ab267ad0951",
              "IPY_MODEL_32d7473aa6354b5080ec927b17f559a6"
            ],
            "layout": "IPY_MODEL_62bbb07bf0444781b6b291638065c52d"
          }
        },
        "cf298b0d480340e6b78093cd3b1d3136": {
          "model_module": "@jupyter-widgets/controls",
          "model_name": "HTMLModel",
          "model_module_version": "1.5.0",
          "state": {
            "_dom_classes": [],
            "_model_module": "@jupyter-widgets/controls",
            "_model_module_version": "1.5.0",
            "_model_name": "HTMLModel",
            "_view_count": null,
            "_view_module": "@jupyter-widgets/controls",
            "_view_module_version": "1.5.0",
            "_view_name": "HTMLView",
            "description": "",
            "description_tooltip": null,
            "layout": "IPY_MODEL_6b796b169834476c8a0ae48c8aef743b",
            "placeholder": "​",
            "style": "IPY_MODEL_beca49a1e06841ff8072be7eb71edaa1",
            "value": "special_tokens_map.json: 100%"
          }
        },
        "4671cc6c3e164baba0651ab267ad0951": {
          "model_module": "@jupyter-widgets/controls",
          "model_name": "FloatProgressModel",
          "model_module_version": "1.5.0",
          "state": {
            "_dom_classes": [],
            "_model_module": "@jupyter-widgets/controls",
            "_model_module_version": "1.5.0",
            "_model_name": "FloatProgressModel",
            "_view_count": null,
            "_view_module": "@jupyter-widgets/controls",
            "_view_module_version": "1.5.0",
            "_view_name": "ProgressView",
            "bar_style": "success",
            "description": "",
            "description_tooltip": null,
            "layout": "IPY_MODEL_1b29aba6473b45959f07804a9cc84ff2",
            "max": 649,
            "min": 0,
            "orientation": "horizontal",
            "style": "IPY_MODEL_4be70ad26c1d4cc4872ea2a9fab920fa",
            "value": 649
          }
        },
        "32d7473aa6354b5080ec927b17f559a6": {
          "model_module": "@jupyter-widgets/controls",
          "model_name": "HTMLModel",
          "model_module_version": "1.5.0",
          "state": {
            "_dom_classes": [],
            "_model_module": "@jupyter-widgets/controls",
            "_model_module_version": "1.5.0",
            "_model_name": "HTMLModel",
            "_view_count": null,
            "_view_module": "@jupyter-widgets/controls",
            "_view_module_version": "1.5.0",
            "_view_name": "HTMLView",
            "description": "",
            "description_tooltip": null,
            "layout": "IPY_MODEL_7c892cb394f54346a93a5fc96b55cb30",
            "placeholder": "​",
            "style": "IPY_MODEL_90874348341549a4989a9b684845b395",
            "value": " 649/649 [00:00&lt;00:00, 25.5kB/s]"
          }
        },
        "62bbb07bf0444781b6b291638065c52d": {
          "model_module": "@jupyter-widgets/base",
          "model_name": "LayoutModel",
          "model_module_version": "1.2.0",
          "state": {
            "_model_module": "@jupyter-widgets/base",
            "_model_module_version": "1.2.0",
            "_model_name": "LayoutModel",
            "_view_count": null,
            "_view_module": "@jupyter-widgets/base",
            "_view_module_version": "1.2.0",
            "_view_name": "LayoutView",
            "align_content": null,
            "align_items": null,
            "align_self": null,
            "border": null,
            "bottom": null,
            "display": null,
            "flex": null,
            "flex_flow": null,
            "grid_area": null,
            "grid_auto_columns": null,
            "grid_auto_flow": null,
            "grid_auto_rows": null,
            "grid_column": null,
            "grid_gap": null,
            "grid_row": null,
            "grid_template_areas": null,
            "grid_template_columns": null,
            "grid_template_rows": null,
            "height": null,
            "justify_content": null,
            "justify_items": null,
            "left": null,
            "margin": null,
            "max_height": null,
            "max_width": null,
            "min_height": null,
            "min_width": null,
            "object_fit": null,
            "object_position": null,
            "order": null,
            "overflow": null,
            "overflow_x": null,
            "overflow_y": null,
            "padding": null,
            "right": null,
            "top": null,
            "visibility": null,
            "width": null
          }
        },
        "6b796b169834476c8a0ae48c8aef743b": {
          "model_module": "@jupyter-widgets/base",
          "model_name": "LayoutModel",
          "model_module_version": "1.2.0",
          "state": {
            "_model_module": "@jupyter-widgets/base",
            "_model_module_version": "1.2.0",
            "_model_name": "LayoutModel",
            "_view_count": null,
            "_view_module": "@jupyter-widgets/base",
            "_view_module_version": "1.2.0",
            "_view_name": "LayoutView",
            "align_content": null,
            "align_items": null,
            "align_self": null,
            "border": null,
            "bottom": null,
            "display": null,
            "flex": null,
            "flex_flow": null,
            "grid_area": null,
            "grid_auto_columns": null,
            "grid_auto_flow": null,
            "grid_auto_rows": null,
            "grid_column": null,
            "grid_gap": null,
            "grid_row": null,
            "grid_template_areas": null,
            "grid_template_columns": null,
            "grid_template_rows": null,
            "height": null,
            "justify_content": null,
            "justify_items": null,
            "left": null,
            "margin": null,
            "max_height": null,
            "max_width": null,
            "min_height": null,
            "min_width": null,
            "object_fit": null,
            "object_position": null,
            "order": null,
            "overflow": null,
            "overflow_x": null,
            "overflow_y": null,
            "padding": null,
            "right": null,
            "top": null,
            "visibility": null,
            "width": null
          }
        },
        "beca49a1e06841ff8072be7eb71edaa1": {
          "model_module": "@jupyter-widgets/controls",
          "model_name": "DescriptionStyleModel",
          "model_module_version": "1.5.0",
          "state": {
            "_model_module": "@jupyter-widgets/controls",
            "_model_module_version": "1.5.0",
            "_model_name": "DescriptionStyleModel",
            "_view_count": null,
            "_view_module": "@jupyter-widgets/base",
            "_view_module_version": "1.2.0",
            "_view_name": "StyleView",
            "description_width": ""
          }
        },
        "1b29aba6473b45959f07804a9cc84ff2": {
          "model_module": "@jupyter-widgets/base",
          "model_name": "LayoutModel",
          "model_module_version": "1.2.0",
          "state": {
            "_model_module": "@jupyter-widgets/base",
            "_model_module_version": "1.2.0",
            "_model_name": "LayoutModel",
            "_view_count": null,
            "_view_module": "@jupyter-widgets/base",
            "_view_module_version": "1.2.0",
            "_view_name": "LayoutView",
            "align_content": null,
            "align_items": null,
            "align_self": null,
            "border": null,
            "bottom": null,
            "display": null,
            "flex": null,
            "flex_flow": null,
            "grid_area": null,
            "grid_auto_columns": null,
            "grid_auto_flow": null,
            "grid_auto_rows": null,
            "grid_column": null,
            "grid_gap": null,
            "grid_row": null,
            "grid_template_areas": null,
            "grid_template_columns": null,
            "grid_template_rows": null,
            "height": null,
            "justify_content": null,
            "justify_items": null,
            "left": null,
            "margin": null,
            "max_height": null,
            "max_width": null,
            "min_height": null,
            "min_width": null,
            "object_fit": null,
            "object_position": null,
            "order": null,
            "overflow": null,
            "overflow_x": null,
            "overflow_y": null,
            "padding": null,
            "right": null,
            "top": null,
            "visibility": null,
            "width": null
          }
        },
        "4be70ad26c1d4cc4872ea2a9fab920fa": {
          "model_module": "@jupyter-widgets/controls",
          "model_name": "ProgressStyleModel",
          "model_module_version": "1.5.0",
          "state": {
            "_model_module": "@jupyter-widgets/controls",
            "_model_module_version": "1.5.0",
            "_model_name": "ProgressStyleModel",
            "_view_count": null,
            "_view_module": "@jupyter-widgets/base",
            "_view_module_version": "1.2.0",
            "_view_name": "StyleView",
            "bar_color": null,
            "description_width": ""
          }
        },
        "7c892cb394f54346a93a5fc96b55cb30": {
          "model_module": "@jupyter-widgets/base",
          "model_name": "LayoutModel",
          "model_module_version": "1.2.0",
          "state": {
            "_model_module": "@jupyter-widgets/base",
            "_model_module_version": "1.2.0",
            "_model_name": "LayoutModel",
            "_view_count": null,
            "_view_module": "@jupyter-widgets/base",
            "_view_module_version": "1.2.0",
            "_view_name": "LayoutView",
            "align_content": null,
            "align_items": null,
            "align_self": null,
            "border": null,
            "bottom": null,
            "display": null,
            "flex": null,
            "flex_flow": null,
            "grid_area": null,
            "grid_auto_columns": null,
            "grid_auto_flow": null,
            "grid_auto_rows": null,
            "grid_column": null,
            "grid_gap": null,
            "grid_row": null,
            "grid_template_areas": null,
            "grid_template_columns": null,
            "grid_template_rows": null,
            "height": null,
            "justify_content": null,
            "justify_items": null,
            "left": null,
            "margin": null,
            "max_height": null,
            "max_width": null,
            "min_height": null,
            "min_width": null,
            "object_fit": null,
            "object_position": null,
            "order": null,
            "overflow": null,
            "overflow_x": null,
            "overflow_y": null,
            "padding": null,
            "right": null,
            "top": null,
            "visibility": null,
            "width": null
          }
        },
        "90874348341549a4989a9b684845b395": {
=======
        "50b3769b3dd84a61a208e066a797eb21": {
>>>>>>> 3ad88153a83e156acf1cc19a810547079df4f36e
          "model_module": "@jupyter-widgets/controls",
          "model_name": "DescriptionStyleModel",
          "model_module_version": "1.5.0",
          "state": {
            "_model_module": "@jupyter-widgets/controls",
            "_model_module_version": "1.5.0",
            "_model_name": "DescriptionStyleModel",
            "_view_count": null,
            "_view_module": "@jupyter-widgets/base",
            "_view_module_version": "1.2.0",
            "_view_name": "StyleView",
            "description_width": ""
          }
        }
      }
    }
  },
  "cells": [
    {
      "cell_type": "markdown",
      "metadata": {
<<<<<<< HEAD
        "id": "view-in-github"
      },
      "source": [
        "<a href=\"https://colab.research.google.com/github/MaryamMortazaviSefat/Bank-project/blob/master/practice_00.ipynb\" target=\"_parent\"><img src=\"https://colab.research.google.com/assets/colab-badge.svg\" alt=\"Open In Colab\"/></a>"
=======
        "id": "view-in-github",
        "colab_type": "text"
      },
      "source": [
        "<a href=\"https://colab.research.google.com/github/MaryamMortazaviSefat/LLM_course-practice/blob/main/practice_00.ipynb\" target=\"_parent\"><img src=\"https://colab.research.google.com/assets/colab-badge.svg\" alt=\"Open In Colab\"/></a>"
>>>>>>> 3ad88153a83e156acf1cc19a810547079df4f36e
      ]
    },
    {
      "cell_type": "code",
<<<<<<< HEAD
      "execution_count": 1,
=======
      "execution_count": null,
>>>>>>> 3ad88153a83e156acf1cc19a810547079df4f36e
      "metadata": {
        "colab": {
          "base_uri": "https://localhost:8080/"
        },
        "id": "wkmoSVUua4rb",
<<<<<<< HEAD
        "outputId": "4ddab102-4364-4b79-d803-00ff13bd856d"
=======
        "outputId": "350aa9e1-d67c-438f-c5f8-1a5a380a6f49"
>>>>>>> 3ad88153a83e156acf1cc19a810547079df4f36e
      },
      "outputs": [
        {
          "output_type": "stream",
          "name": "stdout",
          "text": [
            "Requirement already satisfied: datasets in /usr/local/lib/python3.12/dist-packages (4.0.0)\n",
            "Requirement already satisfied: filelock in /usr/local/lib/python3.12/dist-packages (from datasets) (3.19.1)\n",
            "Requirement already satisfied: numpy>=1.17 in /usr/local/lib/python3.12/dist-packages (from datasets) (2.0.2)\n",
            "Requirement already satisfied: pyarrow>=15.0.0 in /usr/local/lib/python3.12/dist-packages (from datasets) (18.1.0)\n",
            "Requirement already satisfied: dill<0.3.9,>=0.3.0 in /usr/local/lib/python3.12/dist-packages (from datasets) (0.3.8)\n",
            "Requirement already satisfied: pandas in /usr/local/lib/python3.12/dist-packages (from datasets) (2.2.2)\n",
            "Requirement already satisfied: requests>=2.32.2 in /usr/local/lib/python3.12/dist-packages (from datasets) (2.32.4)\n",
            "Requirement already satisfied: tqdm>=4.66.3 in /usr/local/lib/python3.12/dist-packages (from datasets) (4.67.1)\n",
            "Requirement already satisfied: xxhash in /usr/local/lib/python3.12/dist-packages (from datasets) (3.5.0)\n",
            "Requirement already satisfied: multiprocess<0.70.17 in /usr/local/lib/python3.12/dist-packages (from datasets) (0.70.16)\n",
            "Requirement already satisfied: fsspec<=2025.3.0,>=2023.1.0 in /usr/local/lib/python3.12/dist-packages (from fsspec[http]<=2025.3.0,>=2023.1.0->datasets) (2025.3.0)\n",
            "Requirement already satisfied: huggingface-hub>=0.24.0 in /usr/local/lib/python3.12/dist-packages (from datasets) (0.35.0)\n",
            "Requirement already satisfied: packaging in /usr/local/lib/python3.12/dist-packages (from datasets) (25.0)\n",
            "Requirement already satisfied: pyyaml>=5.1 in /usr/local/lib/python3.12/dist-packages (from datasets) (6.0.2)\n",
            "Requirement already satisfied: aiohttp!=4.0.0a0,!=4.0.0a1 in /usr/local/lib/python3.12/dist-packages (from fsspec[http]<=2025.3.0,>=2023.1.0->datasets) (3.12.15)\n",
            "Requirement already satisfied: typing-extensions>=3.7.4.3 in /usr/local/lib/python3.12/dist-packages (from huggingface-hub>=0.24.0->datasets) (4.15.0)\n",
            "Requirement already satisfied: hf-xet<2.0.0,>=1.1.3 in /usr/local/lib/python3.12/dist-packages (from huggingface-hub>=0.24.0->datasets) (1.1.10)\n",
            "Requirement already satisfied: charset_normalizer<4,>=2 in /usr/local/lib/python3.12/dist-packages (from requests>=2.32.2->datasets) (3.4.3)\n",
            "Requirement already satisfied: idna<4,>=2.5 in /usr/local/lib/python3.12/dist-packages (from requests>=2.32.2->datasets) (3.10)\n",
            "Requirement already satisfied: urllib3<3,>=1.21.1 in /usr/local/lib/python3.12/dist-packages (from requests>=2.32.2->datasets) (2.5.0)\n",
            "Requirement already satisfied: certifi>=2017.4.17 in /usr/local/lib/python3.12/dist-packages (from requests>=2.32.2->datasets) (2025.8.3)\n",
            "Requirement already satisfied: python-dateutil>=2.8.2 in /usr/local/lib/python3.12/dist-packages (from pandas->datasets) (2.9.0.post0)\n",
            "Requirement already satisfied: pytz>=2020.1 in /usr/local/lib/python3.12/dist-packages (from pandas->datasets) (2025.2)\n",
            "Requirement already satisfied: tzdata>=2022.7 in /usr/local/lib/python3.12/dist-packages (from pandas->datasets) (2025.2)\n",
            "Requirement already satisfied: aiohappyeyeballs>=2.5.0 in /usr/local/lib/python3.12/dist-packages (from aiohttp!=4.0.0a0,!=4.0.0a1->fsspec[http]<=2025.3.0,>=2023.1.0->datasets) (2.6.1)\n",
            "Requirement already satisfied: aiosignal>=1.4.0 in /usr/local/lib/python3.12/dist-packages (from aiohttp!=4.0.0a0,!=4.0.0a1->fsspec[http]<=2025.3.0,>=2023.1.0->datasets) (1.4.0)\n",
            "Requirement already satisfied: attrs>=17.3.0 in /usr/local/lib/python3.12/dist-packages (from aiohttp!=4.0.0a0,!=4.0.0a1->fsspec[http]<=2025.3.0,>=2023.1.0->datasets) (25.3.0)\n",
            "Requirement already satisfied: frozenlist>=1.1.1 in /usr/local/lib/python3.12/dist-packages (from aiohttp!=4.0.0a0,!=4.0.0a1->fsspec[http]<=2025.3.0,>=2023.1.0->datasets) (1.7.0)\n",
            "Requirement already satisfied: multidict<7.0,>=4.5 in /usr/local/lib/python3.12/dist-packages (from aiohttp!=4.0.0a0,!=4.0.0a1->fsspec[http]<=2025.3.0,>=2023.1.0->datasets) (6.6.4)\n",
            "Requirement already satisfied: propcache>=0.2.0 in /usr/local/lib/python3.12/dist-packages (from aiohttp!=4.0.0a0,!=4.0.0a1->fsspec[http]<=2025.3.0,>=2023.1.0->datasets) (0.3.2)\n",
            "Requirement already satisfied: yarl<2.0,>=1.17.0 in /usr/local/lib/python3.12/dist-packages (from aiohttp!=4.0.0a0,!=4.0.0a1->fsspec[http]<=2025.3.0,>=2023.1.0->datasets) (1.20.1)\n",
            "Requirement already satisfied: six>=1.5 in /usr/local/lib/python3.12/dist-packages (from python-dateutil>=2.8.2->pandas->datasets) (1.17.0)\n"
          ]
        }
      ],
      "source": [
        "!pip install datasets"
      ]
    },
    {
      "cell_type": "code",
      "source": [
        "from datasets import load_dataset\n",
        "from transformers import AutoModelForSeq2SeqLM\n",
        "from transformers import AutoTokenizer\n",
        "from transformers import GenerationConfig"
      ],
      "metadata": {
        "id": "SAf81LkHclVG"
      },
<<<<<<< HEAD
      "execution_count": 2,
=======
      "execution_count": null,
>>>>>>> 3ad88153a83e156acf1cc19a810547079df4f36e
      "outputs": []
    },
    {
      "cell_type": "code",
      "source": [
        "huggingface_dataset_name = \"knkarthick/dialogsum\"\n",
        "\n",
        "dataset = load_dataset(huggingface_dataset_name)"
      ],
      "metadata": {
        "colab": {
          "base_uri": "https://localhost:8080/",
<<<<<<< HEAD
          "height": 350,
          "referenced_widgets": [
            "e8797221b0c14252b228e74bc46ec30f",
            "ba0ad5f800d44a73aa4ee3c3c4da9e29",
            "9cf44bcfe74e48d38d8c243daa708979",
            "64b015b3349d4605a4587386ef3e2d6a",
            "8ed5e1a6a4fd4cca8e78d3320b8f0e66",
            "4bc1a4bf4d614b7f9b54f53c77b1efa4",
            "c1b000ccd8b342d39fd4f0be262fa440",
            "86a9393e913b4decaa7a2e3bf9d82e9e",
            "1cd87a2d65354d54b3fa6588842aec4c",
            "b71a35f325264cd5aed81b023d0e693f",
            "6feba21df7f5471aa708b28fe1789b0c",
            "e298d0f7d3eb436cb91d9d8918f999e3",
            "9c306779150d443e9de7cd1a3d45b597",
            "1febfd5cf3b64bb7b42a9bdb7ed94df9",
            "572613661eba45b8b4724b8ed5d16d94",
            "e7cbbf8f0ee9404bacb3faa89357fda0",
            "0427f4f3364143a0bea146fa84312fa8",
            "de756fc91c544eef8b54da5b8d91c2b4",
            "3dea019660fc4b649787a5e5ca532fb2",
            "ba8d49b76297440b83fbefd63a05933d",
            "5fe17cb8748140bf828d1d5da1f2cfa9",
            "8f38d8d8724742db9e55b19ba4c25727",
            "b73b10455d674fae8403863d132cb927",
            "ba43bfdfcb594d4e85c61598c8d0ce00",
            "544f6866f1c24df9a295f5d8b43dbbce",
            "4233112b599340fe9233f1837f1b7ac0",
            "69b0e7a51a914236b48e2afe174385a3",
            "19b590758a504306ade3d63c4ff322ed",
            "c804f3f9bda945f2bff25cde4891b246",
            "2356484633ca4c5186b5f5e9c8e1e540",
            "cdcb1b302b3d41dea82ddd624f76d7ff",
            "781ad7356ac646b8af199cc5cfb39b33",
            "2e934e98b9b04581b0a1f9646388b3fa",
            "a00b07f5443246288987d35f2b15bfb1",
            "2fcf503c81cd454185fc05e7f250bcc2",
            "49eae3ad44d548b9a7495d59da55f812",
            "a7a3f793619344ba88fbcb4982236d4e",
            "c83d913aceed49e0a531e902a70e0cf5",
            "9d6b3e43627c4e9b8d8a1e14f9fb5b10",
            "e2109512bc37453fa900f18227706c0a",
            "7be7b6a1229a4af186ce0ffab7aa2de9",
            "ca481db6e0394061a773e312dfba3f5f",
            "a6b6e580eb4e4024b3662120757eb43a",
            "c1167c9f3129467aaf8a99c0717b945e",
            "d6e632defd8243f48a6820cb2263179e",
            "7f6a028a78794d9fbce74125e868ebe6",
            "6400cfbab7074fe6b193b36a5b07fc2f",
            "929ef4afc672406dad152ec33c6dd715",
            "31e9d476623f4d45aba9176cabbbaee4",
            "ed0d07820d0545979d2b06ee3764be78",
            "4919048a6d4f4665aa01a87275ad9c14",
            "82cdad0a28824961aa4d8154c3ad3ae2",
            "592780ff82334c86b83f8d35b90ba284",
            "dbb4805ca12249a6b7bcffed16171ab2",
            "ff2cecfe305a4ba6b37c1d49ce1ecb21",
            "e177588a898f45568db3dcbb9aad0554",
            "e7b4a4c65c11445b9aed762adf17a34a",
            "83a9607af8474e0d83b04af5e166811d",
            "1f5b042086a44a4491a953292ff0e55d",
            "645e6abae7e04723b0552d687e35dc13",
            "50855d4c7a544701a1395e3113d68f8c",
            "6506f50d83cc410ea39c22e07d57db00",
            "a3ac51070a9c41b3b553779df49e382b",
            "80afcd98de5549c7be8c3260037600f2",
            "f2fba39a8237473db040e1dbdbc1d4e3",
            "b8384f45128c4ddfa06abe665d5ef634",
            "3034c9dbf7814c94854b4c0ddf527ea4",
            "d5aa66319ee64852b80af7a6fe5a5cda",
            "a50a7b47da5f4feab3f0d809098a7206",
            "7369a1490da240879ba2cb1d566e57e9",
            "6d9e1e60326846b7bab82272f4876c7b",
            "8f54c65fd1df40999c2820dee0f0047e",
            "4e14b2dbacc948abb95dbd79c8a5d860",
            "7312c6edb8ad47ada79f38d76317c61d",
            "80eb0217189d49ebb3d491d23bafabea",
            "7850529bf5564457aa95027b8d86fcbd",
            "013f1541a8c747a99d4751f987de2170"
          ]
        },
        "id": "20RU61UOdrF3",
        "outputId": "a46c2f46-90b6-40ce-bc93-4e7f1078e048"
      },
      "execution_count": 3,
      "outputs": [
        {
          "output_type": "stream",
          "name": "stderr",
          "text": [
            "/usr/local/lib/python3.12/dist-packages/huggingface_hub/utils/_auth.py:94: UserWarning: \n",
            "The secret `HF_TOKEN` does not exist in your Colab secrets.\n",
            "To authenticate with the Hugging Face Hub, create a token in your settings tab (https://huggingface.co/settings/tokens), set it as secret in your Google Colab and restart your session.\n",
            "You will be able to reuse this secret in all of your notebooks.\n",
            "Please note that authentication is recommended but still optional to access public models or datasets.\n",
            "  warnings.warn(\n"
          ]
        },
        {
=======
          "height": 241,
          "referenced_widgets": [
            "82832ab13809476392b6f4864823ca3e",
            "26d6a0f11027495295da60d8904cdeaf",
            "1121762080924f4393092eef13159e37",
            "6543207231e7420abb9fd3b667876b35",
            "16bc7c6e3a154ceca08336511e54dd57",
            "2336d3c63f324e90aef666aaa5f59e53",
            "5a868ce2258248adb1d50bc6cbb5ea7c",
            "27cd7a9c16d94ca29eb83550c5ada5e3",
            "43678a726f1f493e8aba4899bb2bebc7",
            "4bd42edce60a48738bde12066f82ffb0",
            "cbfb611a98dc4f1abf1f7397e7ebabf7",
            "dd543e4b4f254f4787a9dd8524c49599",
            "19fcdec90167405f863db9734919297d",
            "60e0473363374529baed5ea961d125c1",
            "fd9d9ffc61924fde8fc2f67661b6e3f5",
            "edd88256e9a44b738bd95d516cb42f29",
            "2c5c9d70fa834fc29fa9b3705a2918bd",
            "d7d21e0a77284b0a9dc4e10d00d9e5d2",
            "e7e87f161b7f4d078f58edad38440fa2",
            "3a5d68022661491bb0e2f868fee77726",
            "fdb59c6c3d7e44118bf61685c93cd92c",
            "4558035c00344504971bdcbe4753f857",
            "16716f91cb524ff6b6a549afae879209",
            "93d1eb10c0de4644a8165ad76156d1d9",
            "f041aeaf970c4ae29b5d72d2db4255d5",
            "24a0cad26c414d6391c6573809fc6ade",
            "da9c90f6351448ea946d9e5701c47206",
            "74d958bb7ac64e0a8dce7c1484cee4e0",
            "0034fed270454df1bab9357bf5e5543b",
            "52a97824534d4d149cd58e1eb3fb2057",
            "f9230ade865049f290011fd0645b5d48",
            "e716b3acaa8f48c3b64b3b78ea348ada",
            "9778cd131d8f4c1bacdc1be5a1d94766",
            "86a77cf7fa1f46c8a3ba428a8c537314",
            "5348068d4ff943888feedd8c42a1b9cf",
            "40e6d2cddd4e4b6ca505d94cdce8cc5c",
            "6581880f346645889c89ea88722aafbb",
            "29dd58ff8265442c8e3d9088d160768e",
            "0b8c5e8ac3794aa5ab94eabcf461ba7f",
            "965781ce918941e292ea18633521f709",
            "aec11153609949aa9686a126530470fc",
            "01925c09592044b29750af0f76d256dc",
            "a492d1614d284cfebb4dad9a8f3c6f3a",
            "3c7afc487ed4449c93524d6a0702440b",
            "1b061a6bc5234191a5c3b869c4404998",
            "c572526c24194731a734073b2e988d4c",
            "0e755cd70f374f13b28312ca08f70b55",
            "3b7ee206b9ca4e8db1c839e2c41f510e",
            "4e8ef708158144f89c6a80422477e09d",
            "fea004006cb741f2a55d50239dde1bb3",
            "e09ec9f2793a4c8ca7d38f41f02ba826",
            "338ed71cfafb4f2abaeba8e5f1e70413",
            "8026b4ceebd34cecbba572f2c970c202",
            "f476f054a111478e8dde9e781fe6d5ab",
            "bfe080b591614ba68d5a4332cdcd3b8b",
            "ecef491067ba4bb0ad6e8c23f40ddf02",
            "ae5d53f149e449d49176ce3a56c3ada3",
            "2b95dabaae2c4ceba67937dd5d1757bb",
            "3db79d97d7e34eeea966fd18c02667b1",
            "7fdaf9b18fdb4c95b5c671d5dfbd87d3",
            "7b3f80be95524ce3983d57197121f65e",
            "b6f6b251aea54527bd2fc5a54876b196",
            "e264f012712945c5834d9ccaf46a44b1",
            "8362079b71aa457f937521168b8fa4d9",
            "88dd244c0ea14ff9a9d309974c42cbfe",
            "eba94e7768dd4e558568e4bbee97079f",
            "0653cc474e934ddc912569a3be44aafe",
            "9ae0feab18c345eab55314460c9b1092",
            "5c4a48f2060945e6902f62b375a9637a",
            "b107f559e09f4ca2b772efff624df859",
            "b19752f49224410d8e946e1b19830593",
            "60ae482a12e94361b32aa4fe104c4d19",
            "ff42160d9264454da03739ffc91320f6",
            "2daba831223840d69646745a3b0968a2",
            "e69fb956bafc4fba9b22270f540b9fc6",
            "4587275d4f004d1cb684435697e9e17b",
            "94b0359e4d894a849d47fe2ce26ec142"
          ]
        },
        "id": "20RU61UOdrF3",
        "outputId": "28e9e63a-79a2-44ed-bbe7-fef3874d61ee"
      },
      "execution_count": null,
      "outputs": [
        {
>>>>>>> 3ad88153a83e156acf1cc19a810547079df4f36e
          "output_type": "display_data",
          "data": {
            "text/plain": [
              "README.md: 0.00B [00:00, ?B/s]"
            ],
            "application/vnd.jupyter.widget-view+json": {
              "version_major": 2,
              "version_minor": 0,
<<<<<<< HEAD
              "model_id": "e8797221b0c14252b228e74bc46ec30f"
=======
              "model_id": "82832ab13809476392b6f4864823ca3e"
>>>>>>> 3ad88153a83e156acf1cc19a810547079df4f36e
            }
          },
          "metadata": {}
        },
        {
          "output_type": "display_data",
          "data": {
            "text/plain": [
              "train.csv:   0%|          | 0.00/11.3M [00:00<?, ?B/s]"
            ],
            "application/vnd.jupyter.widget-view+json": {
              "version_major": 2,
              "version_minor": 0,
<<<<<<< HEAD
              "model_id": "e298d0f7d3eb436cb91d9d8918f999e3"
=======
              "model_id": "dd543e4b4f254f4787a9dd8524c49599"
>>>>>>> 3ad88153a83e156acf1cc19a810547079df4f36e
            }
          },
          "metadata": {}
        },
        {
          "output_type": "display_data",
          "data": {
            "text/plain": [
              "validation.csv: 0.00B [00:00, ?B/s]"
            ],
            "application/vnd.jupyter.widget-view+json": {
              "version_major": 2,
              "version_minor": 0,
<<<<<<< HEAD
              "model_id": "b73b10455d674fae8403863d132cb927"
=======
              "model_id": "16716f91cb524ff6b6a549afae879209"
>>>>>>> 3ad88153a83e156acf1cc19a810547079df4f36e
            }
          },
          "metadata": {}
        },
        {
          "output_type": "display_data",
          "data": {
            "text/plain": [
              "test.csv: 0.00B [00:00, ?B/s]"
            ],
            "application/vnd.jupyter.widget-view+json": {
              "version_major": 2,
              "version_minor": 0,
<<<<<<< HEAD
              "model_id": "a00b07f5443246288987d35f2b15bfb1"
=======
              "model_id": "86a77cf7fa1f46c8a3ba428a8c537314"
>>>>>>> 3ad88153a83e156acf1cc19a810547079df4f36e
            }
          },
          "metadata": {}
        },
        {
          "output_type": "display_data",
          "data": {
            "text/plain": [
              "Generating train split:   0%|          | 0/12460 [00:00<?, ? examples/s]"
            ],
            "application/vnd.jupyter.widget-view+json": {
              "version_major": 2,
              "version_minor": 0,
<<<<<<< HEAD
              "model_id": "d6e632defd8243f48a6820cb2263179e"
=======
              "model_id": "1b061a6bc5234191a5c3b869c4404998"
>>>>>>> 3ad88153a83e156acf1cc19a810547079df4f36e
            }
          },
          "metadata": {}
        },
        {
          "output_type": "display_data",
          "data": {
            "text/plain": [
              "Generating validation split:   0%|          | 0/500 [00:00<?, ? examples/s]"
            ],
            "application/vnd.jupyter.widget-view+json": {
              "version_major": 2,
              "version_minor": 0,
<<<<<<< HEAD
              "model_id": "e177588a898f45568db3dcbb9aad0554"
=======
              "model_id": "ecef491067ba4bb0ad6e8c23f40ddf02"
>>>>>>> 3ad88153a83e156acf1cc19a810547079df4f36e
            }
          },
          "metadata": {}
        },
        {
          "output_type": "display_data",
          "data": {
            "text/plain": [
              "Generating test split:   0%|          | 0/1500 [00:00<?, ? examples/s]"
            ],
            "application/vnd.jupyter.widget-view+json": {
              "version_major": 2,
              "version_minor": 0,
<<<<<<< HEAD
              "model_id": "3034c9dbf7814c94854b4c0ddf527ea4"
=======
              "model_id": "0653cc474e934ddc912569a3be44aafe"
>>>>>>> 3ad88153a83e156acf1cc19a810547079df4f36e
            }
          },
          "metadata": {}
        }
      ]
    },
    {
      "cell_type": "code",
      "source": [
        "dataset"
      ],
      "metadata": {
        "colab": {
          "base_uri": "https://localhost:8080/"
        },
        "id": "llZwxFqof3-c",
<<<<<<< HEAD
        "outputId": "79d62739-b74c-4f4f-dc81-2405337fe898"
      },
      "execution_count": 4,
=======
        "outputId": "7210ee36-3e69-4d77-e294-62495623b63a"
      },
      "execution_count": null,
>>>>>>> 3ad88153a83e156acf1cc19a810547079df4f36e
      "outputs": [
        {
          "output_type": "execute_result",
          "data": {
            "text/plain": [
              "DatasetDict({\n",
              "    train: Dataset({\n",
              "        features: ['id', 'dialogue', 'summary', 'topic'],\n",
              "        num_rows: 12460\n",
              "    })\n",
              "    validation: Dataset({\n",
              "        features: ['id', 'dialogue', 'summary', 'topic'],\n",
              "        num_rows: 500\n",
              "    })\n",
              "    test: Dataset({\n",
              "        features: ['id', 'dialogue', 'summary', 'topic'],\n",
              "        num_rows: 1500\n",
              "    })\n",
              "})"
            ]
          },
          "metadata": {},
          "execution_count": 4
        }
      ]
    },
    {
      "cell_type": "code",
      "source": [
        "print(dataset['train'][5]['dialogue'])"
      ],
      "metadata": {
        "colab": {
          "base_uri": "https://localhost:8080/"
        },
        "id": "Bw2jDmQahI9H",
<<<<<<< HEAD
        "outputId": "b2a4b9d8-7486-4425-f319-8eb23e0fe42b"
      },
      "execution_count": 5,
=======
        "outputId": "540818a8-eb52-4e35-8fac-a9f103213c7a"
      },
      "execution_count": null,
>>>>>>> 3ad88153a83e156acf1cc19a810547079df4f36e
      "outputs": [
        {
          "output_type": "stream",
          "name": "stdout",
          "text": [
            "#Person1#: Happy birthday, Aims!\n",
            "#Person2#: Thank you, Lisa.\n",
            "#Person1#: Here is a present for you. I hope you like it.\n",
            "#Person2#: Oh, great! I love it! You know I've been expecting this for a long time.\n",
            "#Person1#: I'm very glad to hear that.\n",
            "#Person2#: Come here ; let me introduce some friends to you.\n"
          ]
        }
      ]
    },
    {
      "cell_type": "code",
      "source": [
        "print(dataset['train'][5]['summary'])"
      ],
      "metadata": {
        "colab": {
          "base_uri": "https://localhost:8080/"
        },
        "id": "pgmwm6y_gkFl",
<<<<<<< HEAD
        "outputId": "b802dc1c-7f42-4737-ab7b-9b7b1cec9a18"
      },
      "execution_count": 6,
=======
        "outputId": "afdf6ff8-a20f-411e-fb41-1313434f5c5b"
      },
      "execution_count": null,
>>>>>>> 3ad88153a83e156acf1cc19a810547079df4f36e
      "outputs": [
        {
          "output_type": "stream",
          "name": "stdout",
          "text": [
            "Lisa gives Aims a birthday present and Aims loves it.\n"
          ]
        }
      ]
    },
    {
      "cell_type": "code",
      "source": [
        "model_name='google/flan-t5-base'\n",
        "model=AutoModelForSeq2SeqLM.from_pretrained(model_name)"
      ],
      "metadata": {
        "colab": {
          "base_uri": "https://localhost:8080/",
          "height": 113,
          "referenced_widgets": [
<<<<<<< HEAD
            "dbeb960cf53a40049b9140b243d5be6b",
            "066bb2f1e1ac4c7eb35b27ebcbfa9321",
            "43623a1399744c6489c379d8b3f8b102",
            "fb7239d4cfa64c45b4dae9f85fedce07",
            "9f67cda90b7b4ec2b162c9023aef413f",
            "181182baf213492499115d4d3adef3cc",
            "a3acd69a5c6847afbd6e00e6e9884e46",
            "80ea2a6d2f574b609b094f31ac803ec1",
            "e07ddeb428074f6db72684dd60e33b15",
            "1d337f0f807a45f18410bc2e214c2236",
            "4085fce8224645b1b9aa4d7934978767",
            "d2fd9a3ccb634171b92e73b583893eb2",
            "bfd1c4da056c4159b7f0ff0acb6ab34e",
            "5e1aa5a0615e46828495705b23ab38cf",
            "1d8a8e8ec1fd47bbab649b759d922ddf",
            "b96fc537e08d40aba25ed5ef77001b52",
            "ed0ebbe68fee49e2989ce5507a815346",
            "1051770684fd49ffa684b1408b908649",
            "f1039edb15c6419d95ae57bfd0706ea5",
            "d003c2e7c20d46b5bee468920db334e2",
            "4e10ab98778643fca00d985c196c14fc",
            "f0fda6e2745a4ad08dffd448c58d2624",
            "e3c3f2f523f245cfbef848c5a1cce0c3",
            "1e9a339d76c24ea1b1728c1ee191bfe8",
            "4ce57618766e4fac9246211faca0ce73",
            "1a4152e3e36a4ca8a794fbd2d6385721",
            "e0b9d542ae2e4231b3fa0255894c99e7",
            "b6a0fcb1212645e393f1fe4770c05922",
            "b174fe5308b94cd29097ecfe69154e5e",
            "4a8c3cb2233640ddaac85d8760c3ab85",
            "14a1315bbb254e5384669277163904f0",
            "ab9b22a8223540eba4c295787534bd88",
            "0550270e66fb4ff6bb26694cfb160c54"
          ]
        },
        "id": "XKyr5vfMhopA",
        "outputId": "f7c32191-3566-4cd8-edbe-d8e42564b550"
      },
      "execution_count": 7,
=======
            "a19a7eae12724910b8e38eb287f3c963",
            "baa65b17189f487db3b135511ff0bd0b",
            "ed0cfe605f614f64a029a967e6fb667b",
            "779196fb6f674f8097c36444dd10bfc7",
            "665856c19bd24afdb1d7dab9d999b6cb",
            "dd026bed349446caa3736c77440ff48f",
            "61808355788b4411aeb481fb04f676ea",
            "c843320bad14410bb0d63b77e910de26",
            "3ca03f15d7e94996aa0feeacf44c9aab",
            "b2e629050b7e4334b51e912b88525548",
            "7f2f5d5076634992884be932eb442ae0",
            "dd24fc714bb34127a51e041395037d7c",
            "2222306b90f04b4a9a97b78bc5dfc3ed",
            "ab9b0c42a082433b90ff34d53fb0568c",
            "e76390db42e448989400c3ba098643a6",
            "af8ac97e42f54737915408e80bb02dea",
            "62aea10466c54417994df1b352ea5aa9",
            "b6107b7485904700a8d03d9e7c75a703",
            "930ec39d53474c08b92b86f3581aaf17",
            "18b4eff241214ef88f890aaba8dcb3a6",
            "ebca3ed6851a40dea16eec430ea7eaea",
            "6e7e24dce2d34c77a244942052ca0bf2",
            "62a36ecc48d1446e91928d94a5fb6e2c",
            "4ba0ed7858564fe78a618878ce97417b",
            "59ad32288a154a71b12f3cae61ae8f98",
            "223fb2231bf34643a86e0d4a9c80d7ed",
            "036fa416939d46b0b5f2e05b4def3316",
            "6a2d3125e535474cb1e82905bbd51a34",
            "c9c66c5aa20c4c3c8787fde27ae9a46b",
            "540da75a428d4bc29fc86296e8844697",
            "3feff3a0d9c245a7af213d8da098c4cd",
            "88d952ae48c64cb9a33cfaf0f563db85",
            "50b3769b3dd84a61a208e066a797eb21"
          ]
        },
        "id": "XKyr5vfMhopA",
        "outputId": "06887da5-e70c-4c55-ccc5-67b8e308ca8a"
      },
      "execution_count": null,
>>>>>>> 3ad88153a83e156acf1cc19a810547079df4f36e
      "outputs": [
        {
          "output_type": "display_data",
          "data": {
            "text/plain": [
              "config.json: 0.00B [00:00, ?B/s]"
            ],
            "application/vnd.jupyter.widget-view+json": {
              "version_major": 2,
              "version_minor": 0,
<<<<<<< HEAD
              "model_id": "dbeb960cf53a40049b9140b243d5be6b"
=======
              "model_id": "a19a7eae12724910b8e38eb287f3c963"
>>>>>>> 3ad88153a83e156acf1cc19a810547079df4f36e
            }
          },
          "metadata": {}
        },
        {
          "output_type": "display_data",
          "data": {
            "text/plain": [
              "model.safetensors:   0%|          | 0.00/990M [00:00<?, ?B/s]"
            ],
            "application/vnd.jupyter.widget-view+json": {
              "version_major": 2,
              "version_minor": 0,
<<<<<<< HEAD
              "model_id": "d2fd9a3ccb634171b92e73b583893eb2"
=======
              "model_id": "dd24fc714bb34127a51e041395037d7c"
>>>>>>> 3ad88153a83e156acf1cc19a810547079df4f36e
            }
          },
          "metadata": {}
        },
        {
          "output_type": "display_data",
          "data": {
            "text/plain": [
              "generation_config.json:   0%|          | 0.00/147 [00:00<?, ?B/s]"
            ],
            "application/vnd.jupyter.widget-view+json": {
              "version_major": 2,
              "version_minor": 0,
<<<<<<< HEAD
              "model_id": "e3c3f2f523f245cfbef848c5a1cce0c3"
=======
              "model_id": "62a36ecc48d1446e91928d94a5fb6e2c"
>>>>>>> 3ad88153a83e156acf1cc19a810547079df4f36e
            }
          },
          "metadata": {}
        }
      ]
    },
    {
      "cell_type": "code",
<<<<<<< HEAD
      "source": [
        "tokenizer = AutoTokenizer.from_pretrained(model_name, use_fast=True)"
      ],
      "metadata": {
        "id": "1Ig-HmYAii9v",
        "colab": {
          "base_uri": "https://localhost:8080/",
          "height": 145,
          "referenced_widgets": [
            "cc81093f956b41fabdf874a5065a9457",
            "ac78e9641c124f86ba4c1787aa177b3d",
            "5b638070536f46a1be2b6d048fc4b75b",
            "222d9257790844dcb7ac414b9ad76e76",
            "85a1b30a95f447749c49eaacf59e5220",
            "a1da3effb74c437e920f994e5b7f8d19",
            "b99a1cf9209747ae8a5fa477465c07e4",
            "185aa5e2b49c48d9b75e80f496ca3fa6",
            "5b633a7780e945c389ce29310a66b188",
            "a864a5ec66b04c95ae4fcf65832cba9f",
            "f129c27a84c34ead9f3d49c99c5c581f",
            "2258d0c0ca2246a285c562fea2bd4102",
            "54fe8974b7ea49db912615a9fa52650f",
            "c0e6e7ac3cf24eedbaab3d223d58d3e9",
            "0f35f5856ebe46c7a759027966f4ef18",
            "e69be949f54f4bc9b244fc7619cf79f2",
            "416a7a18db784ea3b5782bf83cc48295",
            "56f9329f19fe4ee794a8d90e84b63740",
            "dc57ce651e3e47a2ace09a5401ebb6d8",
            "6882f514c83d4fd3ad3577c2e41a74bf",
            "3a949d552f354cad9e60f873e94c868c",
            "b4427a0a218a430d9dd689dbb25db7d4",
            "0b3e1c3d4f164e19a85657d0035064bc",
            "12d1eca0c5324610be8124d9731641dd",
            "4c1fb1439c55422796e1ada91f2e5f50",
            "85c8058eedf1437b8d964d6186b233f2",
            "94b88a277efe4ed0bfa4e4bfda25ebbc",
            "349fd6b22ee74bd683e2d360436d62d0",
            "78f57541833c4aa29d7fb8b471790855",
            "1b8019c88c564dbdaa954c23518142d8",
            "70d365e1db30435284c06220e709e370",
            "c50b5ac31f4948c28491fc6aac00ce81",
            "ca2a7e8da6f84d3fa7f5df344124f088",
            "8639f3c659b640d2b03fda416f2c5895",
            "d30829e44ae9454898b7d7a077583d69",
            "8e9d4c16249048dcaec85d22ea2052b1",
            "c3b87a38224341649f935a7cc1f9fd9d",
            "6ab0ae2dc55b464b965e0366c826617c",
            "d4f6602b50024de29292c96e570ad549",
            "fa9fb4d2404a4645bb2ffb87ad6dc502",
            "491ebb3e35bc4193b27b0bb0fb13b249",
            "42aa926c28794bf5ad4bcd3f389e7edf",
            "19e21d85df49493f83010d406c868c38",
            "d210a4eba2c74a5884c90571c9ef84a5"
          ]
        },
        "outputId": "9babfb9b-78d3-4701-cefd-dc1ce4a845b7"
      },
      "execution_count": 8,
      "outputs": [
        {
          "output_type": "display_data",
          "data": {
            "text/plain": [
              "tokenizer_config.json: 0.00B [00:00, ?B/s]"
            ],
            "application/vnd.jupyter.widget-view+json": {
              "version_major": 2,
              "version_minor": 0,
              "model_id": "cc81093f956b41fabdf874a5065a9457"
            }
          },
          "metadata": {}
        },
        {
          "output_type": "display_data",
          "data": {
            "text/plain": [
              "spiece.model:   0%|          | 0.00/792k [00:00<?, ?B/s]"
            ],
            "application/vnd.jupyter.widget-view+json": {
              "version_major": 2,
              "version_minor": 0,
              "model_id": "2258d0c0ca2246a285c562fea2bd4102"
            }
          },
          "metadata": {}
        },
        {
          "output_type": "display_data",
          "data": {
            "text/plain": [
              "tokenizer.json: 0.00B [00:00, ?B/s]"
            ],
            "application/vnd.jupyter.widget-view+json": {
              "version_major": 2,
              "version_minor": 0,
              "model_id": "0b3e1c3d4f164e19a85657d0035064bc"
            }
          },
          "metadata": {}
        },
        {
          "output_type": "display_data",
          "data": {
            "text/plain": [
              "special_tokens_map.json: 0.00B [00:00, ?B/s]"
            ],
            "application/vnd.jupyter.widget-view+json": {
              "version_major": 2,
              "version_minor": 0,
              "model_id": "8639f3c659b640d2b03fda416f2c5895"
            }
          },
          "metadata": {}
        }
      ]
    },
    {
      "cell_type": "code",
      "source": [
        "sentence = \"What time is it, Tom?\"\n",
        "\n",
        "sentence_encoded = tokenizer(sentence, return_tensors='pt')"
      ],
      "metadata": {
        "id": "LkJt116yjGVz"
      },
      "execution_count": 9,
      "outputs": []
    },
    {
      "cell_type": "code",
      "source": [
        "sentence_decoded = tokenizer.decode(\n",
        "        sentence_encoded[\"input_ids\"][0],\n",
        "        skip_special_tokens=True\n",
        "    )\n",
        "\n",
        "print('ENCODED SENTENCE:')\n",
        "print(sentence_encoded[\"input_ids\"][0])\n",
        "print('\\nDECODED SENTENCE:')\n",
        "print(sentence_decoded)"
      ],
      "metadata": {
        "colab": {
          "base_uri": "https://localhost:8080/"
        },
        "id": "29N7_BFLiu9E",
        "outputId": "cc0f0211-9eb1-403a-c40f-7a98e7cbd7a2"
      },
      "execution_count": 10,
      "outputs": [
        {
          "output_type": "stream",
          "name": "stdout",
          "text": [
            "ENCODED SENTENCE:\n",
            "tensor([ 363,   97,   19,   34,    6, 3059,   58,    1])\n",
            "\n",
            "DECODED SENTENCE:\n",
            "What time is it, Tom?\n"
          ]
        }
      ]
    },
    {
      "cell_type": "code",
      "source": [
        "model_name='facebook/mbart-large-50-many-to-many-mmt'\n",
        "\n",
        "model = AutoModelForSeq2SeqLM.from_pretrained(model_name)\n",
        "tokenizer = AutoTokenizer.from_pretrained(model_name, use_fast=True)\n",
        "tokenizer.tgt_lang = \"fa_IR\"  # زبان خرو جی: فارسی\n",
        "\n",
        "prompt = f\"\"\"\n",
        "Summarize the following Persian text in Persian:\n",
        "\n",
        "برای پخت قرمه سبزی پس از تهیه سبزی تازه، ابتدا باید سبزی ها را بشوریم و خرد کنیم، سبزی را با روغن سرخ کرده و در انتها به آن نمک و فلفل و زردچوبه اضافه کنیم. این سبزی ها را با آب و گوشت و لوبیا در قابلمه بریزیم و در نهایت 3 ساعت بپزیم.\n",
        "    \"\"\"\n",
        "model.config.forced_bos_token_id = tokenizer.lang_code_to_id[\"fa_IR\"]\n",
        "\n",
        "# Input constructed prompt instead of the dialogue.\n",
        "inputs = tokenizer(prompt, return_tensors='pt')\n",
        "output = tokenizer.decode(\n",
        "    model.generate(\n",
        "        inputs[\"input_ids\"],\n",
        "        max_new_tokens=50,\n",
        "    )[0],\n",
        "    skip_special_tokens=True\n",
        ")\n",
        "\n",
        "print(f'MODEL GENERATION - ZERO SHOT:\\n{output}\\n')"
      ],
      "metadata": {
        "colab": {
          "base_uri": "https://localhost:8080/",
          "height": 320,
          "referenced_widgets": [
            "835c442a5abd4f71ae164e3f3081c72b",
            "4035bd5321e647a998f9c77118738de2",
            "b393a6cfd8874f0297af8db4e6763f26",
            "1427a8335f2d42a2976c7b7d0aa4a89a",
            "d2d6349cd2154d98a7e881d6c636bec1",
            "a6c4e24a23ef40099732bb9f841cfcf2",
            "bf6e0615378c4386b6caa7399ea099b2",
            "bc0b40c8250c438a850e29696bb44879",
            "f4a1449a969d4f0bba00084596d2504d",
            "be716821b48743ea91d0455136f114ac",
            "9e8ac78efb654df7b540f83d511f07f7",
            "97ad64d858da4252a1f61da116f3967e",
            "25d2a4670cfb46e2bd4ff21f4be1c136",
            "d3030e6a352842e2ac461bf6503aeaf9",
            "bd14200261f048c3b27a91e05000df84",
            "5d48040c1dcb4b47b2d673490739da13",
            "e8f7190c877b41b890ca49abb7ee9497",
            "392308843e284a53a108f4ecfd1889ed",
            "79290b24ad5342d5bd8715c2dbff7d94",
            "df29057d020146a38be18f3321057fb5",
            "081a262274934e7484ef4d22c4b61d37",
            "c5e5f3ed5ce14154bdb5744600f5672c",
            "10e02731fc8e4c1f919c34edee11f989",
            "d7c14a8fe1c44b57881b1a41504580b8",
            "2bb39479dfc54be49d6434440aefc1a8",
            "5f4dc0a534e14324a8055dd97e4fe5f9",
            "02312c0527eb4549968ec9f863d7e0b5",
            "d6aba782400f4bf7b57ba856a0da393c",
            "5902fa45898b471a909206da4fd1edbf",
            "b7b38daf2d57476fbe613e14e4b626a7",
            "25aaac7c6d8842a293a2bef847764f62",
            "c6ba2d16df8c4244bb7132f828105192",
            "8bd962c82ec2476283086663e277c71c",
            "b7d760977f4d4f0f9024e2d27eb11644",
            "98ef69ea698940cab4c113da1b3ac78f",
            "9f7fd5270aeb4960beafea0dcf3950e4",
            "351fef23ec6048e7992e3cc9927b7bec",
            "7375f30d088e48e2807c2ff439617385",
            "23cdcb686ece4759b42a07da019088ec",
            "bea127b4c4fb4841b60f5708550e21de",
            "6822085b7aac446cbf8c7dc5b085d2a9",
            "92bd78388b654df6bdf7573266d1ece5",
            "6afb0408d92c4868a67a8f0150fde8c1",
            "5b059488650142b69320574578069136",
            "a20344aa9b614776bcf0c320e2b1ec13",
            "8f2e1e8ad04b400a998f4354b2408495",
            "a0bafd233a85427388bcbd8904ba1c95",
            "59983e99cbfe48199fed9edb991802c2",
            "7e49eef1e2c54afb816405381985bc28",
            "7c8638be746a43b69d00a22deb497c41",
            "c6af1d018594400ebf8d4c9fcd898ac0",
            "39d8798b28f94de7b806208a79d97118",
            "fbb5bef444e745578976ad9cfc57432b",
            "6f60999470a447b79c2df28dc886473d",
            "9b24a3f13d5f4d1e9230f4d50434a299",
            "06943e92a5844d1ba367ee10ceb15abd",
            "cf298b0d480340e6b78093cd3b1d3136",
            "4671cc6c3e164baba0651ab267ad0951",
            "32d7473aa6354b5080ec927b17f559a6",
            "62bbb07bf0444781b6b291638065c52d",
            "6b796b169834476c8a0ae48c8aef743b",
            "beca49a1e06841ff8072be7eb71edaa1",
            "1b29aba6473b45959f07804a9cc84ff2",
            "4be70ad26c1d4cc4872ea2a9fab920fa",
            "7c892cb394f54346a93a5fc96b55cb30",
            "90874348341549a4989a9b684845b395"
          ]
        },
        "id": "JHmXHTxGjnAl",
        "outputId": "cec66a59-1a0f-4be0-916d-85dadd3336ba"
      },
      "execution_count": 11,
      "outputs": [
        {
          "output_type": "display_data",
          "data": {
            "text/plain": [
              "config.json: 0.00B [00:00, ?B/s]"
            ],
            "application/vnd.jupyter.widget-view+json": {
              "version_major": 2,
              "version_minor": 0,
              "model_id": "835c442a5abd4f71ae164e3f3081c72b"
            }
          },
          "metadata": {}
        },
        {
          "output_type": "display_data",
          "data": {
            "text/plain": [
              "model.safetensors:   0%|          | 0.00/2.44G [00:00<?, ?B/s]"
            ],
            "application/vnd.jupyter.widget-view+json": {
              "version_major": 2,
              "version_minor": 0,
              "model_id": "97ad64d858da4252a1f61da116f3967e"
            }
          },
          "metadata": {}
        },
        {
          "output_type": "display_data",
          "data": {
            "text/plain": [
              "generation_config.json:   0%|          | 0.00/261 [00:00<?, ?B/s]"
            ],
            "application/vnd.jupyter.widget-view+json": {
              "version_major": 2,
              "version_minor": 0,
              "model_id": "10e02731fc8e4c1f919c34edee11f989"
            }
          },
          "metadata": {}
        },
        {
          "output_type": "display_data",
          "data": {
            "text/plain": [
              "tokenizer_config.json:   0%|          | 0.00/529 [00:00<?, ?B/s]"
            ],
            "application/vnd.jupyter.widget-view+json": {
              "version_major": 2,
              "version_minor": 0,
              "model_id": "b7d760977f4d4f0f9024e2d27eb11644"
            }
          },
          "metadata": {}
        },
        {
          "output_type": "display_data",
          "data": {
            "text/plain": [
              "sentencepiece.bpe.model:   0%|          | 0.00/5.07M [00:00<?, ?B/s]"
            ],
            "application/vnd.jupyter.widget-view+json": {
              "version_major": 2,
              "version_minor": 0,
              "model_id": "a20344aa9b614776bcf0c320e2b1ec13"
            }
          },
          "metadata": {}
        },
        {
          "output_type": "display_data",
          "data": {
            "text/plain": [
              "special_tokens_map.json:   0%|          | 0.00/649 [00:00<?, ?B/s]"
            ],
            "application/vnd.jupyter.widget-view+json": {
              "version_major": 2,
              "version_minor": 0,
              "model_id": "06943e92a5844d1ba367ee10ceb15abd"
            }
          },
          "metadata": {}
        },
        {
          "output_type": "stream",
          "name": "stderr",
          "text": [
            "/usr/local/lib/python3.12/dist-packages/transformers/generation/utils.py:1715: UserWarning: You have modified the pretrained model configuration to control generation. This is a deprecated strategy to control generation and will be removed in v5. Please use and modify the model generation configuration (see https://huggingface.co/docs/transformers/generation_strategies#default-text-generation-configuration )\n",
            "  warnings.warn(\n"
          ]
        },
        {
          "output_type": "stream",
          "name": "stdout",
          "text": [
            "MODEL GENERATION - ZERO SHOT:\n",
            "برای پخت قرمه سبزی پس از تهیه سبزی تازه ، ابتدا باید سبزی ها را بشوریم و خرد کنیم ، سبزی را با روغن سرخ کرده و در انتها به آن نمک و فلفل و زردچوبه اضافه کنیم\n",
            "\n"
          ]
        }
      ]
    },
    {
      "cell_type": "code",
      "source": [],
      "metadata": {
        "id": "Z3IsiYUkk7wn"
=======
      "source": [],
      "metadata": {
        "id": "1Ig-HmYAii9v"
>>>>>>> 3ad88153a83e156acf1cc19a810547079df4f36e
      },
      "execution_count": null,
      "outputs": []
    }
  ]
}